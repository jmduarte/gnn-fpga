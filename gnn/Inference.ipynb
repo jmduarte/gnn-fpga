{
 "cells": [
  {
   "cell_type": "code",
   "execution_count": 31,
   "metadata": {},
   "outputs": [],
   "source": [
    "import numpy as np\n",
    "import torch\n",
    "import torch.nn as nn\n",
    "\n",
    "from model import SegmentClassifier\n",
    "from estimator import Estimator\n",
    "from graph import load_graphs, SparseGraph, graph_from_sparse\n",
    "feature_scale = np.array([1000., np.pi/8, 1000.])\n",
    "n_features = feature_scale.shape[0]\n",
    "\n",
    "cuda = False"
   ]
  },
  {
   "cell_type": "code",
   "execution_count": 32,
   "metadata": {},
   "outputs": [],
   "source": [
    "if cuda:\n",
    "    np_to_torch = lambda x, volatile=False, dtype=np.float32: (torch.tensor(x.astype(dtype), requires_grad=False).cuda())\n",
    "else:\n",
    "    np_to_torch = lambda x, volatile=False, dtype=np.float32: (torch.tensor(x.astype(dtype), requires_grad=False))\n",
    "\n",
    "if cuda:\n",
    "    torch_to_np = lambda x: x.cpu().numpy()\n",
    "else:\n",
    "    torch_to_np = lambda x: x.detach().numpy()"
   ]
  },
  {
   "cell_type": "code",
   "execution_count": 33,
   "metadata": {},
   "outputs": [
    {
     "name": "stdout",
     "output_type": "stream",
     "text": [
      "2018-08-20 14:55:08.105840 Model: \n",
      "SegmentClassifier(\n",
      "  (input_network): Sequential(\n",
      "    (0): Linear(in_features=3, out_features=4, bias=True)\n",
      "    (1): Tanh()\n",
      "  )\n",
      "  (edge_network): EdgeNetwork(\n",
      "    (network): Sequential(\n",
      "      (0): Linear(in_features=14, out_features=4, bias=True)\n",
      "      (1): Tanh()\n",
      "      (2): Linear(in_features=4, out_features=1, bias=True)\n",
      "      (3): Sigmoid()\n",
      "    )\n",
      "  )\n",
      "  (node_network): NodeNetwork(\n",
      "    (network): Sequential(\n",
      "      (0): Linear(in_features=21, out_features=4, bias=True)\n",
      "      (1): Tanh()\n",
      "      (2): Linear(in_features=4, out_features=4, bias=True)\n",
      "      (3): Tanh()\n",
      "    )\n",
      "  )\n",
      ")\n",
      "2018-08-20 14:55:08.106136 Parameters: 189\n"
     ]
    }
   ],
   "source": [
    "hidden_dim = 4\n",
    "n_iters = 1\n",
    "model = SegmentClassifier(input_dim=n_features, hidden_dim=hidden_dim, n_iters=n_iters)\n",
    "estim = Estimator(model, loss_func=nn.BCELoss(), cuda=cuda, l1= 0)\n",
    "#estim.load_checkpoint('small_model/model_3_1iteration.pt')\n",
    "estim.load_checkpoint('small_model/model_1iteration.pt')"
   ]
  },
  {
   "cell_type": "code",
   "execution_count": 34,
   "metadata": {},
   "outputs": [
    {
     "name": "stdout",
     "output_type": "stream",
     "text": [
      "torch.Size([1, 4, 3])\n",
      "torch.Size([1, 4, 7])\n",
      "torch.Size([1, 4, 4])\n",
      "torch.Size([1, 4, 7])\n",
      "torch.Size([1, 4, 4])\n",
      "torch.Size([1, 4, 7])\n",
      "tensor([[ 0.9993,  0.0009,  0.0009,  0.9997]])\n"
     ]
    }
   ],
   "source": [
    "#graph = load_graphs(['small_model_10graphs_2/graph000001.npz'], SparseGraph)\n",
    "graph = load_graphs(['small_model_graphs/graph000001.npz'], SparseGraph)\n",
    "\n",
    "g = graph[0]\n",
    "g = graph_from_sparse(g)\n",
    "\n",
    "X = np_to_torch(g.X, volatile=False)\n",
    "Ri = np_to_torch(g.Ri, volatile=False) \n",
    "Ro = np_to_torch(g.Ro, volatile=False)\n",
    "\n",
    "X = X.view(1, X.shape[0], X.shape[1])\n",
    "Ri = Ri.view(1, Ri.shape[0], Ri.shape[1])\n",
    "Ro = Ro.view(1, Ro.shape[0], Ro.shape[1])\n",
    "edge_net = model.forward([X, Ri, Ro]) \n",
    "print(edge_net)"
   ]
  }
 ],
 "metadata": {
  "kernelspec": {
   "display_name": "Python 3",
   "language": "python",
   "name": "python3"
  },
  "language_info": {
   "codemirror_mode": {
    "name": "ipython",
    "version": 3
   },
   "file_extension": ".py",
   "mimetype": "text/x-python",
   "name": "python",
   "nbconvert_exporter": "python",
   "pygments_lexer": "ipython3",
   "version": "3.6.5"
  }
 },
 "nbformat": 4,
 "nbformat_minor": 2
}
