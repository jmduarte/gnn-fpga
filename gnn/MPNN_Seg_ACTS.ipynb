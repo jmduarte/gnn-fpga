{
 "cells": [
  {
   "cell_type": "markdown",
   "metadata": {},
   "source": [
    "# Message passing neural network for segment classification on ACTS data\n",
    "\n",
    "In this notebook we'll implement a model similar to the Interaction Networks model:\n",
    "https://arxiv.org/abs/1612.00222\n",
    "\n",
    "The model will consider a graph of connected hits and try to determine which edges are real and which are spurious."
   ]
  },
  {
   "cell_type": "code",
   "execution_count": 1,
   "metadata": {},
   "outputs": [],
   "source": [
    "# Training concurrency\n",
    "import os\n",
    "os.environ['OMP_NUM_THREADS'] = '2'\n",
    "os.environ['CUDA_VISIBLE_DEVICES'] = ''\n",
    "\n",
    "cuda = False"
   ]
  },
  {
   "cell_type": "code",
   "execution_count": 2,
   "metadata": {},
   "outputs": [],
   "source": [
    "%load_ext autoreload\n",
    "%autoreload 2\n",
    "\n",
    "# System imports\n",
    "from __future__ import print_function\n",
    "import os\n",
    "import multiprocessing as mp\n",
    "from timeit import default_timer as timer\n",
    "\n",
    "# Externals\n",
    "import numpy as np\n",
    "import pandas as pd\n",
    "import matplotlib.pyplot as plt\n",
    "import sklearn.metrics\n",
    "from sklearn.model_selection import train_test_split\n",
    "\n",
    "# Torch imports\n",
    "import torch\n",
    "import torch.nn as nn\n",
    "import torch.nn.functional as F\n",
    "\n",
    "device = torch.device(\"cuda\" if cuda else \"cpu\")\n",
    "\n",
    "# Local imports\n",
    "from acts import process_hits_files, select_barrel_hits, select_hits\n",
    "from graph import load_graphs, SparseGraph, feature_scale, graph_from_sparse\n",
    "from model import SegmentClassifier\n",
    "from estimator import Estimator\n",
    "\n",
    "\n",
    "%matplotlib notebook"
   ]
  },
  {
   "cell_type": "code",
   "execution_count": 3,
   "metadata": {},
   "outputs": [],
   "source": [
    "if cuda:\n",
    "    np_to_torch = lambda x, volatile=False, dtype=np.float32: (torch.tensor(x.astype(dtype), requires_grad=False).cuda())\n",
    "else:\n",
    "    np_to_torch = lambda x, volatile=False, dtype=np.float32: (torch.tensor(x.astype(dtype), requires_grad=False))\n",
    "\n",
    "if cuda:\n",
    "    torch_to_np = lambda x: x.cpu().numpy()\n",
    "else:\n",
    "    torch_to_np = lambda x: x.detach().numpy()"
   ]
  },
  {
   "cell_type": "markdown",
   "metadata": {},
   "source": [
    "## Data utilities"
   ]
  },
  {
   "cell_type": "code",
   "execution_count": null,
   "metadata": {},
   "outputs": [],
   "source": []
  },
  {
   "cell_type": "markdown",
   "metadata": {},
   "source": [
    "## Prepare the data"
   ]
  },
  {
   "cell_type": "code",
   "execution_count": 4,
   "metadata": {},
   "outputs": [],
   "source": [
    "input_dir = '/data/ntran/prod_mu10_pt1000_2017_07_29'"
   ]
  },
  {
   "cell_type": "code",
   "execution_count": 5,
   "metadata": {},
   "outputs": [],
   "source": [
    "all_files = os.listdir(input_dir)\n",
    "hits_files = sorted(f for f in all_files if f.startswith('clusters'))\n",
    "\n",
    "n_files = 1\n",
    "hits_files = [os.path.join(input_dir, hf) for hf in hits_files[:n_files]]"
   ]
  },
  {
   "cell_type": "code",
   "execution_count": 6,
   "metadata": {},
   "outputs": [
    {
     "name": "stdout",
     "output_type": "stream",
     "text": [
      "Loading /data/ntran/prod_mu10_pt1000_2017_07_29/clusters_1.csv\n",
      "Applying selections\n",
      "CPU times: user 93.6 ms, sys: 63.1 ms, total: 157 ms\n",
      "Wall time: 1min\n"
     ]
    }
   ],
   "source": [
    "%%time\n",
    "\n",
    "n_workers = 4\n",
    "with mp.Pool(processes=n_workers) as pool:\n",
    "    hits = process_hits_files(hits_files, pool)\n",
    "    print('Applying selections')\n",
    "    hits = pool.map(select_hits, hits)\n",
    "\n",
    "# Concatenate everything together\n",
    "hits = pd.concat(hits, ignore_index=True)"
   ]
  },
  {
   "cell_type": "markdown",
   "metadata": {},
   "source": [
    "### Construct the dataset"
   ]
  },
  {
   "cell_type": "code",
   "execution_count": 7,
   "metadata": {},
   "outputs": [
    {
     "data": {
      "text/plain": [
       "(13499, 2)"
      ]
     },
     "execution_count": 7,
     "metadata": {},
     "output_type": "execute_result"
    }
   ],
   "source": [
    "# Select the particle keys\n",
    "particle_keys = hits[['evtid', 'barcode']].drop_duplicates().values\n",
    "np.random.shuffle(particle_keys)\n",
    "particle_keys.shape"
   ]
  },
  {
   "cell_type": "code",
   "execution_count": 8,
   "metadata": {},
   "outputs": [
    {
     "name": "stdout",
     "output_type": "stream",
     "text": [
      "Preparing 899 samples with 15 tracks each\n"
     ]
    }
   ],
   "source": [
    "# Data config\n",
    "n_tracks = 15\n",
    "n_samples = particle_keys.shape[0] // n_tracks\n",
    "feature_names = ['r', 'phi', 'z']\n",
    "n_features = len(feature_names)\n",
    "feature_scale = np.array([1000., np.pi, 1000.])\n",
    "print('Preparing', n_samples, 'samples with', n_tracks, 'tracks each')\n",
    "assert n_samples <= (particle_keys.shape[0] // n_tracks), 'Not enough tracks!'"
   ]
  },
  {
   "cell_type": "code",
   "execution_count": 9,
   "metadata": {},
   "outputs": [
    {
     "data": {
      "text/plain": [
       "(150, 2025)"
      ]
     },
     "execution_count": 9,
     "metadata": {},
     "output_type": "execute_result"
    }
   ],
   "source": [
    "# Fixed number of hits and edges per sample in this dataset\n",
    "n_det_layers = hits.layer.unique().shape[0]\n",
    "n_hits = n_tracks * n_det_layers\n",
    "n_edges = n_tracks**2 * (n_det_layers - 1)\n",
    "edge_idx = np.arange(n_edges)\n",
    "n_hits, n_edges"
   ]
  },
  {
   "cell_type": "code",
   "execution_count": 10,
   "metadata": {},
   "outputs": [],
   "source": [
    "# Pre-allocate the dataset storage\n",
    "full_X = np.zeros((n_samples, n_hits, n_features))\n",
    "full_Ri = np.zeros((n_samples, n_hits, n_edges), dtype=np.uint8)\n",
    "full_Ro = np.zeros((n_samples, n_hits, n_edges), dtype=np.uint8)\n",
    "full_y = np.zeros((n_samples, n_edges), dtype=np.uint8)"
   ]
  },
  {
   "cell_type": "code",
   "execution_count": 11,
   "metadata": {},
   "outputs": [
    {
     "name": "stdout",
     "output_type": "stream",
     "text": [
      "CPU times: user 6.34 s, sys: 46.3 ms, total: 6.38 s\n",
      "Wall time: 6.36 s\n"
     ]
    }
   ],
   "source": [
    "%%time\n",
    "\n",
    "sig_groups = hits.groupby(['evtid', 'barcode'])\n",
    "\n",
    "# Loop over samples\n",
    "for i in range(n_samples):\n",
    "    # Pick out the particles for this sample\n",
    "    sample_keys = particle_keys[i*n_tracks:(i+1)*n_tracks]\n",
    "    sample_hits = pd.concat([sig_groups.get_group(tuple(k)) for k in sample_keys])\n",
    "\n",
    "    # Select adjacent-layer hit pairs.\n",
    "    sample_layers = sample_hits.layer.values\n",
    "    adj_idx = np.stack(np.where((sample_layers[None,:] - sample_layers[:,None]) == 1), axis=1)\n",
    "    \n",
    "    # Fill the adjacency matrices\n",
    "    full_Ri[i, adj_idx[:,1], edge_idx] = 1\n",
    "    full_Ro[i, adj_idx[:,0], edge_idx] = 1\n",
    "    \n",
    "    # Fill the node features\n",
    "    full_X[i] = sample_hits[feature_names].values / feature_scale\n",
    "    \n",
    "    # Fill the edge labels\n",
    "    barcodes = sample_hits.barcode.values\n",
    "    bc_in = np.matmul(barcodes[None], full_Ri[i]).squeeze(0)\n",
    "    bc_out = np.matmul(barcodes[None], full_Ro[i]).squeeze(0)\n",
    "    full_y[i] = (bc_in == bc_out)"
   ]
  },
  {
   "cell_type": "markdown",
   "metadata": {},
   "source": [
    "### Visualize one sample\n",
    "\n",
    "Need to put this code into a function, and write it so it will be easy to use\n",
    "at model evaluation time (e.g., using model representation of the data)."
   ]
  },
  {
   "cell_type": "code",
   "execution_count": 12,
   "metadata": {},
   "outputs": [],
   "source": [
    "def draw_sample(X, Ri, Ro, y, cmap='bwr_r', alpha_labels=False):\n",
    "    \"\"\"\n",
    "    TODO: make segment coloring configurable.\n",
    "    \"\"\"\n",
    "    # Select the i/o node features for each segment\n",
    "    feats_o = X[np.where(Ri.T)[1]]\n",
    "    feats_i = X[np.where(Ro.T)[1]]\n",
    "    # Prepare the figure\n",
    "    fig, (ax0, ax1) = plt.subplots(1, 2, figsize=(9,4))\n",
    "    cmap = plt.get_cmap(cmap)\n",
    "    \n",
    "    # Draw the hits (r, phi, z)\n",
    "    ax0.scatter(X[:,2], X[:,0], c='k')\n",
    "    ax1.scatter(X[:,1], X[:,0], c='k')\n",
    "    \n",
    "    # Draw the segments\n",
    "    for j in range(y.shape[0]):\n",
    "        if alpha_labels:\n",
    "            seg_args = dict(c='k', alpha=float(y[j]))\n",
    "        else:\n",
    "            seg_args = dict(c=cmap(float(y[j])))\n",
    "        ax0.plot([feats_o[j,2], feats_i[j,2]],\n",
    "                 [feats_o[j,0], feats_i[j,0]], '-', **seg_args)\n",
    "        ax1.plot([feats_o[j,1], feats_i[j,1]],\n",
    "                 [feats_o[j,0], feats_i[j,0]], '-', **seg_args)\n",
    "    # Adjust axes\n",
    "    #ax0.set_xlim(-1100, 1100)\n",
    "    ax1.set_xlim(-np.pi, np.pi)\n",
    "    ax0.set_xlabel('$z$ [mm]')\n",
    "    ax1.set_xlabel('$\\phi$ [rad]')\n",
    "    ax0.set_ylabel('$r$ [mm]')\n",
    "    ax1.set_ylabel('$r$ [mm]')\n",
    "    plt.tight_layout()"
   ]
  },
  {
   "cell_type": "code",
   "execution_count": 14,
   "metadata": {},
   "outputs": [
    {
     "data": {
      "image/png": "[encoded data removed]",
      "text/plain": [
       "<Figure size 648x288 with 2 Axes>"
      ]
     },
     "metadata": {},
     "output_type": "display_data"
    }
   ],
   "source": [
    "# Choose a sample to draw\n",
    "i = 0\n",
    "X = full_X[i] * feature_scale\n",
    "Ri, Ro = full_Ri[i], full_Ro[i]\n",
    "y = full_y[i]\n",
    "\n",
    "draw_sample(X, Ri, Ro, y)"
   ]
  },
  {
   "cell_type": "markdown",
   "metadata": {},
   "source": [
    "## Train the model"
   ]
  },
  {
   "cell_type": "code",
   "execution_count": 12,
   "metadata": {},
   "outputs": [],
   "source": [
    "# Develop a batch generator here\n",
    "def batch_generator(X, Ri, Ro, y, n_samples=1, batch_size=1, train=True):\n",
    "    volatile = not train\n",
    "    batch_idxs = np.arange(0, n_samples, batch_size)\n",
    "    # Loop over epochs\n",
    "    while True:\n",
    "        # Loop over batches\n",
    "        for j in batch_idxs:\n",
    "            batch_X = np_to_torch(X[j:j+batch_size], volatile=volatile)\n",
    "            batch_Ri = np_to_torch(Ri[j:j+batch_size], volatile=volatile)\n",
    "            batch_Ro = np_to_torch(Ro[j:j+batch_size], volatile=volatile)\n",
    "            batch_y = np_to_torch(y[j:j+batch_size], volatile=volatile)\n",
    "            batch_inputs = [batch_X, batch_Ri, batch_Ro]\n",
    "            yield batch_inputs, batch_y"
   ]
  },
  {
   "cell_type": "code",
   "execution_count": 13,
   "metadata": {},
   "outputs": [],
   "source": [
    "# Model config\n",
    "hidden_dim = 32\n",
    "n_iters = 4\n",
    "\n",
    "# Training config\n",
    "batch_size = 32\n",
    "n_epochs = 10\n",
    "valid_frac = 0.2\n",
    "test_frac = 0.2"
   ]
  },
  {
   "cell_type": "code",
   "execution_count": 14,
   "metadata": {},
   "outputs": [
    {
     "data": {
      "text/plain": [
       "(576, 160, 160, 896)"
      ]
     },
     "execution_count": 14,
     "metadata": {},
     "output_type": "execute_result"
    }
   ],
   "source": [
    "# We round by batch_size to avoid partial batches\n",
    "n_test = int(n_samples * test_frac) // batch_size * batch_size\n",
    "n_valid = int(n_samples * valid_frac) // batch_size * batch_size\n",
    "n_train = (n_samples - n_valid - n_test) // batch_size * batch_size\n",
    "n_train_batches = n_train // batch_size\n",
    "n_valid_batches = n_valid // batch_size\n",
    "n_test_batches = n_test // batch_size\n",
    "\n",
    "n_train, n_valid, n_test, n_train + n_valid + n_test"
   ]
  },
  {
   "cell_type": "code",
   "execution_count": 15,
   "metadata": {},
   "outputs": [],
   "source": [
    "# Partition the dataset\n",
    "(train_X, test_X, train_Ri, test_Ri, train_Ro, test_Ro, train_y, test_y) = (\n",
    "    train_test_split(full_X, full_Ri, full_Ro, full_y, test_size=n_test))\n",
    "(train_X, valid_X, train_Ri, valid_Ri, train_Ro, valid_Ro, train_y, valid_y) = (\n",
    "    train_test_split(train_X, train_Ri, train_Ro, train_y, test_size=n_valid))"
   ]
  },
  {
   "cell_type": "code",
   "execution_count": 16,
   "metadata": {},
   "outputs": [
    {
     "name": "stdout",
     "output_type": "stream",
     "text": [
      "Train shapes: (579, 150, 3) (579, 150, 2025) (579, 150, 2025) (579, 2025)\n",
      "Valid shapes: (160, 150, 3) (160, 150, 2025) (160, 150, 2025) (160, 2025)\n",
      "Test shapes:  (160, 150, 3) (160, 150, 2025) (160, 150, 2025) (160, 2025)\n"
     ]
    }
   ],
   "source": [
    "print('Train shapes:', train_X.shape, train_Ri.shape, train_Ro.shape, train_y.shape)\n",
    "print('Valid shapes:', valid_X.shape, valid_Ri.shape, valid_Ro.shape, valid_y.shape)\n",
    "print('Test shapes: ', test_X.shape, test_Ri.shape, test_Ro.shape, test_y.shape)"
   ]
  },
  {
   "cell_type": "code",
   "execution_count": 17,
   "metadata": {},
   "outputs": [],
   "source": [
    "# Prepare the batch generators\n",
    "train_batcher = batch_generator(train_X, train_Ri, train_Ro, train_y,\n",
    "                                n_samples=n_train, batch_size=batch_size)\n",
    "valid_batcher = batch_generator(valid_X, valid_Ri, valid_Ro, valid_y, train=False,\n",
    "                                n_samples=n_valid, batch_size=batch_size)"
   ]
  },
  {
   "cell_type": "code",
   "execution_count": 18,
   "metadata": {},
   "outputs": [
    {
     "data": {
      "text/plain": [
       "\"threshold = .001\\n%matplotlib inline\\n\\nmodel = SegmentClassifier(input_dim=n_features, hidden_dim=hidden_dim, n_iters=n_iters, masks_e=None, masks_n=None)\\nloss_func = nn.BCELoss()\\nestim = Estimator(model, loss_func=loss_func, cuda=cuda)\\nestim.load_checkpoint('/home/sjenkins/ML/gnn-fpga-v2/gnn/Prune/0v2.pt')\\n\\ndef summer(arr, net_name):\\n    arr_f = arr.flatten()\\n    sum_n = sum(arr_f)\\n    print(net_name, 'Network Sum:', sum_n)\\n\\nwith torch.no_grad():\\n    # Edge Networks\\n    #print(model.edge_network.network[0].weight)\\n    #print(model.edge_network.network[0].weight.shape)\\n    arr_e = torch_to_np(model.edge_network.network[0].weight)\\n    arr_e = (np.abs(arr_e) > threshold)*1\\n    summer(arr_e, 'Edge')\\n\\n\\n    arr_e2 = torch_to_np(model.edge_network.network[2].weight)\\n    arr_e2 = (np.abs(arr_e2) > threshold)*1\\n    summer(arr_e2, 'Edge2')\\n    \\n    \\n    # Node Networks\\n    arr_n = torch_to_np(model.node_network.network[0].weight)\\n    #print(model.node_network.network[0].weight.shape)\\n    arr_n = (np.abs(arr_n) > threshold)*1\\n    summer(arr_n, 'Node')\\n\\n    \\n    arr_n2 = torch_to_np(model.node_network.network[2].weight)\\n    #print(model.node_network.network[2].weight.shape)\\n    arr_n2 = (np.abs(arr_n2) > threshold)*1\\n    summer(arr_n2, 'Node2')\\n    \\n    mask_e = [np_to_torch(arr_e), np_to_torch(arr_e2)]\\n    mask_n = [np_to_torch(arr_n), np_to_torch(arr_n2)]\""
      ]
     },
     "execution_count": 18,
     "metadata": {},
     "output_type": "execute_result"
    }
   ],
   "source": [
    "threshold = .001\n",
    "%matplotlib inline\n",
    "\n",
    "model = SegmentClassifier(input_dim=n_features, hidden_dim=hidden_dim, n_iters=n_iters, masks_e=None, masks_n=None)\n",
    "loss_func = nn.BCELoss()\n",
    "estim = Estimator(model, loss_func=loss_func, cuda=cuda)\n",
    "estim.load_checkpoint('/home/sjenkins/ML/gnn-fpga-v2/gnn/Prune/0v2.pt')\n",
    "\n",
    "def summer(arr, net_name):\n",
    "    arr_f = arr.flatten()\n",
    "    sum_n = sum(arr_f)\n",
    "    print(net_name, 'Network Sum:', sum_n)\n",
    "\n",
    "with torch.no_grad():\n",
    "    # Edge Networks\n",
    "    #print(model.edge_network.network[0].weight)\n",
    "    #print(model.edge_network.network[0].weight.shape)\n",
    "    arr_e = torch_to_np(model.edge_network.network[0].weight)\n",
    "    arr_e = (np.abs(arr_e) > threshold)*1\n",
    "    summer(arr_e, 'Edge')\n",
    "\n",
    "\n",
    "    arr_e2 = torch_to_np(model.edge_network.network[2].weight)\n",
    "    arr_e2 = (np.abs(arr_e2) > threshold)*1\n",
    "    summer(arr_e2, 'Edge2')\n",
    "    \n",
    "    \n",
    "    # Node Networks\n",
    "    arr_n = torch_to_np(model.node_network.network[0].weight)\n",
    "    #print(model.node_network.network[0].weight.shape)\n",
    "    arr_n = (np.abs(arr_n) > threshold)*1\n",
    "    summer(arr_n, 'Node')\n",
    "\n",
    "    \n",
    "    arr_n2 = torch_to_np(model.node_network.network[2].weight)\n",
    "    #print(model.node_network.network[2].weight.shape)\n",
    "    arr_n2 = (np.abs(arr_n2) > threshold)*1\n",
    "    summer(arr_n2, 'Node2')\n",
    "    \n",
    "    mask_e = [np_to_torch(arr_e), np_to_torch(arr_e2)]\n",
    "    mask_n = [np_to_torch(arr_n), np_to_torch(arr_n2)]"
   ]
  },
  {
   "cell_type": "code",
   "execution_count": 20,
   "metadata": {},
   "outputs": [
    {
     "name": "stdout",
     "output_type": "stream",
     "text": [
      "2018-07-19 10:52:59.142265 Model: \n",
      "SegmentClassifier(\n",
      "  (input_network): Sequential(\n",
      "    (0): Linear(in_features=3, out_features=32, bias=True)\n",
      "    (1): Tanh()\n",
      "  )\n",
      "  (edge_network): EdgeNetwork(\n",
      "    (network): Sequential(\n",
      "      (0): Linear(in_features=70, out_features=32, bias=True)\n",
      "      (1): Tanh()\n",
      "      (2): Linear(in_features=32, out_features=1, bias=True)\n",
      "      (3): Sigmoid()\n",
      "    )\n",
      "  )\n",
      "  (node_network): NodeNetwork(\n",
      "    (network): Sequential(\n",
      "      (0): Linear(in_features=105, out_features=32, bias=True)\n",
      "      (1): Tanh()\n",
      "      (2): Linear(in_features=32, out_features=32, bias=True)\n",
      "      (3): Tanh()\n",
      "    )\n",
      "  )\n",
      ")\n",
      "2018-07-19 10:52:59.143104 Parameters: 6881\n"
     ]
    }
   ],
   "source": [
    "# Construct the model\n",
    "model = SegmentClassifier(input_dim=n_features, hidden_dim=hidden_dim, n_iters=n_iters)# masks_e=mask_e, masks_n=mask_n)\n",
    "loss_func = nn.BCELoss()\n",
    "estim = Estimator(model, loss_func=loss_func, cuda=cuda)"
   ]
  },
  {
   "cell_type": "code",
   "execution_count": 23,
   "metadata": {},
   "outputs": [],
   "source": [
    "estim.load_checkpoint('/home/sjenkins/ML/gnn-fpga-v2/gnn/Prune/00005v2.pt')"
   ]
  },
  {
   "cell_type": "code",
   "execution_count": 33,
   "metadata": {
    "scrolled": true
   },
   "outputs": [
    {
     "name": "stdout",
     "output_type": "stream",
     "text": [
      "2018-07-17 10:02:08.285158 Epoch 20\n",
      "2018-07-17 10:05:28.839506   training loss 0.25 time 200.554s\n",
      "2018-07-17 10:05:53.009328   validate loss 0.247\n",
      "2018-07-17 10:05:53.009588  save checkpoint\n",
      "2018-07-17 10:05:53.010833 Epoch 21\n",
      "2018-07-17 10:09:17.937101   training loss 0.25 time 204.926s\n",
      "2018-07-17 10:09:47.080048   validate loss 0.247\n",
      "2018-07-17 10:09:47.080131  save checkpoint\n",
      "2018-07-17 10:09:47.081332 Epoch 22\n",
      "2018-07-17 10:13:38.703928   training loss 0.25 time 231.623s\n",
      "2018-07-17 10:14:02.857443   validate loss 0.247\n",
      "2018-07-17 10:14:02.857538  save checkpoint\n",
      "2018-07-17 10:14:02.858957 Epoch 23\n",
      "2018-07-17 10:17:46.447083   training loss 0.25 time 223.588s\n",
      "2018-07-17 10:18:09.199605   validate loss 0.247\n",
      "2018-07-17 10:18:09.199675  save checkpoint\n",
      "2018-07-17 10:18:09.201002 Epoch 24\n",
      "2018-07-17 10:21:59.511554   training loss 0.25 time 230.31s\n",
      "2018-07-17 10:22:29.033331   validate loss 0.247\n",
      "2018-07-17 10:22:29.033422  save checkpoint\n",
      "2018-07-17 10:22:29.034710 Epoch 25\n",
      "2018-07-17 10:26:18.155903   training loss 0.25 time 229.121s\n",
      "2018-07-17 10:26:48.069729   validate loss 0.247\n",
      "2018-07-17 10:26:48.069812  save checkpoint\n",
      "2018-07-17 10:26:48.071188 Epoch 26\n",
      "2018-07-17 10:30:44.183729   training loss 0.25 time 236.112s\n",
      "2018-07-17 10:31:14.100887   validate loss 0.247\n",
      "2018-07-17 10:31:14.101199  save checkpoint\n",
      "2018-07-17 10:31:14.102311 Epoch 27\n",
      "2018-07-17 10:35:02.051021   training loss 0.25 time 227.949s\n",
      "2018-07-17 10:35:28.079605   validate loss 0.247\n",
      "2018-07-17 10:35:28.079709  save checkpoint\n",
      "2018-07-17 10:35:28.081301 Epoch 28\n",
      "2018-07-17 10:39:20.869349   training loss 0.25 time 232.788s\n",
      "2018-07-17 10:39:45.936422   validate loss 0.247\n",
      "2018-07-17 10:39:45.936506  save checkpoint\n",
      "2018-07-17 10:39:45.937736 Epoch 29\n",
      "2018-07-17 10:43:33.408957   training loss 0.25 time 227.471s\n",
      "2018-07-17 10:44:06.637868   validate loss 0.247\n",
      "2018-07-17 10:44:06.637974  save checkpoint\n"
     ]
    }
   ],
   "source": [
    "estim.fit_gen(train_batcher, n_batches=n_train_batches, n_epochs=n_epochs,\n",
    "              valid_generator=valid_batcher, n_valid_batches=n_valid_batches, \n",
    "              filename='Prune/pruned1e-5mask.pt')"
   ]
  },
  {
   "cell_type": "code",
   "execution_count": null,
   "metadata": {},
   "outputs": [],
   "source": [
    "#estim.load_checkpoint('/home/sjenkins/ML/gnn-fpga-v2/gnn/Prune/0001.pt')"
   ]
  },
  {
   "cell_type": "markdown",
   "metadata": {},
   "source": [
    "### Loss curves"
   ]
  },
  {
   "cell_type": "code",
   "execution_count": 24,
   "metadata": {},
   "outputs": [
    {
     "data": {
      "image/png": "[encoded data removed]",
      "text/plain": [
       "<Figure size 432x288 with 1 Axes>"
      ]
     },
     "metadata": {},
     "output_type": "display_data"
    }
   ],
   "source": [
    "# Plot the loss\n",
    "plt.figure()\n",
    "plt.plot(estim.train_losses, label='training set')\n",
    "plt.plot(estim.valid_losses, label='validation set')\n",
    "plt.xlabel('Epoch')\n",
    "plt.ylabel('Loss')\n",
    "#plt.xlim(40,60)\n",
    "#plt.ylim(.0767,.0773)\n",
    "plt.legend(loc=0);"
   ]
  },
  {
   "cell_type": "markdown",
   "metadata": {},
   "source": [
    "## Evaluate model on the test set"
   ]
  },
  {
   "cell_type": "code",
   "execution_count": 35,
   "metadata": {},
   "outputs": [],
   "source": [
    "if cuda:\n",
    "    torch.cuda.empty_cache()"
   ]
  },
  {
   "cell_type": "code",
   "execution_count": 98,
   "metadata": {},
   "outputs": [],
   "source": [
    "estim.load_checkpoint('/home/sjenkins/ML/gnn-fpga-v2/gnn/Prune/001.pt')"
   ]
  },
  {
   "cell_type": "code",
   "execution_count": 99,
   "metadata": {},
   "outputs": [],
   "source": [
    "# prepare test generator\n",
    "with torch.no_grad():\n",
    "    test_batcher = batch_generator(test_X, test_Ri, test_Ro, test_y, train=False,\n",
    "                                   n_samples=n_test, batch_size=batch_size)\n",
    "    test_pred = torch_to_np(estim.predict(test_batcher, n_test_batches))"
   ]
  },
  {
   "cell_type": "code",
   "execution_count": 72,
   "metadata": {},
   "outputs": [],
   "source": [
    "def makeROC(test_y, test_pred, thresh=0.5):\n",
    "    flat_y = test_y.flatten()\n",
    "    flat_pred = test_pred.flatten()\n",
    "\n",
    "    print('Test set results with threshold of', thresh)\n",
    "    print('Accuracy:  %.4f' % sklearn.metrics.accuracy_score(flat_y, flat_pred>thresh))\n",
    "    print('Precision: %.4f' % sklearn.metrics.precision_score(flat_y, flat_pred>thresh))\n",
    "    print('Recall:    %.4f' % sklearn.metrics.recall_score(flat_y, flat_pred>thresh))\n",
    "    \n",
    "    # Compute the ROC curve\n",
    "    fpr, tpr, _ = sklearn.metrics.roc_curve(flat_y, flat_pred)\n",
    "    \n",
    "    plt.figure(figsize=(12,3))\n",
    "\n",
    "    # Plot the model outputs\n",
    "    plt.subplot(131)\n",
    "    binning=dict(bins=50, range=(0,1), histtype='bar')\n",
    "    plt.hist(flat_pred[flat_y<thresh], label='fake', **binning)\n",
    "    plt.hist(flat_pred[flat_y>thresh], label='true', **binning)\n",
    "    #plt.xlim(.1,.125)\n",
    "    plt.xlabel('Model output')\n",
    "    plt.legend(loc=0)\n",
    "\n",
    "    # Plot the ROC curve\n",
    "    plt.subplot(132)\n",
    "    plt.plot(fpr, tpr)\n",
    "    plt.plot([0, 1], [0, 1], '--')\n",
    "    plt.xlabel('False positive rate')\n",
    "    plt.ylabel('True positive rate')\n",
    "    plt.title('ROC curve')\n",
    "\n",
    "    # Plot the ROC curve\n",
    "    plt.subplot(133)\n",
    "    plt.semilogx(fpr, tpr)\n",
    "    #plt.plot([0, 1], [0, 1], '--')\n",
    "    plt.xlabel('False positive rate')\n",
    "    plt.ylabel('True positive rate')\n",
    "    plt.xlim(0, 1)\n",
    "    plt.title('ROC curve')\n",
    "\n",
    "    plt.tight_layout()"
   ]
  },
  {
   "cell_type": "code",
   "execution_count": 100,
   "metadata": {},
   "outputs": [
    {
     "name": "stdout",
     "output_type": "stream",
     "text": [
      "BEFORE Masking\n",
      "Test set results with threshold of 0.5\n",
      "Accuracy:  0.9324\n",
      "Precision: 0.0000\n",
      "Recall:    0.0000\n"
     ]
    },
    {
     "name": "stderr",
     "output_type": "stream",
     "text": [
      "/home/sjenkins/miniconda3/envs/pytorch-training/lib/python3.6/site-packages/sklearn/metrics/classification.py:1135: UndefinedMetricWarning: Precision is ill-defined and being set to 0.0 due to no predicted samples.\n",
      "  'precision', 'predicted', average, warn_for)\n",
      "/home/sjenkins/miniconda3/envs/pytorch-training/lib/python3.6/site-packages/matplotlib/axes/_base.py:3129: UserWarning: Attempted to set non-positive xlimits for log-scale axis; invalid limits will be ignored.\n",
      "  'Attempted to set non-positive xlimits for log-scale axis; '\n"
     ]
    },
    {
     "data": {
      "image/png": "[encoded data removed]",
      "text/plain": [
       "<Figure size 864x216 with 3 Axes>"
      ]
     },
     "metadata": {},
     "output_type": "display_data"
    }
   ],
   "source": [
    "print('BEFORE Masking')\n",
    "makeROC(test_y, test_pred)"
   ]
  },
  {
   "cell_type": "code",
   "execution_count": 49,
   "metadata": {},
   "outputs": [
    {
     "name": "stdout",
     "output_type": "stream",
     "text": [
      "Parameter containing:\n",
      "tensor([[ 1.7495e-04,  1.4459e-04,  1.1631e-04,  ..., -1.8033e-02,\n",
      "         -3.2216e+00,  1.7406e-03],\n",
      "        [-1.0978e-04,  1.0230e-04,  4.1613e-05,  ...,  1.6546e-02,\n",
      "         -7.1849e-01, -1.9874e-03],\n",
      "        [ 2.1522e-04, -3.0008e-04, -1.6043e-04,  ...,  3.0286e-04,\n",
      "         -6.5783e-02,  4.0403e-04],\n",
      "        ...,\n",
      "        [-2.6454e-04, -9.3102e-05, -3.3954e-05,  ..., -6.4469e-05,\n",
      "          2.5793e-07, -1.9129e-06],\n",
      "        [ 2.3279e-04,  3.5655e-06,  5.0537e-05,  ..., -8.6343e-05,\n",
      "          5.6277e-05,  7.6040e-05],\n",
      "        [-8.9185e-05, -4.6916e-05, -2.2985e-05,  ..., -6.2400e-05,\n",
      "         -1.4161e-04, -4.3004e-05]])\n",
      "torch.Size([32, 70])\n",
      "Edge Network Sum: 372\n",
      "Parameter containing:\n",
      "tensor([[ 0.0000,  0.0000,  0.0000,  ..., -0.0180, -3.2216,  0.0017],\n",
      "        [-0.0000,  0.0000,  0.0000,  ...,  0.0165, -0.7185, -0.0020],\n",
      "        [ 0.0000, -0.0000, -0.0000,  ...,  0.0000, -0.0658,  0.0000],\n",
      "        ...,\n",
      "        [-0.0000, -0.0000, -0.0000,  ..., -0.0000,  0.0000, -0.0000],\n",
      "        [ 0.0000,  0.0000,  0.0000,  ..., -0.0000,  0.0000,  0.0000],\n",
      "        [-0.0000, -0.0000, -0.0000,  ..., -0.0000, -0.0000, -0.0000]])\n",
      "Edge2 Network Sum: 14\n",
      "torch.Size([32, 105])\n",
      "Node Network Sum: 642\n",
      "torch.Size([32, 32])\n",
      "Node2 Network Sum: 159\n"
     ]
    }
   ],
   "source": [
    "#mask\n",
    "\n",
    "'''threshold = .001\n",
    "%matplotlib inline\n",
    "\n",
    "def summer(arr, net_name):\n",
    "    arr_f = arr.flatten()\n",
    "    sum_n = sum(arr_f)\n",
    "    print(net_name, 'Network Sum:', sum_n)\n",
    "\n",
    "with torch.no_grad():\n",
    "    # Edge Networks\n",
    "    print(model.edge_network.network[0].weight)\n",
    "    print(model.edge_network.network[0].weight.shape)\n",
    "    arr_e = torch_to_np(model.edge_network.network[0].weight)\n",
    "    arr_e = (np.abs(arr_e) > threshold)*1\n",
    "    summer(arr_e, 'Edge')\n",
    "    # mask\n",
    "    masked_weight = torch.nn.Parameter(model.edge_network.network[0].weight * np_to_torch(arr_e))\n",
    "    model.edge_network.network[0].weight = masked_weight\n",
    "    print(model.edge_network.network[0].weight)\n",
    "\n",
    "    arr_e2 = torch_to_np(model.edge_network.network[2].weight)\n",
    "    # Original size = 32\n",
    "    arr_e2 = (np.abs(arr_e2) > threshold)*1\n",
    "    summer(arr_e2, 'Edge2')\n",
    "    # mask\n",
    "    masked_weight = torch.nn.Parameter(model.edge_network.network[2].weight * np_to_torch(arr_e2))\n",
    "    model.edge_network.network[2].weight = masked_weight\n",
    "    \n",
    "    # Node Networks\n",
    "    arr_n = torch_to_np(model.node_network.network[0].weight)\n",
    "    print(model.node_network.network[0].weight.shape)\n",
    "    arr_n = (np.abs(arr_n) > threshold)*1\n",
    "    summer(arr_n, 'Node')\n",
    "    # mask\n",
    "    masked_weight = torch.nn.Parameter(model.node_network.network[0].weight * np_to_torch(arr_n))\n",
    "    model.node_network.network[0].weight = masked_weight\n",
    "    \n",
    "    arr_n2 = torch_to_np(model.node_network.network[2].weight)\n",
    "    print(model.node_network.network[2].weight.shape)\n",
    "    arr_n2 = (np.abs(arr_n2) > threshold)*1\n",
    "    summer(arr_n2, 'Node2')\n",
    "    # mask\n",
    "    masked_weight = torch.nn.Parameter(model.node_network.network[2].weight * np_to_torch(arr_n2))\n",
    "    model.node_network.network[2].weight = masked_weight'''"
   ]
  },
  {
   "cell_type": "code",
   "execution_count": 52,
   "metadata": {},
   "outputs": [],
   "source": [
    "%matplotlib inline\n",
    " \n",
    "def plotLayerWeights(layer, plotTitle='Network'):\n",
    "    with torch.no_grad():\n",
    "        arr = torch_to_np(layer.weight)\n",
    "        arr = arr.flatten()\n",
    "\n",
    "        plt.figure(figsize=(4,4))\n",
    "\n",
    "        #plt.subplot(2,2,1)\n",
    "    \n",
    "        #plt.hist(arr, bins=100, range=(-.0002,.0002))\n",
    "        #plt.xlabel('Weight')\n",
    "        #plt.ylabel('Frequency')\n",
    "        #plt.title('Network')\n",
    "\n",
    "        #plt.subplot(2,2,2)\n",
    "        #plt.hist(np.abs(arr), bins=100, range=(0,.0002))\n",
    "        #plt.xlabel('|Weight|')\n",
    "        #plt.ylabel('Frequency')\n",
    "        #plt.title('Network-Absolute Value')\n",
    "\n",
    "        #plt.subplot(2,2,3)\n",
    "        #plt.hist(np.abs(arr), bins=1000, range=(2**-11, 2**-0))\n",
    "        #plt.xscale('log',basex=2)\n",
    "        #plt.xlim([2**-13,2**-4])\n",
    "        #plt.xlabel('Weight')\n",
    "        #plt.ylabel('Frequency')\n",
    "        #plt.title('Network-Log2')\n",
    "    \n",
    "        #plt.subplot(2,2,4)\n",
    "        #arr_n = [np.log(x) for x in arr_n]\n",
    "        logbins = np.geomspace(10**-4, 1, 100)\n",
    "        plt.hist(np.abs(arr), logbins)\n",
    "        plt.xscale('log',basex=10)\n",
    "        plt.xlabel('|Weight|')\n",
    "        plt.ylabel('Frequency')\n",
    "        plt.title(plotTitle)\n",
    "\n",
    "        plt.show()"
   ]
  },
  {
   "cell_type": "code",
   "execution_count": 53,
   "metadata": {},
   "outputs": [
    {
     "data": {
      "image/png": "[encoded data removed]",
      "text/plain": [
       "<Figure size 288x288 with 1 Axes>"
      ]
     },
     "metadata": {},
     "output_type": "display_data"
    },
    {
     "data": {
      "image/png": "[encoded data removed]",
      "text/plain": [
       "<Figure size 288x288 with 1 Axes>"
      ]
     },
     "metadata": {},
     "output_type": "display_data"
    },
    {
     "data": {
      "image/png": "[encoded data removed]",
      "text/plain": [
       "<Figure size 288x288 with 1 Axes>"
      ]
     },
     "metadata": {},
     "output_type": "display_data"
    },
    {
     "data": {
      "image/png": "[encoded data removed]",
      "text/plain": [
       "<Figure size 288x288 with 1 Axes>"
      ]
     },
     "metadata": {},
     "output_type": "display_data"
    },
    {
     "data": {
      "image/png": "[encoded data removed]",
      "text/plain": [
       "<Figure size 288x288 with 1 Axes>"
      ]
     },
     "metadata": {},
     "output_type": "display_data"
    }
   ],
   "source": [
    "## NETWORKS \n",
    "plotLayerWeights(model.input_network[0], plotTitle='Input Network')\n",
    "plotLayerWeights(model.edge_network.network[0], plotTitle='Edge Network Layer 1')\n",
    "plotLayerWeights(model.edge_network.network[2], plotTitle='Edge Network Layer 2')\n",
    "plotLayerWeights(model.node_network.network[0], plotTitle='Node Network Layer 1')\n",
    "plotLayerWeights(model.node_network.network[2], plotTitle='Node Network Layer 2')"
   ]
  },
  {
   "cell_type": "markdown",
   "metadata": {},
   "source": [
    "## Visualize some samples"
   ]
  },
  {
   "cell_type": "code",
   "execution_count": null,
   "metadata": {
    "scrolled": false
   },
   "outputs": [],
   "source": [
    "# Draw some samples\n",
    "for i in range(4):\n",
    "    print('accuracy %.3f, precision %.3f, recall %.3f' % (\n",
    "        sklearn.metrics.accuracy_score(test_y[i], test_pred[i]>thresh),\n",
    "        sklearn.metrics.precision_score(test_y[i], test_pred[i]>thresh),\n",
    "        sklearn.metrics.recall_score(test_y[i], test_pred[i]>thresh)))\n",
    "    draw_sample(test_X[i]*feature_scale, test_Ri[i], test_Ro[i], test_pred[i], alpha_labels=True);"
   ]
  },
  {
   "cell_type": "markdown",
   "metadata": {},
   "source": [
    "## Visualize evolution of graph iterations\n",
    "\n",
    "Let's take a sample and pull out the intermediate edge scores during graph iterations.\n",
    "I'd like to visualize how the model converges on its chosen edges."
   ]
  },
  {
   "cell_type": "code",
   "execution_count": null,
   "metadata": {},
   "outputs": [],
   "source": [
    "def graph_iter(model, X, H, Ri, Ro):\n",
    "    # Shortcut connections\n",
    "    H = torch.cat([H, X], dim=-1)\n",
    "    # Edge network\n",
    "    e = model.edge_network(H, Ri, Ro)\n",
    "    # Node network\n",
    "    H = model.node_network(H, e, Ri, Ro)\n",
    "    return e, H"
   ]
  },
  {
   "cell_type": "code",
   "execution_count": null,
   "metadata": {},
   "outputs": [],
   "source": [
    "batcher = batch_generator(test_X, test_Ri, test_Ro, test_y, train=False,\n",
    "                          n_samples=1, batch_size=1)"
   ]
  },
  {
   "cell_type": "code",
   "execution_count": null,
   "metadata": {},
   "outputs": [],
   "source": [
    "model = estim.model"
   ]
  },
  {
   "cell_type": "code",
   "execution_count": null,
   "metadata": {},
   "outputs": [],
   "source": [
    "# Pull the inputs from the batcher\n",
    "(X, Ri, Ro), y = next(batcher)"
   ]
  },
  {
   "cell_type": "code",
   "execution_count": null,
   "metadata": {
    "scrolled": false
   },
   "outputs": [],
   "source": [
    "# Apply input network\n",
    "with torch.no_grad():\n",
    "    H = model.input_network(X)\n",
    "\n",
    "    for i in range(model.n_iters + 1):\n",
    "        # Apply an iteration of the graph\n",
    "        e, H = graph_iter(model, X, H, Ri, Ro)\n",
    "\n",
    "        # Draw the edges\n",
    "        draw_sample(torch_to_np(X)[0]*feature_scale,\n",
    "                    torch_to_np(Ri)[0], torch_to_np(Ro)[0],\n",
    "                    torch_to_np(e)[0], alpha_labels=True)"
   ]
  },
  {
   "cell_type": "markdown",
   "metadata": {},
   "source": [
    "## Discussion\n",
    "\n",
    "On 10 tracks and 10 barrel layers, the performance is great!"
   ]
  }
 ],
 "metadata": {
  "kernelspec": {
   "display_name": "Python 3",
   "language": "python",
   "name": "python3"
  },
  "language_info": {
   "codemirror_mode": {
    "name": "ipython",
    "version": 3
   },
   "file_extension": ".py",
   "mimetype": "text/x-python",
   "name": "python",
   "nbconvert_exporter": "python",
   "pygments_lexer": "ipython3",
   "version": "3.6.5"
  }
 },
 "nbformat": 4,
 "nbformat_minor": 2
}
