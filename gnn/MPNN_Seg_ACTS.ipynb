{
 "cells": [
  {
   "cell_type": "markdown",
   "metadata": {},
   "source": [
    "# Message passing neural network for segment classification on ACTS data\n",
    "\n",
    "In this notebook we'll implement a model similar to the Interaction Networks model:\n",
    "https://arxiv.org/abs/1612.00222\n",
    "\n",
    "The model will consider a graph of connected hits and try to determine which edges are real and which are spurious."
   ]
  },
  {
   "cell_type": "code",
   "execution_count": 1,
   "metadata": {},
   "outputs": [],
   "source": [
    "# Training concurrency\n",
    "import os\n",
    "os.environ['OMP_NUM_THREADS'] = '2'\n",
    "os.environ['CUDA_VISIBLE_DEVICES'] = '0'\n",
    "\n",
    "cuda = True"
   ]
  },
  {
   "cell_type": "code",
   "execution_count": 2,
   "metadata": {},
   "outputs": [],
   "source": [
    "%load_ext autoreload\n",
    "%autoreload 2\n",
    "\n",
    "# System imports\n",
    "from __future__ import print_function\n",
    "import os\n",
    "import multiprocessing as mp\n",
    "from timeit import default_timer as timer\n",
    "\n",
    "# Externals\n",
    "import numpy as np\n",
    "import pandas as pd\n",
    "import matplotlib.pyplot as plt\n",
    "import sklearn.metrics\n",
    "from sklearn.model_selection import train_test_split\n",
    "\n",
    "# Torch imports\n",
    "import torch\n",
    "import torch.nn as nn\n",
    "import torch.nn.functional as F\n",
    "\n",
    "device = torch.device(\"cuda\" if cuda else \"cpu\")\n",
    "\n",
    "# Local imports\n",
    "from acts import process_hits_files, select_barrel_hits, select_hits\n",
    "from graph import load_graphs, SparseGraph, graph_from_sparse\n",
    "from model import SegmentClassifier\n",
    "from estimator import Estimator\n",
    "\n",
    "feature_scale = np.array([1000., np.pi/8, 1000.])\n",
    "\n",
    "n_features = feature_scale.shape[0]\n",
    "\n",
    "%matplotlib notebook"
   ]
  },
  {
   "cell_type": "code",
   "execution_count": 3,
   "metadata": {},
   "outputs": [],
   "source": [
    "if cuda:\n",
    "    np_to_torch = lambda x, volatile=False, dtype=np.float32: (torch.tensor(x.astype(dtype), requires_grad=False).cuda())\n",
    "else:\n",
    "    np_to_torch = lambda x, volatile=False, dtype=np.float32: (torch.tensor(x.astype(dtype), requires_grad=False))\n",
    "\n",
    "if cuda:\n",
    "    torch_to_np = lambda x: x.cpu().numpy()\n",
    "else:\n",
    "    torch_to_np = lambda x: x.detach().numpy()"
   ]
  },
  {
   "cell_type": "markdown",
   "metadata": {},
   "source": [
    "## Data utilities"
   ]
  },
  {
   "cell_type": "code",
   "execution_count": null,
   "metadata": {},
   "outputs": [],
   "source": []
  },
  {
   "cell_type": "markdown",
   "metadata": {},
   "source": [
    "## Prepare the data"
   ]
  },
  {
   "cell_type": "code",
   "execution_count": 4,
   "metadata": {},
   "outputs": [],
   "source": [
    "#input_dir = '/data/ntran/prod_mu10_pt1000_2017_07_29'\n",
    "#input_dir = '/cms-sc17/graphNN/prod_mu10_pt1000_2017_07_29'\n",
    "input_dir = 'trackml-graphs/'"
   ]
  },
  {
   "cell_type": "code",
   "execution_count": 6,
   "metadata": {},
   "outputs": [
    {
     "name": "stdout",
     "output_type": "stream",
     "text": [
      "CPU times: user 1.78 s, sys: 32 ms, total: 1.82 s\n",
      "Wall time: 2.16 s\n"
     ]
    }
   ],
   "source": [
    "%%time\n",
    "n_samples = 800\n",
    "filenames = [os.path.join(input_dir, 'graph%06i.npz' % i) for i in range(n_samples)]\n",
    "graphs = load_graphs(filenames, SparseGraph)"
   ]
  },
  {
   "cell_type": "code",
   "execution_count": 7,
   "metadata": {},
   "outputs": [
    {
     "data": {
      "text/plain": [
       "0.62073225"
      ]
     },
     "execution_count": 7,
     "metadata": {},
     "output_type": "execute_result"
    }
   ],
   "source": [
    "# Get the mean label for all the segments from all samples\n",
    "\n",
    "# Flatten the labels array\n",
    "flat_y = np.concatenate([g.y for g in graphs])\n",
    "\n",
    "flat_y.mean()"
   ]
  },
  {
   "cell_type": "markdown",
   "metadata": {},
   "source": [
    "## Define the data generator\n",
    "\n",
    "Since every event is unique, we need something which can batch things together into batch-specific tensors.\n",
    "\n",
    "It should just use the max size required for that sample."
   ]
  },
  {
   "cell_type": "code",
   "execution_count": 8,
   "metadata": {},
   "outputs": [],
   "source": [
    "def merge_graphs(graphs):\n",
    "    batch_size = len(graphs)\n",
    "    \n",
    "    # Special handling of batch size 1\n",
    "    if batch_size == 1:\n",
    "        g = graphs[0]\n",
    "        # Prepend singleton batch dimension\n",
    "        return g.X[None], g.Ri[None], g.Ro[None], g.y[None]\n",
    "    \n",
    "    # Get the maximum sizes in this batch\n",
    "    n_features = graphs[0].X.shape[1]\n",
    "    n_nodes = np.array([g.X.shape[0] for g in graphs])\n",
    "    n_edges = np.array([g.y.shape[0] for g in graphs])\n",
    "    max_nodes = n_nodes.max()\n",
    "    max_edges = n_edges.max()\n",
    "\n",
    "    # Allocate the tensors for this batch\n",
    "    batch_X = np.zeros((batch_size, max_nodes, n_features), dtype=np.float32)\n",
    "    batch_Ri = np.zeros((batch_size, max_nodes, max_edges), dtype=np.uint8)\n",
    "    batch_Ro = np.zeros((batch_size, max_nodes, max_edges), dtype=np.uint8)\n",
    "    batch_y = np.zeros((batch_size, max_edges), dtype=np.uint8)\n",
    "\n",
    "    # Loop over samples and fill the tensors\n",
    "    for i, g in enumerate(graphs):\n",
    "        batch_X[i, :n_nodes[i]] = g.X\n",
    "        batch_Ri[i, :n_nodes[i], :n_edges[i]] = g.Ri\n",
    "        batch_Ro[i, :n_nodes[i], :n_edges[i]] = g.Ro\n",
    "        batch_y[i, :n_edges[i]] = g.y\n",
    "    \n",
    "    return batch_X, batch_Ri, batch_Ro, batch_y\n",
    "\n",
    "def batch_generator(graphs, n_samples=1, batch_size=1, train=True):\n",
    "    volatile = not train\n",
    "    batch_idxs = np.arange(0, n_samples, batch_size)\n",
    "    # Loop over epochs\n",
    "    while True:\n",
    "        # Loop over batches\n",
    "        for j in batch_idxs:\n",
    "            #print('batch', j, '-', j+batch_size)\n",
    "            batch_graphs = [graph_from_sparse(g) for g in graphs[j:j+batch_size]]\n",
    "            batch_X, batch_Ri, batch_Ro, batch_y = merge_graphs(batch_graphs)\n",
    "            #print('  graphs merged')\n",
    "            batch_inputs = [\n",
    "                np_to_torch(batch_X, volatile=volatile),\n",
    "                np_to_torch(batch_Ri, volatile=volatile),\n",
    "                np_to_torch(batch_Ro, volatile=volatile)]\n",
    "            batch_target = np_to_torch(batch_y, volatile=volatile)\n",
    "            #print('  data prepared')\n",
    "            yield batch_inputs, batch_target"
   ]
  },
  {
   "cell_type": "markdown",
   "metadata": {},
   "source": [
    "### Visualize one sample\n",
    "\n",
    "Need to put this code into a function, and write it so it will be easy to use\n",
    "at model evaluation time (e.g., using model representation of the data)."
   ]
  },
  {
   "cell_type": "code",
   "execution_count": 36,
   "metadata": {},
   "outputs": [],
   "source": [
    "def draw_sample(X, Ri, Ro, y, cmap='bwr_r', alpha_labels=False):\n",
    "    \"\"\"\n",
    "    TODO: make segment coloring configurable.\n",
    "    \"\"\"\n",
    "    # Select the i/o node features for each segment\n",
    "    feats_o = X[np.where(Ri.T)[1]]\n",
    "    feats_i = X[np.where(Ro.T)[1]]\n",
    "    # Prepare the figure\n",
    "    fig, (ax0, ax1) = plt.subplots(1, 2, figsize=(9,4))\n",
    "    cmap = plt.get_cmap(cmap)\n",
    "    \n",
    "    # Draw the hits (r, phi, z)\n",
    "    ax0.scatter(X[:,2], X[:,0], c='k')\n",
    "    ax1.scatter(X[:,1], X[:,0], c='k')\n",
    "    \n",
    "    # Draw the segments\n",
    "    for j in range(y.shape[0]):\n",
    "        if alpha_labels:\n",
    "            seg_args = dict(c='k', alpha=float(y[j]))\n",
    "        else:\n",
    "            seg_args = dict(c=cmap(float(y[j])))\n",
    "        ax0.plot([feats_o[j,2], feats_i[j,2]],\n",
    "                 [feats_o[j,0], feats_i[j,0]], '-', **seg_args)\n",
    "        ax1.plot([feats_o[j,1], feats_i[j,1]],\n",
    "                 [feats_o[j,0], feats_i[j,0]], '-', **seg_args)\n",
    "    # Adjust axes\n",
    "    #ax0.set_xlim(-1100, 1100)\n",
    "    ax1.set_xlim(-np.pi/8, np.pi/8)\n",
    "    ax0.set_xlabel('$z$ [mm]')\n",
    "    ax1.set_xlabel('$\\phi$ [rad]')\n",
    "    ax0.set_ylabel('$r$ [mm]')\n",
    "    ax1.set_ylabel('$r$ [mm]')\n",
    "    plt.tight_layout()"
   ]
  },
  {
   "cell_type": "code",
   "execution_count": 37,
   "metadata": {},
   "outputs": [
    {
     "data": {
      "image/png": "[encoded data removed]",
      "text/plain": [
       "<Figure size 648x288 with 2 Axes>"
      ]
     },
     "metadata": {},
     "output_type": "display_data"
    }
   ],
   "source": [
    "# Pull the inputs from the batcher\n",
    "g = graph_from_sparse(graphs[0])\n",
    "draw_sample(g.X*feature_scale, g.Ri, g.Ro, g.y)"
   ]
  },
  {
   "cell_type": "markdown",
   "metadata": {},
   "source": [
    "## Train the model"
   ]
  },
  {
   "cell_type": "code",
   "execution_count": 69,
   "metadata": {},
   "outputs": [],
   "source": [
    "# Model config\n",
    "hidden_dim = 32\n",
    "n_iters = 4\n",
    "\n",
    "# Training config\n",
    "batch_size = 32\n",
    "n_epochs = 100\n",
    "valid_frac = 0.2\n",
    "test_frac = 0.2"
   ]
  },
  {
   "cell_type": "code",
   "execution_count": 70,
   "metadata": {},
   "outputs": [
    {
     "data": {
      "text/plain": [
       "(480, 160, 160, 800)"
      ]
     },
     "execution_count": 70,
     "metadata": {},
     "output_type": "execute_result"
    }
   ],
   "source": [
    "# We round by batch_size to avoid partial batches\n",
    "n_test = int(n_samples * test_frac) // batch_size * batch_size\n",
    "n_valid = int(n_samples * valid_frac) // batch_size * batch_size\n",
    "n_train = (n_samples - n_valid - n_test) // batch_size * batch_size\n",
    "n_train_batches = n_train // batch_size\n",
    "n_valid_batches = n_valid // batch_size\n",
    "n_test_batches = n_test #// batch_size\n",
    "\n",
    "n_train, n_valid, n_test, n_train + n_valid + n_test"
   ]
  },
  {
   "cell_type": "code",
   "execution_count": 71,
   "metadata": {},
   "outputs": [
    {
     "name": "stdout",
     "output_type": "stream",
     "text": [
      "Train set size: 480\n",
      "Valid set size: 160\n",
      "Test set size:  160\n"
     ]
    }
   ],
   "source": [
    "# Partition the dataset\n",
    "train_graphs, test_graphs = train_test_split(graphs, test_size=n_test)\n",
    "train_graphs, valid_graphs = train_test_split(train_graphs, test_size=n_valid)\n",
    "\n",
    "print('Train set size:', len(train_graphs))\n",
    "print('Valid set size:', len(valid_graphs))\n",
    "print('Test set size: ', len(test_graphs))"
   ]
  },
  {
   "cell_type": "code",
   "execution_count": 72,
   "metadata": {},
   "outputs": [],
   "source": [
    "# Prepare the batch generators\n",
    "train_batcher = batch_generator(train_graphs, n_samples=n_train, batch_size=batch_size)\n",
    "valid_batcher = batch_generator(valid_graphs, n_samples=n_valid, batch_size=batch_size, train=False)"
   ]
  },
  {
   "cell_type": "code",
   "execution_count": 42,
   "metadata": {},
   "outputs": [
    {
     "name": "stdout",
     "output_type": "stream",
     "text": [
      "2018-07-26 13:17:20.568798 Model: \n",
      "SegmentClassifier(\n",
      "  (input_network): Sequential(\n",
      "    (0): Linear(in_features=3, out_features=32, bias=True)\n",
      "    (1): Tanh()\n",
      "  )\n",
      "  (edge_network): EdgeNetwork(\n",
      "    (network): Sequential(\n",
      "      (0): Linear(in_features=70, out_features=32, bias=True)\n",
      "      (1): Tanh()\n",
      "      (2): Linear(in_features=32, out_features=1, bias=True)\n",
      "      (3): Sigmoid()\n",
      "    )\n",
      "  )\n",
      "  (node_network): NodeNetwork(\n",
      "    (network): Sequential(\n",
      "      (0): Linear(in_features=105, out_features=32, bias=True)\n",
      "      (1): Tanh()\n",
      "      (2): Linear(in_features=32, out_features=32, bias=True)\n",
      "      (3): Tanh()\n",
      "    )\n",
      "  )\n",
      ")\n",
      "2018-07-26 13:17:20.569993 Parameters: 6881\n"
     ]
    },
    {
     "ename": "FileNotFoundError",
     "evalue": "[Errno 2] No such file or directory: '/home/sjenkins/ML/gnn-fpga-v2/gnn/Prune/0v2.pt'",
     "output_type": "error",
     "traceback": [
      "\u001b[0;31m---------------------------------------------------------------------------\u001b[0m",
      "\u001b[0;31mFileNotFoundError\u001b[0m                         Traceback (most recent call last)",
      "\u001b[0;32m<ipython-input-42-79671a552734>\u001b[0m in \u001b[0;36m<module>\u001b[0;34m()\u001b[0m\n\u001b[1;32m      5\u001b[0m \u001b[0mloss_func\u001b[0m \u001b[0;34m=\u001b[0m \u001b[0mnn\u001b[0m\u001b[0;34m.\u001b[0m\u001b[0mBCELoss\u001b[0m\u001b[0;34m(\u001b[0m\u001b[0;34m)\u001b[0m\u001b[0;34m\u001b[0m\u001b[0m\n\u001b[1;32m      6\u001b[0m \u001b[0mestim\u001b[0m \u001b[0;34m=\u001b[0m \u001b[0mEstimator\u001b[0m\u001b[0;34m(\u001b[0m\u001b[0mmodel\u001b[0m\u001b[0;34m,\u001b[0m \u001b[0mloss_func\u001b[0m\u001b[0;34m=\u001b[0m\u001b[0mloss_func\u001b[0m\u001b[0;34m,\u001b[0m \u001b[0mcuda\u001b[0m\u001b[0;34m=\u001b[0m\u001b[0mcuda\u001b[0m\u001b[0;34m)\u001b[0m\u001b[0;34m\u001b[0m\u001b[0m\n\u001b[0;32m----> 7\u001b[0;31m \u001b[0mestim\u001b[0m\u001b[0;34m.\u001b[0m\u001b[0mload_checkpoint\u001b[0m\u001b[0;34m(\u001b[0m\u001b[0;34m'/home/sjenkins/ML/gnn-fpga-v2/gnn/Prune/0v2.pt'\u001b[0m\u001b[0;34m)\u001b[0m\u001b[0;34m\u001b[0m\u001b[0m\n\u001b[0m\u001b[1;32m      8\u001b[0m \u001b[0;34m\u001b[0m\u001b[0m\n\u001b[1;32m      9\u001b[0m \u001b[0;32mdef\u001b[0m \u001b[0msummer\u001b[0m\u001b[0;34m(\u001b[0m\u001b[0marr\u001b[0m\u001b[0;34m,\u001b[0m \u001b[0mnet_name\u001b[0m\u001b[0;34m)\u001b[0m\u001b[0;34m:\u001b[0m\u001b[0;34m\u001b[0m\u001b[0m\n",
      "\u001b[0;32m~/gnn-fpga/gnn/estimator.py\u001b[0m in \u001b[0;36mload_checkpoint\u001b[0;34m(self, filename)\u001b[0m\n\u001b[1;32m     72\u001b[0m \u001b[0;34m\u001b[0m\u001b[0m\n\u001b[1;32m     73\u001b[0m     \u001b[0;32mdef\u001b[0m \u001b[0mload_checkpoint\u001b[0m\u001b[0;34m(\u001b[0m\u001b[0mself\u001b[0m\u001b[0;34m,\u001b[0m \u001b[0mfilename\u001b[0m\u001b[0;34m=\u001b[0m\u001b[0;34m'checkpoint.pt'\u001b[0m\u001b[0;34m)\u001b[0m\u001b[0;34m:\u001b[0m\u001b[0;34m\u001b[0m\u001b[0m\n\u001b[0;32m---> 74\u001b[0;31m         \u001b[0mcheckpoint\u001b[0m \u001b[0;34m=\u001b[0m \u001b[0mtorch\u001b[0m\u001b[0;34m.\u001b[0m\u001b[0mload\u001b[0m\u001b[0;34m(\u001b[0m\u001b[0mfilename\u001b[0m\u001b[0;34m)\u001b[0m\u001b[0;34m\u001b[0m\u001b[0m\n\u001b[0m\u001b[1;32m     75\u001b[0m         \u001b[0mself\u001b[0m\u001b[0;34m.\u001b[0m\u001b[0mmodel\u001b[0m\u001b[0;34m.\u001b[0m\u001b[0mload_state_dict\u001b[0m\u001b[0;34m(\u001b[0m\u001b[0mcheckpoint\u001b[0m\u001b[0;34m[\u001b[0m\u001b[0;34m'state_dict'\u001b[0m\u001b[0;34m]\u001b[0m\u001b[0;34m)\u001b[0m\u001b[0;34m\u001b[0m\u001b[0m\n\u001b[1;32m     76\u001b[0m         \u001b[0mself\u001b[0m\u001b[0;34m.\u001b[0m\u001b[0moptimizer\u001b[0m\u001b[0;34m.\u001b[0m\u001b[0mload_state_dict\u001b[0m\u001b[0;34m(\u001b[0m\u001b[0mcheckpoint\u001b[0m\u001b[0;34m[\u001b[0m\u001b[0;34m'optimizer'\u001b[0m\u001b[0;34m]\u001b[0m\u001b[0;34m)\u001b[0m\u001b[0;34m\u001b[0m\u001b[0m\n",
      "\u001b[0;32m~/miniconda3/envs/pytorch-training/lib/python3.6/site-packages/torch/serialization.py\u001b[0m in \u001b[0;36mload\u001b[0;34m(f, map_location, pickle_module)\u001b[0m\n\u001b[1;32m    299\u001b[0m             \u001b[0;34m(\u001b[0m\u001b[0msys\u001b[0m\u001b[0;34m.\u001b[0m\u001b[0mversion_info\u001b[0m\u001b[0;34m[\u001b[0m\u001b[0;36m0\u001b[0m\u001b[0;34m]\u001b[0m \u001b[0;34m==\u001b[0m \u001b[0;36m3\u001b[0m \u001b[0;32mand\u001b[0m \u001b[0misinstance\u001b[0m\u001b[0;34m(\u001b[0m\u001b[0mf\u001b[0m\u001b[0;34m,\u001b[0m \u001b[0mpathlib\u001b[0m\u001b[0;34m.\u001b[0m\u001b[0mPath\u001b[0m\u001b[0;34m)\u001b[0m\u001b[0;34m)\u001b[0m\u001b[0;34m:\u001b[0m\u001b[0;34m\u001b[0m\u001b[0m\n\u001b[1;32m    300\u001b[0m         \u001b[0mnew_fd\u001b[0m \u001b[0;34m=\u001b[0m \u001b[0;32mTrue\u001b[0m\u001b[0;34m\u001b[0m\u001b[0m\n\u001b[0;32m--> 301\u001b[0;31m         \u001b[0mf\u001b[0m \u001b[0;34m=\u001b[0m \u001b[0mopen\u001b[0m\u001b[0;34m(\u001b[0m\u001b[0mf\u001b[0m\u001b[0;34m,\u001b[0m \u001b[0;34m'rb'\u001b[0m\u001b[0;34m)\u001b[0m\u001b[0;34m\u001b[0m\u001b[0m\n\u001b[0m\u001b[1;32m    302\u001b[0m     \u001b[0;32mtry\u001b[0m\u001b[0;34m:\u001b[0m\u001b[0;34m\u001b[0m\u001b[0m\n\u001b[1;32m    303\u001b[0m         \u001b[0;32mreturn\u001b[0m \u001b[0m_load\u001b[0m\u001b[0;34m(\u001b[0m\u001b[0mf\u001b[0m\u001b[0;34m,\u001b[0m \u001b[0mmap_location\u001b[0m\u001b[0;34m,\u001b[0m \u001b[0mpickle_module\u001b[0m\u001b[0;34m)\u001b[0m\u001b[0;34m\u001b[0m\u001b[0m\n",
      "\u001b[0;31mFileNotFoundError\u001b[0m: [Errno 2] No such file or directory: '/home/sjenkins/ML/gnn-fpga-v2/gnn/Prune/0v2.pt'"
     ]
    }
   ],
   "source": [
    "threshold = .001\n",
    "%matplotlib inline\n",
    "\n",
    "model = SegmentClassifier(input_dim=n_features, hidden_dim=hidden_dim, n_iters=n_iters, masks_e=None, masks_n=None)\n",
    "loss_func = nn.BCELoss()\n",
    "estim = Estimator(model, loss_func=loss_func, cuda=cuda, l1 = 0)\n",
    "estim.load_checkpoint('/home/sjenkins/ML/gnn-fpga-v2/gnn/Prune/0v2.pt')\n",
    "\n",
    "def summer(arr, net_name):\n",
    "    arr_f = arr.flatten()\n",
    "    sum_n = sum(arr_f)\n",
    "    print(net_name, 'Network Sum:', sum_n)\n",
    "\n",
    "with torch.no_grad():\n",
    "    # Edge Networks\n",
    "    #print(model.edge_network.network[0].weight)\n",
    "    #print(model.edge_network.network[0].weight.shape)\n",
    "    arr_e = torch_to_np(model.edge_network.network[0].weight)\n",
    "    arr_e = (np.abs(arr_e) > threshold)*1\n",
    "    summer(arr_e, 'Edge')\n",
    "\n",
    "\n",
    "    arr_e2 = torch_to_np(model.edge_network.network[2].weight)\n",
    "    arr_e2 = (np.abs(arr_e2) > threshold)*1\n",
    "    summer(arr_e2, 'Edge2')\n",
    "    \n",
    "    \n",
    "    # Node Networks\n",
    "    arr_n = torch_to_np(model.node_network.network[0].weight)\n",
    "    #print(model.node_network.network[0].weight.shape)\n",
    "    arr_n = (np.abs(arr_n) > threshold)*1\n",
    "    summer(arr_n, 'Node')\n",
    "\n",
    "    \n",
    "    arr_n2 = torch_to_np(model.node_network.network[2].weight)\n",
    "    #print(model.node_network.network[2].weight.shape)\n",
    "    arr_n2 = (np.abs(arr_n2) > threshold)*1\n",
    "    summer(arr_n2, 'Node2')\n",
    "    \n",
    "    mask_e = [np_to_torch(arr_e), np_to_torch(arr_e2)]\n",
    "    mask_n = [np_to_torch(arr_n), np_to_torch(arr_n2)]"
   ]
  },
  {
   "cell_type": "code",
   "execution_count": 73,
   "metadata": {},
   "outputs": [
    {
     "name": "stdout",
     "output_type": "stream",
     "text": [
      "2018-07-26 13:28:17.401392 Model: \n",
      "SegmentClassifier(\n",
      "  (input_network): Sequential(\n",
      "    (0): Linear(in_features=3, out_features=32, bias=True)\n",
      "    (1): Tanh()\n",
      "  )\n",
      "  (edge_network): EdgeNetwork(\n",
      "    (network): Sequential(\n",
      "      (0): Linear(in_features=70, out_features=32, bias=True)\n",
      "      (1): Tanh()\n",
      "      (2): Linear(in_features=32, out_features=1, bias=True)\n",
      "      (3): Sigmoid()\n",
      "    )\n",
      "  )\n",
      "  (node_network): NodeNetwork(\n",
      "    (network): Sequential(\n",
      "      (0): Linear(in_features=105, out_features=32, bias=True)\n",
      "      (1): Tanh()\n",
      "      (2): Linear(in_features=32, out_features=32, bias=True)\n",
      "      (3): Tanh()\n",
      "    )\n",
      "  )\n",
      ")\n",
      "2018-07-26 13:28:17.401615 Parameters: 6881\n"
     ]
    }
   ],
   "source": [
    "# Construct the model\n",
    "model = SegmentClassifier(input_dim=n_features, hidden_dim=hidden_dim, n_iters=n_iters)# masks_e=mask_e, masks_n=mask_n)\n",
    "loss_func = nn.BCELoss()\n",
    "estim = Estimator(model, loss_func=loss_func, cuda=cuda, l1= 0)"
   ]
  },
  {
   "cell_type": "code",
   "execution_count": 23,
   "metadata": {},
   "outputs": [],
   "source": [
    "estim.load_checkpoint('/home/sjenkins/ML/gnn-fpga-v2/gnn/Prune/00005v2.pt')"
   ]
  },
  {
   "cell_type": "code",
   "execution_count": 75,
   "metadata": {
    "scrolled": true
   },
   "outputs": [
    {
     "name": "stdout",
     "output_type": "stream",
     "text": [
      "2018-07-26 13:28:25.702287 Epoch 0\n",
      "2018-07-26 13:28:26.082405   training loss 0.664 time 0.379993s\n",
      "2018-07-26 13:28:26.134534   validate loss 0.611\n",
      "2018-07-26 13:28:26.134798  save checkpoint\n",
      "2018-07-26 13:28:26.137265 Epoch 1\n",
      "2018-07-26 13:28:26.455327   training loss 0.57 time 0.317987s\n",
      "2018-07-26 13:28:26.501517   validate loss 0.537\n",
      "2018-07-26 13:28:26.501740  save checkpoint\n",
      "2018-07-26 13:28:26.504113 Epoch 2\n",
      "2018-07-26 13:28:26.793951   training loss 0.523 time 0.289764s\n",
      "2018-07-26 13:28:26.839734   validate loss 0.503\n",
      "2018-07-26 13:28:26.839817  save checkpoint\n",
      "2018-07-26 13:28:26.842300 Epoch 3\n",
      "2018-07-26 13:28:27.131275   training loss 0.493 time 0.288755s\n",
      "2018-07-26 13:28:27.177023   validate loss 0.477\n",
      "2018-07-26 13:28:27.177091  save checkpoint\n",
      "2018-07-26 13:28:27.179581 Epoch 4\n",
      "2018-07-26 13:28:27.468110   training loss 0.468 time 0.288452s\n",
      "2018-07-26 13:28:27.513706   validate loss 0.453\n",
      "2018-07-26 13:28:27.513774  save checkpoint\n",
      "2018-07-26 13:28:27.516525 Epoch 5\n",
      "2018-07-26 13:28:27.806803   training loss 0.445 time 0.290203s\n",
      "2018-07-26 13:28:27.853238   validate loss 0.432\n",
      "2018-07-26 13:28:27.853342  save checkpoint\n",
      "2018-07-26 13:28:27.855991 Epoch 6\n",
      "2018-07-26 13:28:28.145515   training loss 0.424 time 0.289451s\n",
      "2018-07-26 13:28:28.192133   validate loss 0.412\n",
      "2018-07-26 13:28:28.192233  save checkpoint\n",
      "2018-07-26 13:28:28.194853 Epoch 7\n",
      "2018-07-26 13:28:28.488501   training loss 0.404 time 0.293572s\n",
      "2018-07-26 13:28:28.535136   validate loss 0.393\n",
      "2018-07-26 13:28:28.535235  save checkpoint\n",
      "2018-07-26 13:28:28.537898 Epoch 8\n",
      "2018-07-26 13:28:28.829093   training loss 0.386 time 0.291118s\n",
      "2018-07-26 13:28:28.875532   validate loss 0.376\n",
      "2018-07-26 13:28:28.875634  save checkpoint\n",
      "2018-07-26 13:28:28.878305 Epoch 9\n",
      "2018-07-26 13:28:29.168446   training loss 0.368 time 0.28992s\n",
      "2018-07-26 13:28:29.214631   validate loss 0.359\n",
      "2018-07-26 13:28:29.214734  save checkpoint\n",
      "2018-07-26 13:28:29.217358 Epoch 10\n",
      "2018-07-26 13:28:29.506395   training loss 0.353 time 0.288959s\n",
      "2018-07-26 13:28:29.552570   validate loss 0.345\n",
      "2018-07-26 13:28:29.552662  save checkpoint\n",
      "2018-07-26 13:28:29.555289 Epoch 11\n",
      "2018-07-26 13:28:29.844195   training loss 0.34 time 0.288831s\n",
      "2018-07-26 13:28:29.890006   validate loss 0.334\n",
      "2018-07-26 13:28:29.890080  save checkpoint\n",
      "2018-07-26 13:28:29.892819 Epoch 12\n",
      "2018-07-26 13:28:30.182261   training loss 0.329 time 0.289361s\n",
      "2018-07-26 13:28:30.228036   validate loss 0.324\n",
      "2018-07-26 13:28:30.228255  save checkpoint\n",
      "2018-07-26 13:28:30.230612 Epoch 13\n",
      "2018-07-26 13:28:30.519346   training loss 0.32 time 0.288656s\n",
      "2018-07-26 13:28:30.565426   validate loss 0.316\n",
      "2018-07-26 13:28:30.565504  save checkpoint\n",
      "2018-07-26 13:28:30.568097 Epoch 14\n",
      "2018-07-26 13:28:30.858512   training loss 0.313 time 0.290341s\n",
      "2018-07-26 13:28:30.904458   validate loss 0.31\n",
      "2018-07-26 13:28:30.904733  save checkpoint\n",
      "2018-07-26 13:28:30.908011 Epoch 15\n",
      "2018-07-26 13:28:31.197511   training loss 0.306 time 0.289413s\n",
      "2018-07-26 13:28:31.243289   validate loss 0.304\n",
      "2018-07-26 13:28:31.243371  save checkpoint\n",
      "2018-07-26 13:28:31.246174 Epoch 16\n",
      "2018-07-26 13:28:31.535586   training loss 0.301 time 0.289337s\n",
      "2018-07-26 13:28:31.581813   validate loss 0.3\n",
      "2018-07-26 13:28:31.581899  save checkpoint\n",
      "2018-07-26 13:28:31.584743 Epoch 17\n",
      "2018-07-26 13:28:31.874999   training loss 0.297 time 0.289908s\n",
      "2018-07-26 13:28:31.920856   validate loss 0.296\n",
      "2018-07-26 13:28:31.920923  save checkpoint\n",
      "2018-07-26 13:28:31.923476 Epoch 18\n",
      "2018-07-26 13:28:32.212370   training loss 0.293 time 0.288816s\n",
      "2018-07-26 13:28:32.258233   validate loss 0.292\n",
      "2018-07-26 13:28:32.258480  save checkpoint\n",
      "2018-07-26 13:28:32.260888 Epoch 19\n",
      "2018-07-26 13:28:32.550123   training loss 0.29 time 0.289151s\n",
      "2018-07-26 13:28:32.596043   validate loss 0.289\n",
      "2018-07-26 13:28:32.596114  save checkpoint\n",
      "2018-07-26 13:28:32.598675 Epoch 20\n",
      "2018-07-26 13:28:32.887915   training loss 0.287 time 0.289023s\n",
      "2018-07-26 13:28:32.933701   validate loss 0.287\n",
      "2018-07-26 13:28:32.933765  save checkpoint\n",
      "2018-07-26 13:28:32.936344 Epoch 21\n",
      "2018-07-26 13:28:33.225086   training loss 0.284 time 0.288668s\n",
      "2018-07-26 13:28:33.271032   validate loss 0.284\n",
      "2018-07-26 13:28:33.271101  save checkpoint\n",
      "2018-07-26 13:28:33.273624 Epoch 22\n",
      "2018-07-26 13:28:33.562232   training loss 0.282 time 0.288524s\n",
      "2018-07-26 13:28:33.607884   validate loss 0.282\n",
      "2018-07-26 13:28:33.607948  save checkpoint\n",
      "2018-07-26 13:28:33.610646 Epoch 23\n",
      "2018-07-26 13:28:33.900386   training loss 0.279 time 0.289667s\n",
      "2018-07-26 13:28:33.946175   validate loss 0.28\n",
      "2018-07-26 13:28:33.946387  save checkpoint\n",
      "2018-07-26 13:28:33.948805 Epoch 24\n",
      "2018-07-26 13:28:34.237378   training loss 0.277 time 0.288492s\n",
      "2018-07-26 13:28:34.283013   validate loss 0.278\n",
      "2018-07-26 13:28:34.283081  save checkpoint\n",
      "2018-07-26 13:28:34.285611 Epoch 25\n",
      "2018-07-26 13:28:34.575614   training loss 0.275 time 0.289917s\n",
      "2018-07-26 13:28:34.621699   validate loss 0.276\n",
      "2018-07-26 13:28:34.621798  save checkpoint\n",
      "2018-07-26 13:28:34.624772 Epoch 26\n",
      "2018-07-26 13:28:34.916627   training loss 0.273 time 0.29177s\n",
      "2018-07-26 13:28:34.963224   validate loss 0.274\n",
      "2018-07-26 13:28:34.963324  save checkpoint\n",
      "2018-07-26 13:28:34.966041 Epoch 27\n",
      "2018-07-26 13:28:35.257325   training loss 0.271 time 0.291203s\n",
      "2018-07-26 13:28:35.303277   validate loss 0.272\n",
      "2018-07-26 13:28:35.303364  save checkpoint\n",
      "2018-07-26 13:28:35.306024 Epoch 28\n",
      "2018-07-26 13:28:35.595924   training loss 0.269 time 0.289677s\n",
      "2018-07-26 13:28:35.641840   validate loss 0.271\n",
      "2018-07-26 13:28:35.641909  save checkpoint\n",
      "2018-07-26 13:28:35.644468 Epoch 29\n",
      "2018-07-26 13:28:35.933384   training loss 0.268 time 0.288837s\n",
      "2018-07-26 13:28:35.979227   validate loss 0.269\n",
      "2018-07-26 13:28:35.979292  save checkpoint\n",
      "2018-07-26 13:28:35.981850 Epoch 30\n",
      "2018-07-26 13:28:36.271213   training loss 0.266 time 0.289283s\n",
      "2018-07-26 13:28:36.317258   validate loss 0.268\n",
      "2018-07-26 13:28:36.317338  save checkpoint\n",
      "2018-07-26 13:28:36.320423 Epoch 31\n",
      "2018-07-26 13:28:36.609999   training loss 0.264 time 0.289345s\n",
      "2018-07-26 13:28:36.655880   validate loss 0.266\n",
      "2018-07-26 13:28:36.655956  save checkpoint\n",
      "2018-07-26 13:28:36.658746 Epoch 32\n",
      "2018-07-26 13:28:36.947230   training loss 0.263 time 0.288411s\n",
      "2018-07-26 13:28:36.993023   validate loss 0.265\n",
      "2018-07-26 13:28:36.993088  save checkpoint\n",
      "2018-07-26 13:28:36.995608 Epoch 33\n",
      "2018-07-26 13:28:37.284383   training loss 0.261 time 0.2887s\n",
      "2018-07-26 13:28:37.330312   validate loss 0.263\n",
      "2018-07-26 13:28:37.330684  save checkpoint\n",
      "2018-07-26 13:28:37.333285 Epoch 34\n",
      "2018-07-26 13:28:37.623642   training loss 0.26 time 0.290268s\n",
      "2018-07-26 13:28:37.669960   validate loss 0.261\n",
      "2018-07-26 13:28:37.670033  save checkpoint\n",
      "2018-07-26 13:28:37.672614 Epoch 35\n",
      "2018-07-26 13:28:37.964013   training loss 0.258 time 0.291314s\n",
      "2018-07-26 13:28:38.010100   validate loss 0.26\n",
      "2018-07-26 13:28:38.010181  save checkpoint\n",
      "2018-07-26 13:28:38.012822 Epoch 36\n",
      "2018-07-26 13:28:38.303860   training loss 0.257 time 0.290953s\n",
      "2018-07-26 13:28:38.349721   validate loss 0.259\n",
      "2018-07-26 13:28:38.349978  save checkpoint\n",
      "2018-07-26 13:28:38.352425 Epoch 37\n",
      "2018-07-26 13:28:38.642273   training loss 0.255 time 0.289762s\n",
      "2018-07-26 13:28:38.688301   validate loss 0.257\n",
      "2018-07-26 13:28:38.688375  save checkpoint\n",
      "2018-07-26 13:28:38.690946 Epoch 38\n",
      "2018-07-26 13:28:38.980301   training loss 0.254 time 0.289277s\n",
      "2018-07-26 13:28:39.026353   validate loss 0.256\n",
      "2018-07-26 13:28:39.026440  save checkpoint\n",
      "2018-07-26 13:28:39.029054 Epoch 39\n",
      "2018-07-26 13:28:39.318763   training loss 0.253 time 0.289623s\n",
      "2018-07-26 13:28:39.365035   validate loss 0.256\n",
      "2018-07-26 13:28:39.365128  save checkpoint\n",
      "2018-07-26 13:28:39.367772 Epoch 40\n",
      "2018-07-26 13:28:39.657436   training loss 0.252 time 0.289554s\n",
      "2018-07-26 13:28:39.703570   validate loss 0.254\n",
      "2018-07-26 13:28:39.703670  save checkpoint\n",
      "2018-07-26 13:28:39.706536 Epoch 41\n",
      "2018-07-26 13:28:39.996315   training loss 0.25 time 0.289703s\n",
      "2018-07-26 13:28:40.042416   validate loss 0.252\n",
      "2018-07-26 13:28:40.042505  save checkpoint\n",
      "2018-07-26 13:28:40.045680 Epoch 42\n",
      "2018-07-26 13:28:40.335331   training loss 0.248 time 0.289566s\n",
      "2018-07-26 13:28:40.381381   validate loss 0.25\n",
      "2018-07-26 13:28:40.381462  save checkpoint\n",
      "2018-07-26 13:28:40.384518 Epoch 43\n"
     ]
    },
    {
     "name": "stdout",
     "output_type": "stream",
     "text": [
      "2018-07-26 13:28:40.673473   training loss 0.242 time 0.288866s\n",
      "2018-07-26 13:28:40.719473   validate loss 0.242\n",
      "2018-07-26 13:28:40.719968  save checkpoint\n",
      "2018-07-26 13:28:40.722491 Epoch 44\n",
      "2018-07-26 13:28:41.011616   training loss 0.237 time 0.28904s\n",
      "2018-07-26 13:28:41.057420   validate loss 0.24\n",
      "2018-07-26 13:28:41.057505  save checkpoint\n",
      "2018-07-26 13:28:41.060376 Epoch 45\n",
      "2018-07-26 13:28:41.349659   training loss 0.231 time 0.289194s\n",
      "2018-07-26 13:28:41.395571   validate loss 0.233\n",
      "2018-07-26 13:28:41.395652  save checkpoint\n",
      "2018-07-26 13:28:41.398935 Epoch 46\n",
      "2018-07-26 13:28:41.688131   training loss 0.226 time 0.289111s\n",
      "2018-07-26 13:28:41.734077   validate loss 0.229\n",
      "2018-07-26 13:28:41.734173  save checkpoint\n",
      "2018-07-26 13:28:41.737600 Epoch 47\n",
      "2018-07-26 13:28:42.030075   training loss 0.222 time 0.292391s\n",
      "2018-07-26 13:28:42.076211   validate loss 0.224\n",
      "2018-07-26 13:28:42.076301  save checkpoint\n",
      "2018-07-26 13:28:42.080101 Epoch 48\n",
      "2018-07-26 13:28:42.370533   training loss 0.217 time 0.290334s\n",
      "2018-07-26 13:28:42.416473   validate loss 0.221\n",
      "2018-07-26 13:28:42.416551  save checkpoint\n",
      "2018-07-26 13:28:42.419385 Epoch 49\n",
      "2018-07-26 13:28:42.709673   training loss 0.214 time 0.290203s\n",
      "2018-07-26 13:28:42.756108   validate loss 0.217\n",
      "2018-07-26 13:28:42.756213  save checkpoint\n",
      "2018-07-26 13:28:42.759124 Epoch 50\n",
      "2018-07-26 13:28:43.048760   training loss 0.211 time 0.289549s\n",
      "2018-07-26 13:28:43.094822   validate loss 0.214\n",
      "2018-07-26 13:28:43.094921  save checkpoint\n",
      "2018-07-26 13:28:43.097796 Epoch 51\n",
      "2018-07-26 13:28:43.386961   training loss 0.208 time 0.289075s\n",
      "2018-07-26 13:28:43.432956   validate loss 0.21\n",
      "2018-07-26 13:28:43.433059  save checkpoint\n",
      "2018-07-26 13:28:43.436457 Epoch 52\n",
      "2018-07-26 13:28:43.725225   training loss 0.204 time 0.28867s\n",
      "2018-07-26 13:28:43.770867   validate loss 0.208\n",
      "2018-07-26 13:28:43.770941  save checkpoint\n",
      "2018-07-26 13:28:43.773709 Epoch 53\n",
      "2018-07-26 13:28:44.061581   training loss 0.201 time 0.287786s\n",
      "2018-07-26 13:28:44.107246   validate loss 0.205\n",
      "2018-07-26 13:28:44.107528  save checkpoint\n",
      "2018-07-26 13:28:44.110129 Epoch 54\n",
      "2018-07-26 13:28:44.397845   training loss 0.199 time 0.287634s\n",
      "2018-07-26 13:28:44.443429   validate loss 0.204\n",
      "2018-07-26 13:28:44.443502  save checkpoint\n",
      "2018-07-26 13:28:44.446251 Epoch 55\n",
      "2018-07-26 13:28:44.734467   training loss 0.196 time 0.288133s\n",
      "2018-07-26 13:28:44.780101   validate loss 0.201\n",
      "2018-07-26 13:28:44.780175  save checkpoint\n",
      "2018-07-26 13:28:44.782972 Epoch 56\n",
      "2018-07-26 13:28:45.070872   training loss 0.193 time 0.287819s\n",
      "2018-07-26 13:28:45.116511   validate loss 0.198\n",
      "2018-07-26 13:28:45.116585  save checkpoint\n",
      "2018-07-26 13:28:45.120025 Epoch 57\n",
      "2018-07-26 13:28:45.407734   training loss 0.19 time 0.287613s\n",
      "2018-07-26 13:28:45.453366   validate loss 0.195\n",
      "2018-07-26 13:28:45.453441  save checkpoint\n",
      "2018-07-26 13:28:45.456374 Epoch 58\n",
      "2018-07-26 13:28:45.746230   training loss 0.188 time 0.289756s\n",
      "2018-07-26 13:28:45.792305   validate loss 0.193\n",
      "2018-07-26 13:28:45.792379  save checkpoint\n",
      "2018-07-26 13:28:45.795214 Epoch 59\n",
      "2018-07-26 13:28:46.084394   training loss 0.185 time 0.289097s\n",
      "2018-07-26 13:28:46.130054   validate loss 0.191\n",
      "2018-07-26 13:28:46.130535  save checkpoint\n",
      "2018-07-26 13:28:46.132997 Epoch 60\n",
      "2018-07-26 13:28:46.421654   training loss 0.184 time 0.288557s\n",
      "2018-07-26 13:28:46.467309   validate loss 0.19\n",
      "2018-07-26 13:28:46.467383  save checkpoint\n",
      "2018-07-26 13:28:46.470608 Epoch 61\n",
      "2018-07-26 13:28:46.758168   training loss 0.182 time 0.287463s\n",
      "2018-07-26 13:28:46.803907   validate loss 0.19\n",
      "2018-07-26 13:28:46.804307  save checkpoint\n",
      "2018-07-26 13:28:46.806827 Epoch 62\n",
      "2018-07-26 13:28:47.094735   training loss 0.181 time 0.287825s\n",
      "2018-07-26 13:28:47.140332   validate loss 0.186\n",
      "2018-07-26 13:28:47.140408  save checkpoint\n",
      "2018-07-26 13:28:47.143140 Epoch 63\n",
      "2018-07-26 13:28:47.431526   training loss 0.179 time 0.288302s\n",
      "2018-07-26 13:28:47.477143   validate loss 0.184\n",
      "2018-07-26 13:28:47.477544  save checkpoint\n",
      "2018-07-26 13:28:47.480076 Epoch 64\n",
      "2018-07-26 13:28:47.768341   training loss 0.176 time 0.288167s\n",
      "2018-07-26 13:28:47.814410   validate loss 0.183\n",
      "2018-07-26 13:28:47.814496  save checkpoint\n",
      "2018-07-26 13:28:47.817422 Epoch 65\n",
      "2018-07-26 13:28:48.105435   training loss 0.175 time 0.287915s\n",
      "2018-07-26 13:28:48.151282   validate loss 0.181\n",
      "2018-07-26 13:28:48.151373  save checkpoint\n",
      "2018-07-26 13:28:48.154762 Epoch 66\n",
      "2018-07-26 13:28:48.445137   training loss 0.174 time 0.290286s\n",
      "2018-07-26 13:28:48.491401   validate loss 0.179\n",
      "2018-07-26 13:28:48.491501  save checkpoint\n",
      "2018-07-26 13:28:48.494437 Epoch 67\n",
      "2018-07-26 13:28:48.783241   training loss 0.171 time 0.28872s\n",
      "2018-07-26 13:28:48.829030   validate loss 0.177\n",
      "2018-07-26 13:28:48.829106  save checkpoint\n",
      "2018-07-26 13:28:48.832404 Epoch 68\n",
      "2018-07-26 13:28:49.120074   training loss 0.171 time 0.287573s\n",
      "2018-07-26 13:28:49.165831   validate loss 0.179\n",
      "2018-07-26 13:28:49.166307  save checkpoint\n",
      "2018-07-26 13:28:49.168563 Epoch 69\n",
      "2018-07-26 13:28:49.456708   training loss 0.174 time 0.288051s\n",
      "2018-07-26 13:28:49.502215   validate loss 0.176\n",
      "2018-07-26 13:28:49.502504  save checkpoint\n",
      "2018-07-26 13:28:49.505589 Epoch 70\n",
      "2018-07-26 13:28:49.793344   training loss 0.169 time 0.287659s\n",
      "2018-07-26 13:28:49.839140   validate loss 0.173\n",
      "2018-07-26 13:28:49.839558  save checkpoint\n",
      "2018-07-26 13:28:49.842085 Epoch 71\n",
      "2018-07-26 13:28:50.130445   training loss 0.168 time 0.288278s\n",
      "2018-07-26 13:28:50.176068   validate loss 0.174\n",
      "2018-07-26 13:28:50.176540  save checkpoint\n",
      "2018-07-26 13:28:50.178762 Epoch 72\n",
      "2018-07-26 13:28:50.466567   training loss 0.167 time 0.287721s\n",
      "2018-07-26 13:28:50.512201   validate loss 0.173\n",
      "2018-07-26 13:28:50.512278  save checkpoint\n",
      "2018-07-26 13:28:50.515603 Epoch 73\n",
      "2018-07-26 13:28:50.805340   training loss 0.166 time 0.289649s\n",
      "2018-07-26 13:28:50.851197   validate loss 0.17\n",
      "2018-07-26 13:28:50.851267  save checkpoint\n",
      "2018-07-26 13:28:50.853868 Epoch 74\n",
      "2018-07-26 13:28:51.143501   training loss 0.166 time 0.289556s\n",
      "2018-07-26 13:28:51.189248   validate loss 0.171\n",
      "2018-07-26 13:28:51.189321  save checkpoint\n",
      "2018-07-26 13:28:51.191705 Epoch 75\n",
      "2018-07-26 13:28:51.480632   training loss 0.163 time 0.288852s\n",
      "2018-07-26 13:28:51.526384   validate loss 0.166\n",
      "2018-07-26 13:28:51.526451  save checkpoint\n",
      "2018-07-26 13:28:51.529058 Epoch 76\n",
      "2018-07-26 13:28:51.817462   training loss 0.162 time 0.288333s\n",
      "2018-07-26 13:28:51.863166   validate loss 0.166\n",
      "2018-07-26 13:28:51.863236  save checkpoint\n",
      "2018-07-26 13:28:51.865658 Epoch 77\n",
      "2018-07-26 13:28:52.154339   training loss 0.162 time 0.28861s\n",
      "2018-07-26 13:28:52.199843   validate loss 0.164\n",
      "2018-07-26 13:28:52.199906  save checkpoint\n",
      "2018-07-26 13:28:52.202487 Epoch 78\n",
      "2018-07-26 13:28:52.491309   training loss 0.162 time 0.288603s\n",
      "2018-07-26 13:28:52.537063   validate loss 0.163\n",
      "2018-07-26 13:28:52.537126  save checkpoint\n",
      "2018-07-26 13:28:52.539706 Epoch 79\n",
      "2018-07-26 13:28:52.828265   training loss 0.16 time 0.288487s\n",
      "2018-07-26 13:28:52.873763   validate loss 0.164\n",
      "2018-07-26 13:28:52.873829  save checkpoint\n",
      "2018-07-26 13:28:52.876228 Epoch 80\n",
      "2018-07-26 13:28:53.165427   training loss 0.158 time 0.28898s\n",
      "2018-07-26 13:28:53.210815   validate loss 0.163\n",
      "2018-07-26 13:28:53.211022  save checkpoint\n",
      "2018-07-26 13:28:53.213481 Epoch 81\n",
      "2018-07-26 13:28:53.501684   training loss 0.158 time 0.287982s\n",
      "2018-07-26 13:28:53.547560   validate loss 0.164\n",
      "2018-07-26 13:28:53.547625  save checkpoint\n",
      "2018-07-26 13:28:53.550236 Epoch 82\n",
      "2018-07-26 13:28:53.838542   training loss 0.16 time 0.288088s\n",
      "2018-07-26 13:28:53.884021   validate loss 0.166\n",
      "2018-07-26 13:28:53.884092  save checkpoint\n",
      "2018-07-26 13:28:53.886905 Epoch 83\n",
      "2018-07-26 13:28:54.175130   training loss 0.156 time 0.288153s\n",
      "2018-07-26 13:28:54.220838   validate loss 0.159\n",
      "2018-07-26 13:28:54.221056  save checkpoint\n",
      "2018-07-26 13:28:54.223494 Epoch 84\n",
      "2018-07-26 13:28:54.511375   training loss 0.155 time 0.287809s\n",
      "2018-07-26 13:28:54.557078   validate loss 0.158\n",
      "2018-07-26 13:28:54.557140  save checkpoint\n",
      "2018-07-26 13:28:54.560227 Epoch 85\n",
      "2018-07-26 13:28:54.847966   training loss 0.152 time 0.28767s\n",
      "2018-07-26 13:28:54.893410   validate loss 0.157\n",
      "2018-07-26 13:28:54.893627  save checkpoint\n",
      "2018-07-26 13:28:54.896083 Epoch 86\n"
     ]
    },
    {
     "name": "stdout",
     "output_type": "stream",
     "text": [
      "2018-07-26 13:28:55.183988   training loss 0.155 time 0.287684s\n",
      "2018-07-26 13:28:55.229483   validate loss 0.158\n",
      "2018-07-26 13:28:55.229545  save checkpoint\n",
      "2018-07-26 13:28:55.231917 Epoch 87\n",
      "2018-07-26 13:28:55.519378   training loss 0.151 time 0.287391s\n",
      "2018-07-26 13:28:55.565188   validate loss 0.155\n",
      "2018-07-26 13:28:55.565251  save checkpoint\n",
      "2018-07-26 13:28:55.567861 Epoch 88\n",
      "2018-07-26 13:28:55.856059   training loss 0.15 time 0.287978s\n",
      "2018-07-26 13:28:55.901564   validate loss 0.154\n",
      "2018-07-26 13:28:55.901643  save checkpoint\n",
      "2018-07-26 13:28:55.904292 Epoch 89\n",
      "2018-07-26 13:28:56.192914   training loss 0.149 time 0.28855s\n",
      "2018-07-26 13:28:56.238520   validate loss 0.153\n",
      "2018-07-26 13:28:56.238583  save checkpoint\n",
      "2018-07-26 13:28:56.241225 Epoch 90\n",
      "2018-07-26 13:28:56.529120   training loss 0.15 time 0.287824s\n",
      "2018-07-26 13:28:56.574700   validate loss 0.152\n",
      "2018-07-26 13:28:56.574943  save checkpoint\n",
      "2018-07-26 13:28:56.577406 Epoch 91\n",
      "2018-07-26 13:28:56.866969   training loss 0.148 time 0.289492s\n",
      "2018-07-26 13:28:56.912853   validate loss 0.151\n",
      "2018-07-26 13:28:56.912921  save checkpoint\n",
      "2018-07-26 13:28:56.915519 Epoch 92\n",
      "2018-07-26 13:28:57.204153   training loss 0.146 time 0.288412s\n",
      "2018-07-26 13:28:57.249773   validate loss 0.15\n",
      "2018-07-26 13:28:57.249837  save checkpoint\n",
      "2018-07-26 13:28:57.252451 Epoch 93\n",
      "2018-07-26 13:28:57.542235   training loss 0.144 time 0.289562s\n",
      "2018-07-26 13:28:57.587731   validate loss 0.149\n",
      "2018-07-26 13:28:57.587806  save checkpoint\n",
      "2018-07-26 13:28:57.590389 Epoch 94\n",
      "2018-07-26 13:28:57.878641   training loss 0.143 time 0.288178s\n",
      "2018-07-26 13:28:57.924352   validate loss 0.147\n",
      "2018-07-26 13:28:57.924418  save checkpoint\n",
      "2018-07-26 13:28:57.927019 Epoch 95\n",
      "2018-07-26 13:28:58.215763   training loss 0.142 time 0.288673s\n",
      "2018-07-26 13:28:58.261373   validate loss 0.146\n",
      "2018-07-26 13:28:58.261596  save checkpoint\n",
      "2018-07-26 13:28:58.264087 Epoch 96\n",
      "2018-07-26 13:28:58.552484   training loss 0.14 time 0.288322s\n",
      "2018-07-26 13:28:58.598205   validate loss 0.146\n",
      "2018-07-26 13:28:58.598428  save checkpoint\n",
      "2018-07-26 13:28:58.600910 Epoch 97\n",
      "2018-07-26 13:28:58.889166   training loss 0.14 time 0.288036s\n",
      "2018-07-26 13:28:58.935050   validate loss 0.146\n",
      "2018-07-26 13:28:58.935295  save checkpoint\n",
      "2018-07-26 13:28:58.938451 Epoch 98\n",
      "2018-07-26 13:28:59.228819   training loss 0.139 time 0.290139s\n",
      "2018-07-26 13:28:59.275190   validate loss 0.142\n",
      "2018-07-26 13:28:59.275272  save checkpoint\n",
      "2018-07-26 13:28:59.277952 Epoch 99\n",
      "2018-07-26 13:28:59.568900   training loss 0.137 time 0.290871s\n",
      "2018-07-26 13:28:59.614450   validate loss 0.142\n",
      "2018-07-26 13:28:59.614513  save checkpoint\n"
     ]
    }
   ],
   "source": [
    "estim.fit_gen(train_batcher, n_batches=n_train_batches, n_epochs=n_epochs,\n",
    "              valid_generator=valid_batcher, n_valid_batches=n_valid_batches, \n",
    "              filename='Prune/pruned1e-5mask.pt')"
   ]
  },
  {
   "cell_type": "code",
   "execution_count": null,
   "metadata": {},
   "outputs": [],
   "source": [
    "#estim.load_checkpoint('/home/sjenkins/ML/gnn-fpga-v2/gnn/Prune/0001.pt')"
   ]
  },
  {
   "cell_type": "markdown",
   "metadata": {},
   "source": [
    "### Loss curves"
   ]
  },
  {
   "cell_type": "code",
   "execution_count": 76,
   "metadata": {},
   "outputs": [
    {
     "data": {
      "image/png": "[encoded data removed]",
      "text/plain": [
       "<Figure size 432x288 with 1 Axes>"
      ]
     },
     "metadata": {},
     "output_type": "display_data"
    }
   ],
   "source": [
    "# Plot the loss\n",
    "plt.figure()\n",
    "plt.plot(estim.train_losses, label='training set')\n",
    "plt.plot(estim.valid_losses, label='validation set')\n",
    "plt.xlabel('Epoch')\n",
    "plt.ylabel('Loss')\n",
    "#plt.xlim(40,60)\n",
    "#plt.ylim(.0767,.0773)\n",
    "plt.legend(loc=0);"
   ]
  },
  {
   "cell_type": "markdown",
   "metadata": {},
   "source": [
    "## Evaluate model on the test set"
   ]
  },
  {
   "cell_type": "code",
   "execution_count": 35,
   "metadata": {},
   "outputs": [],
   "source": [
    "if cuda:\n",
    "    torch.cuda.empty_cache()"
   ]
  },
  {
   "cell_type": "code",
   "execution_count": 98,
   "metadata": {},
   "outputs": [],
   "source": [
    "estim.load_checkpoint('/home/sjenkins/ML/gnn-fpga-v2/gnn/Prune/001.pt')"
   ]
  },
  {
   "cell_type": "code",
   "execution_count": 50,
   "metadata": {},
   "outputs": [
    {
     "name": "stdout",
     "output_type": "stream",
     "text": [
      "(22836,)\n",
      "(22836,)\n"
     ]
    }
   ],
   "source": [
    "# prepare test generator\n",
    "with torch.no_grad():\n",
    "    test_batcher = batch_generator(test_graphs, n_samples=n_test, batch_size=1, train=False)\n",
    "    test_outputs = estim.predict(test_batcher, n_test_batches, concat=False)\n",
    "    test_preds = [torch_to_np(o) for o in test_outputs]\n",
    "\n",
    "    # Flatten the predictions and labels\n",
    "    flat_y = np.concatenate([g.y.flatten() for g in test_graphs])\n",
    "    flat_pred = np.concatenate([p.flatten() for p in test_preds])\n",
    "    print(flat_y.shape)\n",
    "    print(flat_pred.shape)"
   ]
  },
  {
   "cell_type": "code",
   "execution_count": 77,
   "metadata": {},
   "outputs": [],
   "source": [
    "def makeROC(flat_y, flat_pred, thresh=0.5):\n",
    "    \n",
    "    print('Test set results with threshold of', thresh)\n",
    "    print('Accuracy:  %.4f' % sklearn.metrics.accuracy_score(flat_y, flat_pred>thresh))\n",
    "    print('Precision: %.4f' % sklearn.metrics.precision_score(flat_y, flat_pred>thresh))\n",
    "    print('Recall:    %.4f' % sklearn.metrics.recall_score(flat_y, flat_pred>thresh))\n",
    "    \n",
    "    # Compute the ROC curve\n",
    "    fpr, tpr, _ = sklearn.metrics.roc_curve(flat_y, flat_pred)\n",
    "    \n",
    "    plt.figure(figsize=(12,3))\n",
    "\n",
    "    # Plot the model outputs\n",
    "    plt.subplot(131)\n",
    "    binning=dict(bins=50, range=(0,1), histtype='bar')\n",
    "    plt.hist(flat_pred[flat_y<thresh], label='fake', **binning)\n",
    "    plt.hist(flat_pred[flat_y>thresh], label='true', **binning)\n",
    "    #plt.xlim(.1,.125)\n",
    "    plt.xlim(0, 1)\n",
    "    plt.xlabel('Model output')\n",
    "    plt.legend(loc=0)\n",
    "\n",
    "    # Plot the ROC curve\n",
    "    plt.subplot(132)\n",
    "    plt.plot(fpr, tpr)\n",
    "    plt.plot([0, 1], [0, 1], '--')\n",
    "    plt.xlabel('False positive rate')\n",
    "    plt.ylabel('True positive rate')\n",
    "    plt.ylim(0, 1)\n",
    "    plt.xlim(0, 1)\n",
    "    plt.title('ROC curve')\n",
    "\n",
    "    # Plot the ROC curve\n",
    "    plt.subplot(133)\n",
    "    plt.semilogx(fpr, tpr)\n",
    "    #plt.plot([0, 1], [0, 1], '--')\n",
    "    plt.xlabel('False positive rate')\n",
    "    plt.ylabel('True positive rate')\n",
    "    plt.ylim(0, 1)\n",
    "    plt.xlim(1e-6, 1)\n",
    "    plt.title('ROC curve')\n",
    "\n",
    "    plt.tight_layout()"
   ]
  },
  {
   "cell_type": "code",
   "execution_count": 78,
   "metadata": {},
   "outputs": [
    {
     "name": "stdout",
     "output_type": "stream",
     "text": [
      "BEFORE Masking\n",
      "Test set results with threshold of 0.5\n",
      "Accuracy:  0.7830\n",
      "Precision: 0.8840\n",
      "Recall:    0.7546\n"
     ]
    },
    {
     "data": {
      "image/png": "[encoded data removed]",
      "text/plain": [
       "<Figure size 864x216 with 3 Axes>"
      ]
     },
     "metadata": {},
     "output_type": "display_data"
    }
   ],
   "source": [
    "print('BEFORE Masking')\n",
    "makeROC(flat_y, flat_pred)"
   ]
  },
  {
   "cell_type": "code",
   "execution_count": 49,
   "metadata": {},
   "outputs": [
    {
     "name": "stdout",
     "output_type": "stream",
     "text": [
      "Parameter containing:\n",
      "tensor([[ 1.7495e-04,  1.4459e-04,  1.1631e-04,  ..., -1.8033e-02,\n",
      "         -3.2216e+00,  1.7406e-03],\n",
      "        [-1.0978e-04,  1.0230e-04,  4.1613e-05,  ...,  1.6546e-02,\n",
      "         -7.1849e-01, -1.9874e-03],\n",
      "        [ 2.1522e-04, -3.0008e-04, -1.6043e-04,  ...,  3.0286e-04,\n",
      "         -6.5783e-02,  4.0403e-04],\n",
      "        ...,\n",
      "        [-2.6454e-04, -9.3102e-05, -3.3954e-05,  ..., -6.4469e-05,\n",
      "          2.5793e-07, -1.9129e-06],\n",
      "        [ 2.3279e-04,  3.5655e-06,  5.0537e-05,  ..., -8.6343e-05,\n",
      "          5.6277e-05,  7.6040e-05],\n",
      "        [-8.9185e-05, -4.6916e-05, -2.2985e-05,  ..., -6.2400e-05,\n",
      "         -1.4161e-04, -4.3004e-05]])\n",
      "torch.Size([32, 70])\n",
      "Edge Network Sum: 372\n",
      "Parameter containing:\n",
      "tensor([[ 0.0000,  0.0000,  0.0000,  ..., -0.0180, -3.2216,  0.0017],\n",
      "        [-0.0000,  0.0000,  0.0000,  ...,  0.0165, -0.7185, -0.0020],\n",
      "        [ 0.0000, -0.0000, -0.0000,  ...,  0.0000, -0.0658,  0.0000],\n",
      "        ...,\n",
      "        [-0.0000, -0.0000, -0.0000,  ..., -0.0000,  0.0000, -0.0000],\n",
      "        [ 0.0000,  0.0000,  0.0000,  ..., -0.0000,  0.0000,  0.0000],\n",
      "        [-0.0000, -0.0000, -0.0000,  ..., -0.0000, -0.0000, -0.0000]])\n",
      "Edge2 Network Sum: 14\n",
      "torch.Size([32, 105])\n",
      "Node Network Sum: 642\n",
      "torch.Size([32, 32])\n",
      "Node2 Network Sum: 159\n"
     ]
    }
   ],
   "source": [
    "#mask\n",
    "\n",
    "'''threshold = .001\n",
    "%matplotlib inline\n",
    "\n",
    "def summer(arr, net_name):\n",
    "    arr_f = arr.flatten()\n",
    "    sum_n = sum(arr_f)\n",
    "    print(net_name, 'Network Sum:', sum_n)\n",
    "\n",
    "with torch.no_grad():\n",
    "    # Edge Networks\n",
    "    print(model.edge_network.network[0].weight)\n",
    "    print(model.edge_network.network[0].weight.shape)\n",
    "    arr_e = torch_to_np(model.edge_network.network[0].weight)\n",
    "    arr_e = (np.abs(arr_e) > threshold)*1\n",
    "    summer(arr_e, 'Edge')\n",
    "    # mask\n",
    "    masked_weight = torch.nn.Parameter(model.edge_network.network[0].weight * np_to_torch(arr_e))\n",
    "    model.edge_network.network[0].weight = masked_weight\n",
    "    print(model.edge_network.network[0].weight)\n",
    "\n",
    "    arr_e2 = torch_to_np(model.edge_network.network[2].weight)\n",
    "    # Original size = 32\n",
    "    arr_e2 = (np.abs(arr_e2) > threshold)*1\n",
    "    summer(arr_e2, 'Edge2')\n",
    "    # mask\n",
    "    masked_weight = torch.nn.Parameter(model.edge_network.network[2].weight * np_to_torch(arr_e2))\n",
    "    model.edge_network.network[2].weight = masked_weight\n",
    "    \n",
    "    # Node Networks\n",
    "    arr_n = torch_to_np(model.node_network.network[0].weight)\n",
    "    print(model.node_network.network[0].weight.shape)\n",
    "    arr_n = (np.abs(arr_n) > threshold)*1\n",
    "    summer(arr_n, 'Node')\n",
    "    # mask\n",
    "    masked_weight = torch.nn.Parameter(model.node_network.network[0].weight * np_to_torch(arr_n))\n",
    "    model.node_network.network[0].weight = masked_weight\n",
    "    \n",
    "    arr_n2 = torch_to_np(model.node_network.network[2].weight)\n",
    "    print(model.node_network.network[2].weight.shape)\n",
    "    arr_n2 = (np.abs(arr_n2) > threshold)*1\n",
    "    summer(arr_n2, 'Node2')\n",
    "    # mask\n",
    "    masked_weight = torch.nn.Parameter(model.node_network.network[2].weight * np_to_torch(arr_n2))\n",
    "    model.node_network.network[2].weight = masked_weight'''"
   ]
  },
  {
   "cell_type": "code",
   "execution_count": 79,
   "metadata": {},
   "outputs": [],
   "source": [
    "%matplotlib inline\n",
    " \n",
    "def plotLayerWeights(layer, plotTitle='Network'):\n",
    "    with torch.no_grad():\n",
    "        arr = torch_to_np(layer.weight)\n",
    "        arr = arr.flatten()\n",
    "\n",
    "        plt.figure(figsize=(4,4))\n",
    "\n",
    "        #plt.subplot(2,2,1)\n",
    "    \n",
    "        #plt.hist(arr, bins=100, range=(-.0002,.0002))\n",
    "        #plt.xlabel('Weight')\n",
    "        #plt.ylabel('Frequency')\n",
    "        #plt.title('Network')\n",
    "\n",
    "        #plt.subplot(2,2,2)\n",
    "        #plt.hist(np.abs(arr), bins=100, range=(0,.0002))\n",
    "        #plt.xlabel('|Weight|')\n",
    "        #plt.ylabel('Frequency')\n",
    "        #plt.title('Network-Absolute Value')\n",
    "\n",
    "        #plt.subplot(2,2,3)\n",
    "        #plt.hist(np.abs(arr), bins=1000, range=(2**-11, 2**-0))\n",
    "        #plt.xscale('log',basex=2)\n",
    "        #plt.xlim([2**-13,2**-4])\n",
    "        #plt.xlabel('Weight')\n",
    "        #plt.ylabel('Frequency')\n",
    "        #plt.title('Network-Log2')\n",
    "    \n",
    "        #plt.subplot(2,2,4)\n",
    "        #arr_n = [np.log(x) for x in arr_n]\n",
    "        logbins = np.geomspace(10**-4, 1, 100)\n",
    "        plt.hist(np.abs(arr), logbins)\n",
    "        plt.xscale('log',basex=10)\n",
    "        plt.xlabel('|Weight|')\n",
    "        plt.ylabel('Frequency')\n",
    "        plt.title(plotTitle)\n",
    "\n",
    "        plt.show()"
   ]
  },
  {
   "cell_type": "code",
   "execution_count": 80,
   "metadata": {},
   "outputs": [
    {
     "data": {
      "image/png": "[encoded data removed]",
      "text/plain": [
       "<Figure size 288x288 with 1 Axes>"
      ]
     },
     "metadata": {},
     "output_type": "display_data"
    },
    {
     "data": {
      "image/png": "[encoded data removed]",
      "text/plain": [
       "<Figure size 288x288 with 1 Axes>"
      ]
     },
     "metadata": {},
     "output_type": "display_data"
    },
    {
     "data": {
      "image/png": "[encoded data removed]",
      "text/plain": [
       "<Figure size 288x288 with 1 Axes>"
      ]
     },
     "metadata": {},
     "output_type": "display_data"
    },
    {
     "data": {
      "image/png": "[encoded data removed]",
      "text/plain": [
       "<Figure size 288x288 with 1 Axes>"
      ]
     },
     "metadata": {},
     "output_type": "display_data"
    },
    {
     "data": {
      "image/png": "[encoded data removed]",
      "text/plain": [
       "<Figure size 288x288 with 1 Axes>"
      ]
     },
     "metadata": {},
     "output_type": "display_data"
    }
   ],
   "source": [
    "## NETWORKS \n",
    "plotLayerWeights(model.input_network[0], plotTitle='Input Network')\n",
    "plotLayerWeights(model.edge_network.network[0], plotTitle='Edge Network Layer 1')\n",
    "plotLayerWeights(model.edge_network.network[2], plotTitle='Edge Network Layer 2')\n",
    "plotLayerWeights(model.node_network.network[0], plotTitle='Node Network Layer 1')\n",
    "plotLayerWeights(model.node_network.network[2], plotTitle='Node Network Layer 2')"
   ]
  },
  {
   "cell_type": "markdown",
   "metadata": {},
   "source": [
    "## Visualize some samples"
   ]
  },
  {
   "cell_type": "code",
   "execution_count": null,
   "metadata": {
    "scrolled": false
   },
   "outputs": [],
   "source": [
    "# Draw some samples\n",
    "for i in range(4):\n",
    "    print('accuracy %.3f, precision %.3f, recall %.3f' % (\n",
    "        sklearn.metrics.accuracy_score(test_y[i], test_pred[i]>thresh),\n",
    "        sklearn.metrics.precision_score(test_y[i], test_pred[i]>thresh),\n",
    "        sklearn.metrics.recall_score(test_y[i], test_pred[i]>thresh)))\n",
    "    draw_sample(test_X[i]*feature_scale, test_Ri[i], test_Ro[i], test_pred[i], alpha_labels=True);"
   ]
  },
  {
   "cell_type": "markdown",
   "metadata": {},
   "source": [
    "## Visualize evolution of graph iterations\n",
    "\n",
    "Let's take a sample and pull out the intermediate edge scores during graph iterations.\n",
    "I'd like to visualize how the model converges on its chosen edges."
   ]
  },
  {
   "cell_type": "code",
   "execution_count": null,
   "metadata": {},
   "outputs": [],
   "source": [
    "def graph_iter(model, X, H, Ri, Ro):\n",
    "    # Shortcut connections\n",
    "    H = torch.cat([H, X], dim=-1)\n",
    "    # Edge network\n",
    "    e = model.edge_network(H, Ri, Ro)\n",
    "    # Node network\n",
    "    H = model.node_network(H, e, Ri, Ro)\n",
    "    return e, H"
   ]
  },
  {
   "cell_type": "code",
   "execution_count": 10,
   "metadata": {},
   "outputs": [
    {
     "ename": "NameError",
     "evalue": "name 'test_X' is not defined",
     "output_type": "error",
     "traceback": [
      "\u001b[0;31m---------------------------------------------------------------------------\u001b[0m",
      "\u001b[0;31mNameError\u001b[0m                                 Traceback (most recent call last)",
      "\u001b[0;32m<ipython-input-10-4bf671a7dbc4>\u001b[0m in \u001b[0;36m<module>\u001b[0;34m()\u001b[0m\n\u001b[0;32m----> 1\u001b[0;31m batcher = batch_generator(test_X, test_Ri, test_Ro, test_y, train=False,\n\u001b[0m\u001b[1;32m      2\u001b[0m                           n_samples=1, batch_size=1)\n",
      "\u001b[0;31mNameError\u001b[0m: name 'test_X' is not defined"
     ]
    }
   ],
   "source": [
    "batcher = batch_generator(test_X, test_Ri, test_Ro, test_y, train=False,\n",
    "                          n_samples=1, batch_size=1)"
   ]
  },
  {
   "cell_type": "code",
   "execution_count": null,
   "metadata": {},
   "outputs": [],
   "source": [
    "model = estim.model"
   ]
  },
  {
   "cell_type": "code",
   "execution_count": null,
   "metadata": {},
   "outputs": [],
   "source": [
    "# Pull the inputs from the batcher\n",
    "(X, Ri, Ro), y = next(batcher)"
   ]
  },
  {
   "cell_type": "code",
   "execution_count": null,
   "metadata": {
    "scrolled": false
   },
   "outputs": [],
   "source": [
    "# Apply input network\n",
    "with torch.no_grad():\n",
    "    H = model.input_network(X)\n",
    "\n",
    "    for i in range(model.n_iters + 1):\n",
    "        # Apply an iteration of the graph\n",
    "        e, H = graph_iter(model, X, H, Ri, Ro)\n",
    "\n",
    "        # Draw the edges\n",
    "        draw_sample(torch_to_np(X)[0]*feature_scale,\n",
    "                    torch_to_np(Ri)[0], torch_to_np(Ro)[0],\n",
    "                    torch_to_np(e)[0], alpha_labels=True)"
   ]
  },
  {
   "cell_type": "markdown",
   "metadata": {},
   "source": [
    "## Discussion\n",
    "\n",
    "On 10 tracks and 10 barrel layers, the performance is great!"
   ]
  }
 ],
 "metadata": {
  "kernelspec": {
   "display_name": "Python 3",
   "language": "python",
   "name": "python3"
  },
  "language_info": {
   "codemirror_mode": {
    "name": "ipython",
    "version": 3
   },
   "file_extension": ".py",
   "mimetype": "text/x-python",
   "name": "python",
   "nbconvert_exporter": "python",
   "pygments_lexer": "ipython3",
   "version": "3.6.5"
  }
 },
 "nbformat": 4,
 "nbformat_minor": 2
}
