{
 "cells": [
  {
   "cell_type": "markdown",
   "metadata": {},
   "source": [
    "# Message passing neural network for segment classification on ACTS data\n",
    "\n",
    "In this notebook we'll implement a model similar to the Interaction Networks model:\n",
    "https://arxiv.org/abs/1612.00222\n",
    "\n",
    "The model will consider a graph of connected hits and try to determine which edges are real and which are spurious."
   ]
  },
  {
   "cell_type": "code",
   "execution_count": 2,
   "metadata": {},
   "outputs": [],
   "source": [
    "# Training concurrency\n",
    "import os\n",
    "os.environ['OMP_NUM_THREADS'] = '2'\n",
    "os.environ['CUDA_VISIBLE_DEVICES'] = '0'\n",
    "\n",
    "cuda = True"
   ]
  },
  {
   "cell_type": "code",
   "execution_count": 3,
   "metadata": {},
   "outputs": [
    {
     "name": "stdout",
     "output_type": "stream",
     "text": [
      "[1.00000000e+03 3.92699082e-01 1.00000000e+03]\n"
     ]
    }
   ],
   "source": [
    "%load_ext autoreload\n",
    "%autoreload 2\n",
    "\n",
    "# System imports\n",
    "from __future__ import print_function\n",
    "import os\n",
    "import multiprocessing as mp\n",
    "from timeit import default_timer as timer\n",
    "\n",
    "# Externals\n",
    "import numpy as np\n",
    "import pandas as pd\n",
    "import matplotlib.pyplot as plt\n",
    "import sklearn.metrics\n",
    "from sklearn.model_selection import train_test_split\n",
    "\n",
    "# Torch imports\n",
    "import torch\n",
    "import torch.nn as nn\n",
    "import torch.nn.functional as F\n",
    "\n",
    "device = torch.device(\"cuda\" if cuda else \"cpu\")\n",
    "\n",
    "# Local imports\n",
    "from acts import process_hits_files, select_barrel_hits, select_hits\n",
    "from graph import load_graphs, SparseGraph, graph_from_sparse\n",
    "from model_maskedlinear import SegmentClassifier\n",
    "from estimator_maskedlinear import Estimator\n",
    "\n",
    "feature_scale = np.array([1000., np.pi/8, 1000.])\n",
    "\n",
    "n_features = feature_scale.shape[0]\n",
    "print(feature_scale)\n",
    "\n",
    "%matplotlib inline"
   ]
  },
  {
   "cell_type": "code",
   "execution_count": 4,
   "metadata": {},
   "outputs": [],
   "source": [
    "if cuda:\n",
    "    np_to_torch = lambda x, volatile=False, dtype=np.float32: (torch.tensor(x.astype(dtype), requires_grad=False).cuda())\n",
    "else:\n",
    "    np_to_torch = lambda x, volatile=False, dtype=np.float32: (torch.tensor(x.astype(dtype), requires_grad=False))\n",
    "\n",
    "if cuda:\n",
    "    torch_to_np = lambda x: x.cpu().numpy()\n",
    "else:\n",
    "    torch_to_np = lambda x: x.detach().numpy()"
   ]
  },
  {
   "cell_type": "markdown",
   "metadata": {},
   "source": [
    "## Data utilities"
   ]
  },
  {
   "cell_type": "code",
   "execution_count": null,
   "metadata": {},
   "outputs": [],
   "source": []
  },
  {
   "cell_type": "markdown",
   "metadata": {},
   "source": [
    "## Prepare the data"
   ]
  },
  {
   "cell_type": "code",
   "execution_count": 5,
   "metadata": {},
   "outputs": [],
   "source": [
    "#input_dir = '/data/ntran/prod_mu10_pt1000_2017_07_29'\n",
    "#input_dir = '/cms-sc17/graphNN/prod_mu10_pt1000_2017_07_29'\n",
    "input_dir = '/home/ec2-user/gnn-fpga/gnn/graphs_n-tracks10_z0-max400_phi-slope-max0p002_no-missing-hits/'"
   ]
  },
  {
   "cell_type": "code",
   "execution_count": 6,
   "metadata": {},
   "outputs": [
    {
     "name": "stdout",
     "output_type": "stream",
     "text": [
      "14160\n",
      "CPU times: user 31.3 s, sys: 544 ms, total: 31.8 s\n",
      "Wall time: 31.8 s\n"
     ]
    }
   ],
   "source": [
    "%%time\n",
    "n_samples = 14160\n",
    "filenames = [os.path.join(input_dir, 'graph%06i.npz' % i) for i in range(n_samples)]\n",
    "graphs = load_graphs(filenames, SparseGraph)\n",
    "print(len(graphs))"
   ]
  },
  {
   "cell_type": "code",
   "execution_count": 7,
   "metadata": {},
   "outputs": [
    {
     "data": {
      "text/plain": [
       "0.3614505"
      ]
     },
     "execution_count": 7,
     "metadata": {},
     "output_type": "execute_result"
    }
   ],
   "source": [
    "# Get the mean label for all the segments from all samples\n",
    "\n",
    "# Flatten the labels array\n",
    "flat_y = np.concatenate([g.y for g in graphs])\n",
    "\n",
    "flat_y.mean()"
   ]
  },
  {
   "cell_type": "markdown",
   "metadata": {},
   "source": [
    "## Define the data generator\n",
    "\n",
    "Since every event is unique, we need something which can batch things together into batch-specific tensors.\n",
    "\n",
    "It should just use the max size required for that sample."
   ]
  },
  {
   "cell_type": "code",
   "execution_count": 8,
   "metadata": {},
   "outputs": [],
   "source": [
    "def merge_graphs(graphs):\n",
    "    batch_size = len(graphs)\n",
    "    \n",
    "    # Special handling of batch size 1\n",
    "    if batch_size == 1:\n",
    "        g = graphs[0]\n",
    "        # Prepend singleton batch dimension\n",
    "        return g.X[None], g.Ri[None], g.Ro[None], g.y[None]\n",
    "    \n",
    "    # Get the maximum sizes in this batch\n",
    "    n_features = graphs[0].X.shape[1]\n",
    "    n_nodes = np.array([g.X.shape[0] for g in graphs])\n",
    "    n_edges = np.array([g.y.shape[0] for g in graphs])\n",
    "    max_nodes = n_nodes.max()\n",
    "    max_edges = n_edges.max()\n",
    "\n",
    "    # Allocate the tensors for this batch\n",
    "    batch_X = np.zeros((batch_size, max_nodes, n_features), dtype=np.float32)\n",
    "    batch_Ri = np.zeros((batch_size, max_nodes, max_edges), dtype=np.uint8)\n",
    "    batch_Ro = np.zeros((batch_size, max_nodes, max_edges), dtype=np.uint8)\n",
    "    batch_y = np.zeros((batch_size, max_edges), dtype=np.uint8)\n",
    "\n",
    "    # Loop over samples and fill the tensors\n",
    "    for i, g in enumerate(graphs):\n",
    "        batch_X[i, :n_nodes[i]] = g.X\n",
    "        batch_Ri[i, :n_nodes[i], :n_edges[i]] = g.Ri\n",
    "        batch_Ro[i, :n_nodes[i], :n_edges[i]] = g.Ro\n",
    "        batch_y[i, :n_edges[i]] = g.y\n",
    "    \n",
    "    return batch_X, batch_Ri, batch_Ro, batch_y\n",
    "\n",
    "def batch_generator(graphs, n_samples=1, batch_size=1, train=True):\n",
    "    volatile = not train\n",
    "    batch_idxs = np.arange(0, n_samples, batch_size)\n",
    "    # Loop over epochs\n",
    "    while True:\n",
    "        # Loop over batches\n",
    "        for j in batch_idxs:\n",
    "            #print('batch', j, '-', j+batch_size)\n",
    "            batch_graphs = [graph_from_sparse(g) for g in graphs[j:j+batch_size]]\n",
    "            batch_X, batch_Ri, batch_Ro, batch_y = merge_graphs(batch_graphs)\n",
    "            #print('  graphs merged')\n",
    "            batch_inputs = [\n",
    "                np_to_torch(batch_X, volatile=volatile),\n",
    "                np_to_torch(batch_Ri, volatile=volatile),\n",
    "                np_to_torch(batch_Ro, volatile=volatile)]\n",
    "            batch_target = np_to_torch(batch_y, volatile=volatile)\n",
    "            #print('  data prepared')\n",
    "            yield batch_inputs, batch_target"
   ]
  },
  {
   "cell_type": "markdown",
   "metadata": {},
   "source": [
    "### Visualize one sample\n",
    "\n",
    "Need to put this code into a function, and write it so it will be easy to use\n",
    "at model evaluation time (e.g., using model representation of the data)."
   ]
  },
  {
   "cell_type": "code",
   "execution_count": 8,
   "metadata": {},
   "outputs": [],
   "source": [
    "def draw_sample(X, Ri, Ro, y, cmap='bwr_r', alpha_labels=False):\n",
    "    \"\"\"\n",
    "    TODO: make segment coloring configurable.\n",
    "    \"\"\"\n",
    "    # Select the i/o node features for each segment\n",
    "    feats_o = X[np.where(Ri.T)[1]]\n",
    "    feats_i = X[np.where(Ro.T)[1]]\n",
    "    # Prepare the figure\n",
    "    fig, (ax0, ax1) = plt.subplots(1, 2, figsize=(9,4))\n",
    "    cmap = plt.get_cmap(cmap)\n",
    "    \n",
    "    # Draw the hits (r, phi, z)\n",
    "    ax0.scatter(X[:,2], X[:,0], c='k')\n",
    "    ax1.scatter(X[:,1], X[:,0], c='k')\n",
    "    \n",
    "    # Draw the segments\n",
    "    for j in range(y.shape[0]):\n",
    "        if alpha_labels:\n",
    "            seg_args = dict(c='k', alpha=float(y[j]))\n",
    "        else:\n",
    "            seg_args = dict(c=cmap(float(y[j])))\n",
    "        ax0.plot([feats_o[j,2], feats_i[j,2]],\n",
    "                 [feats_o[j,0], feats_i[j,0]], '-', **seg_args)\n",
    "        ax1.plot([feats_o[j,1], feats_i[j,1]],\n",
    "                 [feats_o[j,0], feats_i[j,0]], '-', **seg_args)\n",
    "    # Adjust axes\n",
    "    #ax0.set_xlim(-1100, 1100)\n",
    "    ax1.set_xlim(-np.pi/8, np.pi/8)\n",
    "    ax0.set_xlabel('$z$ [mm]')\n",
    "    ax1.set_xlabel('$\\phi$ [rad]')\n",
    "    ax0.set_ylabel('$r$ [mm]')\n",
    "    ax1.set_ylabel('$r$ [mm]')\n",
    "    plt.tight_layout()"
   ]
  },
  {
   "cell_type": "code",
   "execution_count": 9,
   "metadata": {},
   "outputs": [
    {
     "data": {
      "image/png": "[encoded data removed]",
      "text/plain": [
       "<Figure size 648x288 with 2 Axes>"
      ]
     },
     "metadata": {},
     "output_type": "display_data"
    }
   ],
   "source": [
    "# Pull the inputs from the batcher\n",
    "g = graph_from_sparse(graphs[0])\n",
    "draw_sample(g.X*feature_scale, g.Ri, g.Ro, g.y)"
   ]
  },
  {
   "cell_type": "code",
   "execution_count": 10,
   "metadata": {},
   "outputs": [
    {
     "data": {
      "text/plain": [
       "'edges = []\\nfor g in graphs:\\n    g = graph_from_sparse(g)\\n    n_edge = g.Ro.shape[1]\\n    edges.append(n_edge)\\nbins = np.linspace(min(edges), \\n                   max(edges),\\n                   35)    \\nplt.hist(edges, bins=bins)\\nplt.title(\\'Edge Distribution\\')\\nplt.xlabel(\\'Edges per Event\\')\\nplt.ylabel(\\'Frequency\\')\\n\\nplt.show()\\n\\nprint(\"Average:\", round(np.mean(edges), 1), \"Standard Deviation:\", round(np.std(edges), 1)) '"
      ]
     },
     "execution_count": 10,
     "metadata": {},
     "output_type": "execute_result"
    }
   ],
   "source": [
    "'''edges = []\n",
    "for g in graphs:\n",
    "    g = graph_from_sparse(g)\n",
    "    n_edge = g.Ro.shape[1]\n",
    "    edges.append(n_edge)\n",
    "bins = np.linspace(min(edges), \n",
    "                   max(edges),\n",
    "                   35)    \n",
    "plt.hist(edges, bins=bins)\n",
    "plt.title('Edge Distribution')\n",
    "plt.xlabel('Edges per Event')\n",
    "plt.ylabel('Frequency')\n",
    "\n",
    "plt.show()\n",
    "\n",
    "print(\"Average:\", round(np.mean(edges), 1), \"Standard Deviation:\", round(np.std(edges), 1)) '''"
   ]
  },
  {
   "cell_type": "markdown",
   "metadata": {},
   "source": [
    "## Train the model"
   ]
  },
  {
   "cell_type": "code",
   "execution_count": 9,
   "metadata": {},
   "outputs": [],
   "source": [
    "# Model config\n",
    "hidden_dim = 8\n",
    "n_iters = 4\n",
    "\n",
    "# Training config\n",
    "batch_size = 32\n",
    "\n",
    "n_epochs = 100\n",
    "valid_frac = 0.2\n",
    "test_frac = 0.2"
   ]
  },
  {
   "cell_type": "code",
   "execution_count": 10,
   "metadata": {},
   "outputs": [
    {
     "data": {
      "text/plain": [
       "(8512, 2816, 2816, 14144)"
      ]
     },
     "execution_count": 10,
     "metadata": {},
     "output_type": "execute_result"
    }
   ],
   "source": [
    "# We round by batch_size to avoid partial batches\n",
    "n_test = int(n_samples * test_frac) // batch_size * batch_size\n",
    "n_valid = int(n_samples * valid_frac) // batch_size * batch_size\n",
    "n_train = (n_samples - n_valid - n_test) // batch_size * batch_size\n",
    "n_train_batches = n_train // batch_size\n",
    "n_valid_batches = n_valid // batch_size\n",
    "n_test_batches = n_test #// batch_size\n",
    "\n",
    "n_train, n_valid, n_test, n_train + n_valid + n_test"
   ]
  },
  {
   "cell_type": "code",
   "execution_count": 11,
   "metadata": {},
   "outputs": [
    {
     "name": "stdout",
     "output_type": "stream",
     "text": [
      "Train set size: 8528\n",
      "Valid set size: 2816\n",
      "Test set size:  2816\n"
     ]
    }
   ],
   "source": [
    "# Partition the dataset\n",
    "train_graphs, test_graphs = train_test_split(graphs, test_size=n_test)\n",
    "train_graphs, valid_graphs = train_test_split(train_graphs, test_size=n_valid)\n",
    "\n",
    "print('Train set size:', len(train_graphs))\n",
    "print('Valid set size:', len(valid_graphs))\n",
    "print('Test set size: ', len(test_graphs))"
   ]
  },
  {
   "cell_type": "code",
   "execution_count": 12,
   "metadata": {},
   "outputs": [],
   "source": [
    "# Prepare the batch generators\n",
    "train_batcher = batch_generator(train_graphs, n_samples=n_train, batch_size=batch_size)\n",
    "valid_batcher = batch_generator(valid_graphs, n_samples=n_valid, batch_size=batch_size, train=False)"
   ]
  },
  {
   "cell_type": "code",
   "execution_count": 20,
   "metadata": {},
   "outputs": [
    {
     "name": "stdout",
     "output_type": "stream",
     "text": [
      "2018-08-01 17:12:32.218912 Model: \n",
      "SegmentClassifier(\n",
      "  (input_network): Sequential(\n",
      "    (0): Linear(in_features=3, out_features=8, bias=True)\n",
      "    (1): Tanh()\n",
      "  )\n",
      "  (edge_network): EdgeNetwork(\n",
      "    (network): Sequential(\n",
      "      (0): MaskedLinear(in_features=22, out_features=8, bias=True)\n",
      "      (1): Tanh()\n",
      "      (2): MaskedLinear(in_features=8, out_features=1, bias=True)\n",
      "      (3): Sigmoid()\n",
      "    )\n",
      "  )\n",
      "  (node_network): NodeNetwork(\n",
      "    (network): Sequential(\n",
      "      (0): MaskedLinear(in_features=33, out_features=8, bias=True)\n",
      "      (1): Tanh()\n",
      "      (2): MaskedLinear(in_features=8, out_features=8, bias=True)\n",
      "      (3): Tanh()\n",
      "    )\n",
      "  )\n",
      ")\n",
      "2018-08-01 17:12:32.219591 Parameters: 569\n",
      "Edge Network Sum: 77\n",
      "Edge2 Network Sum: 8\n",
      "Node Network Sum: 2\n",
      "Node2 Network Sum: 7\n"
     ]
    }
   ],
   "source": [
    "threshold = 1\n",
    "%matplotlib inline\n",
    "\n",
    "model = SegmentClassifier(input_dim=n_features, hidden_dim=hidden_dim, n_iters=n_iters, masks_e=None, masks_n=None)\n",
    "loss_func = nn.BCELoss()\n",
    "estim = Estimator(model, loss_func=loss_func, cuda=cuda, l1 = 0)\n",
    "estim.load_checkpoint('Trainings/hid8l15*3.pt')\n",
    "\n",
    "def summer(arr, net_name):\n",
    "    arr_f = arr.flatten()\n",
    "    sum_n = sum(arr_f)\n",
    "    print(net_name, 'Network Sum:', sum_n)\n",
    "\n",
    "with torch.no_grad():\n",
    "    # Edge Networks\n",
    "    #print(model.edge_network.network[0].weight)\n",
    "    #print(model.edge_network.network[0].weight.shape)\n",
    "    arr_e = torch_to_np(model.edge_network.network[0].weight)\n",
    "    arr_e = (np.abs(arr_e) > threshold)*1\n",
    "    summer(arr_e, 'Edge')\n",
    "\n",
    "\n",
    "    arr_e2 = torch_to_np(model.edge_network.network[2].weight)\n",
    "    arr_e2 = (np.abs(arr_e2) > threshold)*1\n",
    "    summer(arr_e2, 'Edge2')\n",
    "    \n",
    "    \n",
    "    # Node Networks\n",
    "    arr_n = torch_to_np(model.node_network.network[0].weight)\n",
    "    #print(model.node_network.network[0].weight.shape)\n",
    "    arr_n = (np.abs(arr_n) > threshold)*1\n",
    "    summer(arr_n, 'Node')\n",
    "\n",
    "    \n",
    "    arr_n2 = torch_to_np(model.node_network.network[2].weight)\n",
    "    #print(model.node_network.network[2].weight.shape)\n",
    "    arr_n2 = (np.abs(arr_n2) > threshold)*1\n",
    "    summer(arr_n2, 'Node2')\n",
    "    \n",
    "    mask_e = [np_to_torch(arr_e), np_to_torch(arr_e2)]\n",
    "    mask_n = [np_to_torch(arr_n), np_to_torch(arr_n2)]"
   ]
  },
  {
   "cell_type": "code",
   "execution_count": 14,
   "metadata": {},
   "outputs": [
    {
     "name": "stdout",
     "output_type": "stream",
     "text": [
      "<class 'torch.Tensor'>\n",
      "<class 'torch.Tensor'>\n",
      "<class 'torch.Tensor'>\n",
      "<class 'torch.Tensor'>\n",
      "<class 'torch.Tensor'>\n",
      "<class 'torch.Tensor'>\n",
      "<class 'torch.Tensor'>\n",
      "<class 'torch.Tensor'>\n",
      "2018-08-01 17:00:15.886626 Model: \n",
      "SegmentClassifier(\n",
      "  (input_network): Sequential(\n",
      "    (0): Linear(in_features=3, out_features=8, bias=True)\n",
      "    (1): Tanh()\n",
      "  )\n",
      "  (edge_network): EdgeNetwork(\n",
      "    (network): Sequential(\n",
      "      (0): MaskedLinear(in_features=22, out_features=8, bias=True)\n",
      "      (1): Tanh()\n",
      "      (2): MaskedLinear(in_features=8, out_features=1, bias=True)\n",
      "      (3): Sigmoid()\n",
      "    )\n",
      "  )\n",
      "  (node_network): NodeNetwork(\n",
      "    (network): Sequential(\n",
      "      (0): MaskedLinear(in_features=33, out_features=8, bias=True)\n",
      "      (1): Tanh()\n",
      "      (2): MaskedLinear(in_features=8, out_features=8, bias=True)\n",
      "      (3): Tanh()\n",
      "    )\n",
      "  )\n",
      ")\n",
      "2018-08-01 17:00:15.886968 Parameters: 569\n"
     ]
    }
   ],
   "source": [
    "# Construct the model\n",
    "model = SegmentClassifier(input_dim=n_features, hidden_dim=hidden_dim, n_iters=n_iters, masks_e=mask_e, masks_n=mask_n)\n",
    "loss_func = nn.BCELoss()\n",
    "estim = Estimator(model, loss_func=loss_func, cuda=cuda, l1= 0.00003)"
   ]
  },
  {
   "cell_type": "code",
   "execution_count": 15,
   "metadata": {},
   "outputs": [],
   "source": [
    "estim.load_weights('Trainings/hid8l15*3.pt')"
   ]
  },
  {
   "cell_type": "code",
   "execution_count": 16,
   "metadata": {
    "scrolled": true
   },
   "outputs": [
    {
     "name": "stdout",
     "output_type": "stream",
     "text": [
      "2018-08-01 17:00:30.112676 Epoch 0\n",
      "2018-08-01 17:00:35.125662   training loss 0.752 time 5.01287s\n",
      "2018-08-01 17:00:35.957138   validate loss 0.435\n",
      "2018-08-01 17:00:35.957247  save checkpoint\n",
      "2018-08-01 17:00:35.959915 Epoch 1\n",
      "2018-08-01 17:00:40.828588   training loss 0.347 time 4.86859s\n",
      "2018-08-01 17:00:41.654926   validate loss 0.292\n",
      "2018-08-01 17:00:41.655360  save checkpoint\n",
      "2018-08-01 17:00:41.657623 Epoch 2\n"
     ]
    },
    {
     "ename": "KeyboardInterrupt",
     "evalue": "",
     "output_type": "error",
     "traceback": [
      "\u001b[0;31m---------------------------------------------------------------------------\u001b[0m",
      "\u001b[0;31mKeyboardInterrupt\u001b[0m                         Traceback (most recent call last)",
      "\u001b[0;32m<ipython-input-16-a1aaa8872b00>\u001b[0m in \u001b[0;36m<module>\u001b[0;34m()\u001b[0m\n\u001b[1;32m      1\u001b[0m estim.fit_gen(train_batcher, n_batches=n_train_batches, n_epochs=100,\n\u001b[1;32m      2\u001b[0m               \u001b[0mvalid_generator\u001b[0m\u001b[0;34m=\u001b[0m\u001b[0mvalid_batcher\u001b[0m\u001b[0;34m,\u001b[0m \u001b[0mn_valid_batches\u001b[0m\u001b[0;34m=\u001b[0m\u001b[0mn_valid_batches\u001b[0m\u001b[0;34m,\u001b[0m\u001b[0;34m\u001b[0m\u001b[0m\n\u001b[0;32m----> 3\u001b[0;31m               filename='Trainings/hid8l153mask0_ldweights.pt')\n\u001b[0m",
      "\u001b[0;32m~/gnn-fpga/gnn_new/estimator_maskedlinear.py\u001b[0m in \u001b[0;36mfit_gen\u001b[0;34m(self, train_generator, n_batches, n_epochs, valid_generator, n_valid_batches, verbose, filename)\u001b[0m\n\u001b[1;32m    108\u001b[0m             \u001b[0;32mfor\u001b[0m \u001b[0mj\u001b[0m \u001b[0;32min\u001b[0m \u001b[0mrange\u001b[0m\u001b[0;34m(\u001b[0m\u001b[0mn_batches\u001b[0m\u001b[0;34m)\u001b[0m\u001b[0;34m:\u001b[0m\u001b[0;34m\u001b[0m\u001b[0m\n\u001b[1;32m    109\u001b[0m                 \u001b[0mbatch_input\u001b[0m\u001b[0;34m,\u001b[0m \u001b[0mbatch_target\u001b[0m \u001b[0;34m=\u001b[0m \u001b[0mnext\u001b[0m\u001b[0;34m(\u001b[0m\u001b[0mtrain_generator\u001b[0m\u001b[0;34m)\u001b[0m\u001b[0;34m\u001b[0m\u001b[0m\n\u001b[0;32m--> 110\u001b[0;31m                 batch_loss = (self.training_step(batch_input, batch_target)\n\u001b[0m\u001b[1;32m    111\u001b[0m                               .cpu().data.item())\n\u001b[1;32m    112\u001b[0m                 \u001b[0msum_loss\u001b[0m \u001b[0;34m+=\u001b[0m \u001b[0mbatch_loss\u001b[0m\u001b[0;34m\u001b[0m\u001b[0m\n",
      "\u001b[0;31mKeyboardInterrupt\u001b[0m: "
     ]
    }
   ],
   "source": [
    "estim.fit_gen(train_batcher, n_batches=n_train_batches, n_epochs=100,\n",
    "              valid_generator=valid_batcher, n_valid_batches=n_valid_batches, \n",
    "              filename='Trainings/hid8l153mask0_ldweights.pt')"
   ]
  },
  {
   "cell_type": "code",
   "execution_count": null,
   "metadata": {},
   "outputs": [],
   "source": [
    "#estim.load_checkpoint('Trainings/hid8l14.pt')"
   ]
  },
  {
   "cell_type": "markdown",
   "metadata": {},
   "source": [
    "### Loss curves"
   ]
  },
  {
   "cell_type": "code",
   "execution_count": 45,
   "metadata": {},
   "outputs": [
    {
     "data": {
      "image/png": "[encoded data removed]",
      "text/plain": [
       "<Figure size 432x288 with 1 Axes>"
      ]
     },
     "metadata": {},
     "output_type": "display_data"
    }
   ],
   "source": [
    "# Plot the loss\n",
    "plt.figure()\n",
    "plt.plot(estim.train_losses, label='training set')\n",
    "plt.plot(estim.valid_losses, label='validation set')\n",
    "plt.xlabel('Epoch')\n",
    "plt.ylabel('Loss')\n",
    "#plt.xlim(195,300)\n",
    "#plt.ylim(.06,.08)\n",
    "plt.legend(loc=0);"
   ]
  },
  {
   "cell_type": "markdown",
   "metadata": {},
   "source": [
    "## Evaluate model on the test set"
   ]
  },
  {
   "cell_type": "code",
   "execution_count": 16,
   "metadata": {},
   "outputs": [],
   "source": [
    "if cuda:\n",
    "    torch.cuda.empty_cache()"
   ]
  },
  {
   "cell_type": "code",
   "execution_count": 23,
   "metadata": {},
   "outputs": [],
   "source": [
    "estim.load_checkpoint('Trainings/hid8l15*5v2.pt')"
   ]
  },
  {
   "cell_type": "code",
   "execution_count": 91,
   "metadata": {},
   "outputs": [
    {
     "name": "stdout",
     "output_type": "stream",
     "text": [
      "(699119,)\n",
      "(699119,)\n"
     ]
    }
   ],
   "source": [
    "# prepare test generator\n",
    "with torch.no_grad():\n",
    "    test_batcher = batch_generator(test_graphs, n_samples=n_test, batch_size=1, train=False)\n",
    "    test_outputs = estim.predict(test_batcher, n_test_batches, concat=False)\n",
    "    test_preds = [torch_to_np(o) for o in test_outputs]\n",
    "\n",
    "    # Flatten the predictions and labels\n",
    "    flat_y = np.concatenate([g.y.flatten() for g in test_graphs])\n",
    "    flat_pred = np.concatenate([p.flatten() for p in test_preds])\n",
    "    print(flat_y.shape)\n",
    "    print(flat_pred.shape)"
   ]
  },
  {
   "cell_type": "code",
   "execution_count": 92,
   "metadata": {},
   "outputs": [],
   "source": [
    "def makeROC(flat_y, flat_pred, thresh=0.5):\n",
    "    \n",
    "    print('Test set results with threshold of', thresh)\n",
    "    print('Accuracy:  %.4f' % sklearn.metrics.accuracy_score(flat_y, flat_pred>thresh))\n",
    "    print('Precision: %.4f' % sklearn.metrics.precision_score(flat_y, flat_pred>thresh))\n",
    "    print('Recall:    %.4f' % sklearn.metrics.recall_score(flat_y, flat_pred>thresh))\n",
    "    \n",
    "    # Compute the ROC curve\n",
    "    fpr, tpr, _ = sklearn.metrics.roc_curve(flat_y, flat_pred)\n",
    "    \n",
    "    plt.figure(figsize=(9,2))\n",
    "\n",
    "    # Plot the model outputs\n",
    "    plt.subplot(131)\n",
    "    binning=dict(bins=50, range=(0,1), histtype='bar')\n",
    "    plt.hist(flat_pred[flat_y<thresh], label='fake', **binning)\n",
    "    plt.hist(flat_pred[flat_y>thresh], label='true', **binning)\n",
    "    #plt.xlim(.1,.125)\n",
    "    plt.xlabel('Model output')\n",
    "    plt.legend(loc=0)\n",
    "\n",
    "    # Plot the ROC curve\n",
    "    plt.subplot(132)\n",
    "    plt.plot(fpr, tpr)\n",
    "    plt.plot([0, 1], [0, 1], '--')\n",
    "    plt.xlabel('False positive rate')\n",
    "    plt.ylabel('True positive rate')\n",
    "    plt.title('ROC curve')\n",
    "\n",
    "    # Plot the ROC curve\n",
    "    plt.subplot(133)\n",
    "    plt.semilogx(fpr, tpr)\n",
    "    #plt.plot([0, 1], [0, 1], '--')\n",
    "    plt.xlabel('False positive rate')\n",
    "    plt.ylabel('True positive rate')\n",
    "    plt.xlim(0, 1)\n",
    "    plt.title('ROC curve')\n",
    "\n",
    "    plt.tight_layout()"
   ]
  },
  {
   "cell_type": "code",
   "execution_count": 93,
   "metadata": {},
   "outputs": [
    {
     "name": "stdout",
     "output_type": "stream",
     "text": [
      "Test set results with threshold of 0.5\n",
      "Accuracy:  0.7624\n",
      "Precision: 0.6421\n",
      "Recall:    0.7768\n"
     ]
    },
    {
     "name": "stderr",
     "output_type": "stream",
     "text": [
      "/home/ec2-user/miniconda3/envs/pytorch-training/lib/python3.6/site-packages/matplotlib/axes/_base.py:3129: UserWarning: Attempted to set non-positive xlimits for log-scale axis; invalid limits will be ignored.\n",
      "  'Attempted to set non-positive xlimits for log-scale axis; '\n"
     ]
    },
    {
     "data": {
      "image/png": "[encoded data removed]",
      "text/plain": [
       "<Figure size 648x144 with 3 Axes>"
      ]
     },
     "metadata": {},
     "output_type": "display_data"
    }
   ],
   "source": [
    "#after training\n",
    "makeROC(flat_y, flat_pred)"
   ]
  },
  {
   "cell_type": "code",
   "execution_count": 125,
   "metadata": {},
   "outputs": [
    {
     "name": "stdout",
     "output_type": "stream",
     "text": [
      "Parameter containing:\n",
      "tensor([[ 2.1744e-01,  1.6664e-04, -5.2710e-01, -4.9102e-01,  8.4390e-03,\n",
      "          1.0018e+00, -1.9146e-02, -4.3370e-01, -4.3146e-04,  1.4004e-01,\n",
      "         -6.0569e-05,  3.3191e-01,  3.1254e-01, -1.4961e-01,  6.9363e-01,\n",
      "         -3.6197e-01,  2.8552e+00, -3.1378e-04,  8.8049e-02,  4.5248e-01,\n",
      "          9.9691e-01, -1.5543e-02],\n",
      "        [-9.9925e-01, -3.4483e-01,  1.4330e-01,  3.4329e+00, -2.4558e+00,\n",
      "          2.1361e+00, -2.0970e+00,  1.5100e-01,  3.0288e-01, -6.0517e+00,\n",
      "          7.9162e-02,  9.9303e-01,  1.1525e+00,  1.9254e-04, -4.0482e+00,\n",
      "          2.3804e+00, -2.7845e+00,  2.1905e+00,  1.2092e-01,  7.9974e-01,\n",
      "          5.7255e+00, -2.1965e-01],\n",
      "        [-1.1652e-01, -1.4626e-04,  8.8523e-01,  5.5999e-02,  2.0262e-04,\n",
      "          2.4337e-01, -4.1754e-01,  1.3412e+00,  5.8769e-01,  1.6895e-04,\n",
      "          7.6432e-06,  1.1661e+00, -3.2958e-01, -7.4157e-05,  2.8726e-01,\n",
      "         -5.6915e-01,  1.4692e+00,  8.9548e-01, -4.6404e-01,  1.5221e-01,\n",
      "         -2.0653e-06,  5.5849e-01],\n",
      "        [-1.1420e-04,  1.2740e-02,  7.4767e-05,  4.8778e-02, -5.5919e-01,\n",
      "         -3.2211e-05,  2.5727e-06,  1.6895e+00, -4.6182e-01,  1.6094e-01,\n",
      "          5.6036e-05, -1.2058e-04, -8.4440e-01, -5.2876e-01,  1.7589e-01,\n",
      "          6.7820e-05,  2.4647e-01, -1.1123e-04,  3.8736e-01,  1.8331e-04,\n",
      "         -2.3018e-01, -7.9552e-05],\n",
      "        [-2.7438e+00, -4.4597e-01, -3.2184e+00,  1.2234e+00, -1.2942e+00,\n",
      "          9.8727e-01, -1.9659e+00, -3.0216e+00,  6.3994e-01, -3.1205e+00,\n",
      "          6.6689e+00,  4.1889e+00,  3.1549e-01,  2.0937e+00, -1.1430e+00,\n",
      "          9.3676e-01, -1.9059e+00,  2.4953e+00,  3.2143e+00, -1.7728e+00,\n",
      "          3.1974e+00, -5.3883e+00],\n",
      "        [-1.3729e+00,  3.4938e-01,  2.2222e+00, -2.6114e+00,  1.5809e+00,\n",
      "          6.7591e-01,  3.2577e+00,  2.7715e+00, -3.4893e-01,  5.3486e+00,\n",
      "         -2.2803e-05, -5.6716e-01, -6.4139e-01, -1.7030e+00,  2.5870e+00,\n",
      "         -1.5784e+00,  5.1837e-01, -3.1498e+00, -3.0948e+00,  1.2186e+00,\n",
      "         -5.4251e+00,  1.0643e-04],\n",
      "        [-2.5985e-01, -7.0797e-01, -1.8756e+00,  1.1446e+00, -2.6698e-01,\n",
      "          6.3286e-01, -1.9757e+00, -3.7938e-01, -3.4390e-01, -3.0605e+00,\n",
      "          1.5716e-01,  9.7162e-01, -1.2545e-01,  1.4671e+00, -1.0202e+00,\n",
      "          3.3935e-01,  7.2842e-05,  2.1044e+00,  1.1327e+00,  1.6554e-01,\n",
      "          3.1032e+00,  9.1456e-06],\n",
      "        [ 1.1144e+00,  1.6266e+00,  3.8640e-01, -2.4626e+00,  2.4409e+00,\n",
      "         -1.5469e+00,  2.4934e+00,  1.4803e+00,  1.1061e+00,  5.3828e+00,\n",
      "          3.9140e+00, -2.6521e+00,  5.0028e-05, -2.3502e-01,  2.8120e+00,\n",
      "         -2.2702e+00,  1.9727e+00, -2.7164e+00, -1.7782e+00, -9.8371e-01,\n",
      "         -5.2653e+00, -2.7571e+00]], device='cuda:0')\n",
      "torch.Size([8, 22])\n",
      "Edge Network Sum: 149\n",
      "Parameter containing:\n",
      "tensor([[ 0.2174,  0.0000, -0.5271, -0.4910,  0.0000,  1.0018, -0.0191,\n",
      "         -0.4337, -0.0000,  0.1400, -0.0000,  0.3319,  0.3125, -0.1496,\n",
      "          0.6936, -0.3620,  2.8552, -0.0000,  0.0880,  0.4525,  0.9969,\n",
      "         -0.0155],\n",
      "        [-0.9992, -0.3448,  0.1433,  3.4329, -2.4558,  2.1361, -2.0970,\n",
      "          0.1510,  0.3029, -6.0517,  0.0792,  0.9930,  1.1525,  0.0000,\n",
      "         -4.0482,  2.3804, -2.7845,  2.1905,  0.1209,  0.7997,  5.7255,\n",
      "         -0.2197],\n",
      "        [-0.1165, -0.0000,  0.8852,  0.0560,  0.0000,  0.2434, -0.4175,\n",
      "          1.3412,  0.5877,  0.0000,  0.0000,  1.1661, -0.3296, -0.0000,\n",
      "          0.2873, -0.5692,  1.4692,  0.8955, -0.4640,  0.1522, -0.0000,\n",
      "          0.5585],\n",
      "        [-0.0000,  0.0127,  0.0000,  0.0488, -0.5592, -0.0000,  0.0000,\n",
      "          1.6895, -0.4618,  0.1609,  0.0000, -0.0000, -0.8444, -0.5288,\n",
      "          0.1759,  0.0000,  0.2465, -0.0000,  0.3874,  0.0000, -0.2302,\n",
      "         -0.0000],\n",
      "        [-2.7438, -0.4460, -3.2184,  1.2234, -1.2942,  0.9873, -1.9659,\n",
      "         -3.0216,  0.6399, -3.1205,  6.6689,  4.1889,  0.3155,  2.0937,\n",
      "         -1.1430,  0.9368, -1.9059,  2.4953,  3.2143, -1.7728,  3.1974,\n",
      "         -5.3883],\n",
      "        [-1.3729,  0.3494,  2.2222, -2.6114,  1.5809,  0.6759,  3.2577,\n",
      "          2.7715, -0.3489,  5.3486, -0.0000, -0.5672, -0.6414, -1.7030,\n",
      "          2.5870, -1.5784,  0.5184, -3.1498, -3.0948,  1.2186, -5.4251,\n",
      "          0.0000],\n",
      "        [-0.2599, -0.7080, -1.8756,  1.1446, -0.2670,  0.6329, -1.9757,\n",
      "         -0.3794, -0.3439, -3.0605,  0.1572,  0.9716, -0.1254,  1.4671,\n",
      "         -1.0202,  0.3394,  0.0000,  2.1044,  1.1327,  0.1655,  3.1032,\n",
      "          0.0000],\n",
      "        [ 1.1144,  1.6266,  0.3864, -2.4626,  2.4409, -1.5469,  2.4934,\n",
      "          1.4803,  1.1061,  5.3828,  3.9140, -2.6521,  0.0000, -0.2350,\n",
      "          2.8120, -2.2702,  1.9727, -2.7164, -1.7782, -0.9837, -5.2653,\n",
      "         -2.7571]], device='cuda:0')\n",
      "torch.Size([1, 8])\n",
      "Edge2 Network Sum: 8\n",
      "torch.Size([8, 33])\n",
      "Node Network Sum: 202\n",
      "torch.Size([8, 8])\n",
      "Node2 Network Sum: 59\n"
     ]
    }
   ],
   "source": [
    "#mask\n",
    "\n",
    "threshold = .01\n",
    "%matplotlib inline\n",
    "\n",
    "def summer(arr, net_name):\n",
    "    arr_f = arr.flatten()\n",
    "    sum_n = sum(arr_f)\n",
    "    print(net_name, 'Network Sum:', sum_n)\n",
    "\n",
    "with torch.no_grad():\n",
    "    # Edge Networks\n",
    "    #print(model.edge_network.network[0].weight)\n",
    "    print(model.edge_network.network[0].weight.shape)\n",
    "    arr_e = torch_to_np(model.edge_network.network[0].weight)\n",
    "    arr_e = (np.abs(arr_e) > threshold)*1\n",
    "    summer(arr_e, 'Edge')\n",
    "    # mask\n",
    "    masked_weight = torch.nn.Parameter(model.edge_network.network[0].weight * np_to_torch(arr_e))\n",
    "    model.edge_network.network[0].weight = masked_weight\n",
    "    print(model.edge_network.network[0].weight)\n",
    "\n",
    "    #arr_e2 = torch_to_np(model.edge_network.network[2].weight)\n",
    "    print(model.edge_network.network[2].weight.shape)\n",
    "    # Original size = 32\n",
    "    arr_e2 = (np.abs(arr_e2) > threshold)*1\n",
    "    summer(arr_e2, 'Edge2')\n",
    "    # mask\n",
    "    masked_weight = torch.nn.Parameter(model.edge_network.network[2].weight * np_to_torch(arr_e2))\n",
    "    model.edge_network.network[2].weight = masked_weight\n",
    "    \n",
    "    # Node Networks\n",
    "    #arr_n = torch_to_np(model.node_network.network[0].weight)\n",
    "    print(model.node_network.network[0].weight.shape)\n",
    "    arr_n = (np.abs(arr_n) > threshold)*1\n",
    "    summer(arr_n, 'Node')\n",
    "    # mask\n",
    "    masked_weight = torch.nn.Parameter(model.node_network.network[0].weight * np_to_torch(arr_n))\n",
    "    model.node_network.network[0].weight = masked_weight\n",
    "    \n",
    "    arr_n2 = torch_to_np(model.node_network.network[2].weight)\n",
    "    #print(model.node_network.network[2].weight.shape)\n",
    "    arr_n2 = (np.abs(arr_n2) > threshold)*1\n",
    "    summer(arr_n2, 'Node2')\n",
    "    # mask\n",
    "    masked_weight = torch.nn.Parameter(model.node_network.network[2].weight * np_to_torch(arr_n2))\n",
    "    model.node_network.network[2].weight = masked_weight"
   ]
  },
  {
   "cell_type": "code",
   "execution_count": 22,
   "metadata": {},
   "outputs": [
    {
     "name": "stdout",
     "output_type": "stream",
     "text": [
      "torch.Size([8, 22])\n",
      "Edge Network Sum: 176\n",
      "torch.Size([1, 8])\n",
      "Edge2 Network Sum: 8\n",
      "torch.Size([8, 33])\n",
      "Node Network Sum: 264\n",
      "Parameter containing:\n",
      "tensor([[-2.0501e-02, -4.7921e-04,  1.7465e-02, -1.6482e-01, -2.1422e-01,\n",
      "          4.9384e-05,  2.4898e-04, -1.6034e-02,  5.1335e-02,  2.0674e-02,\n",
      "          7.4121e-05, -1.5306e-01,  1.5821e-01,  2.5952e-02, -1.2329e-01,\n",
      "         -3.5288e-02, -5.5881e-02, -2.3685e-01,  9.4602e-05,  2.2001e-02,\n",
      "          5.5670e-02, -1.0403e-04, -6.1945e-02, -8.8800e-01, -1.2895e-01,\n",
      "         -4.2547e-03,  2.9006e-01,  1.2710e-01, -3.3539e-03, -4.9489e-01,\n",
      "          2.6876e-01, -4.1347e-01, -6.7567e-05],\n",
      "        [ 4.9951e-02,  1.7631e-02,  9.7802e-02,  5.8961e-05, -5.8161e-02,\n",
      "          6.4231e-02,  7.4381e-05,  1.6183e-01,  7.3225e-02, -2.8863e-02,\n",
      "         -2.8799e-04, -1.4995e-01, -2.1813e-04, -2.7417e-02,  1.1788e-04,\n",
      "         -7.8508e-02,  1.4344e-01,  1.4921e-02, -5.1964e-02,  3.2584e-02,\n",
      "         -4.7718e-02,  2.9834e-05,  2.5316e-01,  1.2684e-02,  3.5683e-01,\n",
      "         -2.0840e-03,  2.2536e-01, -4.3766e-01,  6.5869e-01,  1.4192e-01,\n",
      "          1.8412e-01,  6.3988e-02, -1.0990e-04],\n",
      "        [ 1.5138e-02, -8.1691e-02,  9.9497e-02,  3.8433e-02,  1.7821e-04,\n",
      "         -1.0415e-01,  2.3442e-01, -1.6490e-01,  2.1725e-04,  1.4494e-02,\n",
      "          3.0017e-05, -1.0279e-01,  4.6445e-02,  4.9706e-01, -3.2621e-02,\n",
      "          4.5148e-01,  7.8102e-02, -3.2674e-01, -1.9531e-01,  9.3030e-02,\n",
      "         -5.8976e-02, -4.9926e-05, -5.0406e-01,  2.2696e-01,  1.7958e-01,\n",
      "         -2.7506e-01,  3.5719e-02,  8.1472e-02,  2.7032e-01, -7.2352e-01,\n",
      "          2.8015e-01,  8.1286e-03,  2.1733e-06],\n",
      "        [ 1.0065e-01, -2.6504e-01, -5.4816e-03,  1.6301e-01,  8.9075e-05,\n",
      "         -1.1834e-01,  5.1660e-01, -1.0380e-01, -7.2425e-03, -2.5335e-02,\n",
      "          2.5487e-04, -1.9933e-01, -3.9710e-02, -2.7230e-02,  2.5526e-01,\n",
      "          9.4168e-02,  9.7988e-03,  3.4463e-01, -2.8922e-01,  1.0346e-02,\n",
      "         -7.7485e-02,  1.4332e-04,  2.7260e-01, -5.5200e-02, -5.1386e-02,\n",
      "          1.1600e-01,  5.6667e-02, -9.6901e-01, -6.8134e-02, -1.3016e+00,\n",
      "         -2.1548e-01,  3.7241e-02,  1.5237e-04],\n",
      "        [ 2.0820e-02, -1.2584e-01,  2.7019e-05,  3.6697e-01,  3.4828e-01,\n",
      "         -4.9780e-05,  2.0002e-01,  1.3523e-02, -1.0731e-01, -4.2177e-04,\n",
      "          1.3390e-04,  8.5750e-02, -2.3431e-01,  2.0661e-01,  8.4721e-02,\n",
      "         -7.5310e-05, -6.0025e-02,  4.7270e-01,  2.1296e-01,  7.6041e-02,\n",
      "         -2.1130e-01, -5.9588e-05,  3.6217e-01, -8.4677e-01,  2.7973e-01,\n",
      "          5.0206e-02, -4.2153e-04,  4.5673e-04, -7.4055e-01, -5.4790e-01,\n",
      "         -6.2842e-05,  4.0621e-02, -8.2271e-06],\n",
      "        [-5.6716e-05,  1.1172e-01, -1.2970e-01, -9.3355e-02, -7.0847e-02,\n",
      "         -3.3828e-03,  1.4803e-01,  1.5735e-01,  7.7595e-02, -1.9758e-02,\n",
      "         -1.8408e-05, -5.1335e-03, -4.4801e-02,  1.9554e-04, -9.6730e-02,\n",
      "         -7.4117e-03, -1.7841e-04, -3.4630e-01,  1.7786e-01, -2.0606e-03,\n",
      "          3.6630e-02,  2.4967e-04,  2.4498e-01,  3.9570e-01,  1.4309e-01,\n",
      "         -7.9163e-02,  5.1757e-01, -1.1155e-01,  6.9556e-02, -2.9075e-01,\n",
      "          1.3145e-01,  2.3903e-02, -7.7172e-05],\n",
      "        [-1.6644e-02,  1.4502e-02,  1.2412e-01, -9.4820e-02, -5.9352e-02,\n",
      "          1.1190e-01,  1.9592e-01,  1.2196e-04,  2.1573e-02, -6.9286e-02,\n",
      "         -2.9147e-05, -1.5596e-01,  2.0379e-01,  4.9928e-01,  3.2068e-02,\n",
      "          4.9042e-01,  6.9483e-05, -1.9591e-01, -6.0528e-01,  6.5364e-05,\n",
      "         -1.1013e-01,  2.7734e-05, -5.2898e-01,  2.6938e-01, -5.3069e-01,\n",
      "         -5.2655e-01,  5.5478e-01,  4.6294e-01,  1.6136e-01, -6.6315e-01,\n",
      "          1.6681e-02,  1.5042e-01, -3.7910e-02],\n",
      "        [-5.9744e-02, -3.6363e-02,  4.0357e-02,  4.0292e-03,  1.2531e-01,\n",
      "         -9.9214e-02, -1.7087e-01, -1.9696e-01, -1.9516e-04,  1.4247e-02,\n",
      "          2.1825e-04,  1.9813e-02,  1.1311e-01,  6.2500e-05, -2.0275e-02,\n",
      "          7.0039e-02, -9.1921e-02, -5.5601e-03, -2.3552e-02,  2.5726e-02,\n",
      "         -1.1125e-02, -1.2367e-05, -3.3454e-01,  1.8209e-01, -3.2511e-01,\n",
      "         -2.2137e-01,  5.0712e-01, -3.0179e-01,  6.8712e-02,  1.9890e-01,\n",
      "         -1.1439e-01,  5.3484e-02, -1.9476e-04]], device='cuda:0')\n",
      "torch.Size([8, 8])\n",
      "Node2 Network Sum: 64\n"
     ]
    }
   ],
   "source": [
    "#weights\n",
    "\n",
    "threshold = 0\n",
    "%matplotlib inline\n",
    "\n",
    "def summer(arr, net_name):\n",
    "    arr_f = arr.flatten()\n",
    "    sum_n = sum(arr_f)\n",
    "    print(net_name, 'Network Sum:', sum_n)\n",
    "\n",
    "with torch.no_grad():\n",
    "    # Edge Networks\n",
    "    print(model.edge_network.network[0].weight.shape)\n",
    "    arr_e = torch_to_np(model.edge_network.network[0].weight)\n",
    "    arr_e = (np.abs(arr_e) > threshold)*1\n",
    "    summer(arr_e, 'Edge')\n",
    "\n",
    "    arr_e2 = torch_to_np(model.edge_network.network[2].weight)\n",
    "    print(model.edge_network.network[2].weight.shape)\n",
    "    # Original size = 32\n",
    "    arr_e2 = (np.abs(arr_e2) > threshold)*1\n",
    "    summer(arr_e2, 'Edge2')\n",
    "    \n",
    "    # Node Networks\n",
    "    arr_n = torch_to_np(model.node_network.network[0].weight)\n",
    "    print(model.node_network.network[0].weight.shape)\n",
    "    arr_n = (np.abs(arr_n) > threshold)*1\n",
    "    summer(arr_n, 'Node')\n",
    "    print(model.node_network.network[0].weight)\n",
    "    \n",
    "    arr_n2 = torch_to_np(model.node_network.network[2].weight)\n",
    "    print(model.node_network.network[2].weight.shape)\n",
    "    arr_n2 = (np.abs(arr_n2) > threshold)*1\n",
    "    summer(arr_n2, 'Node2')"
   ]
  },
  {
   "cell_type": "code",
   "execution_count": 18,
   "metadata": {},
   "outputs": [],
   "source": [
    "%matplotlib inline\n",
    " \n",
    "def plotLayerWeights(layer, plotTitle='Network'):\n",
    "    with torch.no_grad():\n",
    "        \n",
    "        test_batcher = batch_generator(test_graphs, n_samples=1, batch_size=1, train=False)\n",
    "        test_outputs = estim.predict(test_batcher, 1, concat=False)\n",
    "        arr = torch_to_np(layer.weight)\n",
    "        arr = arr.flatten()\n",
    "        print(arr)\n",
    "\n",
    "        plt.figure(figsize=(4,4))\n",
    "\n",
    "        #plt.subplot(2,2,1)\n",
    "    \n",
    "        #plt.hist(arr, bins=100, range=(-.0002,.0002))\n",
    "        #plt.xlabel('Weight')\n",
    "        #plt.ylabel('Frequency')\n",
    "        #plt.title('Network')\n",
    "\n",
    "        #plt.subplot(2,2,2)\n",
    "        #plt.hist(np.abs(arr), bins=100, range=(0,.0002))\n",
    "        #plt.xlabel('|Weight|')\n",
    "        #plt.ylabel('Frequency')\n",
    "        #plt.title('Network-Absolute Value')\n",
    "\n",
    "        #plt.subplot(2,2,3)\n",
    "        #plt.hist(np.abs(arr), bins=1000, range=(2**-11, 2**-0))\n",
    "        #plt.xscale('log',basex=2)\n",
    "        #plt.xlim([2**-13,2**-4])\n",
    "        #plt.xlabel('Weight')\n",
    "        #plt.ylabel('Frequency')\n",
    "        #plt.title('Network-Log2')\n",
    "    \n",
    "        #plt.subplot(2,2,4)\n",
    "        #arr_n = [np.log(x) for x in arr_n]\n",
    "        logbins = np.geomspace(10**-7, 10, 75)\n",
    "        plt.hist(np.abs(arr), logbins)\n",
    "        plt.xscale('log',basex=10)\n",
    "        plt.xlabel('|Weight|')\n",
    "        plt.ylabel('Frequency')\n",
    "        plt.title(plotTitle)\n",
    "\n",
    "        plt.show()"
   ]
  },
  {
   "cell_type": "code",
   "execution_count": 61,
   "metadata": {},
   "outputs": [],
   "source": [
    "estim.load_weights('Trainings/hid8l153mask0_ldweights.pt')"
   ]
  },
  {
   "cell_type": "code",
   "execution_count": 19,
   "metadata": {},
   "outputs": [
    {
     "name": "stdout",
     "output_type": "stream",
     "text": [
      "[-0.03958011 -0.30029535  0.50482583  0.5367185  -0.05980003 -0.42036614\n",
      " -0.02413481 -0.337465    0.07741934 -0.48658875  0.22931445  0.05369449\n",
      " -0.5133441  -0.02771652 -0.06917405  0.32165933 -0.49135885 -0.2204285\n",
      " -0.39742094 -0.4400584  -0.5629088   0.00107455 -0.32388255  0.13829982]\n"
     ]
    },
    {
     "data": {
      "image/png": "[encoded data removed]",
      "text/plain": [
       "<Figure size 288x288 with 1 Axes>"
      ]
     },
     "metadata": {},
     "output_type": "display_data"
    },
    {
     "name": "stdout",
     "output_type": "stream",
     "text": [
      "[ 1.5056743e-04  5.5358391e-06 -9.6145773e-01  1.1791045e-04\n",
      "  1.5523985e-04 -2.2529556e-04 -1.4880358e-01 -1.2221122e+00\n",
      "  3.1132491e-05  5.3538639e-05  1.9388748e-04  1.0846565e+00\n",
      "  9.8864930e-06 -1.7881296e-04 -1.4440659e-04 -1.4965271e-04\n",
      "  1.7145505e+00  4.0529907e-04  1.8191704e-01 -3.0341550e-06\n",
      "  1.4688078e+00  1.4622392e-04 -1.5834672e+00 -5.7790854e-05\n",
      "  3.1389558e-04  3.3521764e+00 -1.8445984e+00  2.4041543e+00\n",
      " -1.8215759e+00 -1.3697088e-04  7.8356206e-02 -3.8986382e+00\n",
      " -9.2148905e-05  2.4289135e-05  1.3617753e+00 -1.0322021e-07\n",
      " -3.8506832e+00  2.4357564e+00 -2.5733843e+00  1.8591588e+00\n",
      " -2.0521678e-05  1.4735019e-01  4.3851957e+00 -1.5434314e-04\n",
      "  1.9865598e-04  2.2422703e-04 -4.4614655e-05 -4.0277588e-05\n",
      "  1.9045026e-04  2.3844838e-04 -1.2630355e+00  1.2361608e+00\n",
      "  1.5511278e+00 -1.2301441e-04 -2.9655648e-04  1.3478545e+00\n",
      " -2.2169173e-02 -2.3460384e-04 -3.5790465e-06  3.2974035e-04\n",
      "  9.7243807e-05 -4.9225980e-04  2.6288183e-04  1.3518649e-02\n",
      "  8.5766114e-05  5.7865822e-05 -6.0787257e-05  9.8435761e-05\n",
      " -6.1452272e-05 -4.8773359e-07 -4.6135773e-04  2.0630365e-04\n",
      "  1.8717920e-04  1.7870536e+00 -4.7111320e-05  1.3952707e-04\n",
      " -5.9158418e-05  7.9897356e-05 -1.1367965e+00  1.7924005e-05\n",
      " -8.9657748e-05 -2.7139126e-06  1.0001857e-04  3.5743069e-04\n",
      " -9.2216022e-04 -1.4051756e-04  8.4623374e-05  1.9665006e-04\n",
      " -2.2960423e-01  3.7898655e-05 -3.0132124e+00  3.7907188e+00\n",
      " -2.1612487e+00  5.5176668e-05 -1.8668104e+00 -2.3250103e+00\n",
      " -1.7431642e-04 -2.2467151e+00 -9.0408139e-05  4.1720781e+00\n",
      " -1.2612456e-04  1.4589089e+00 -2.1705697e+00  1.5285103e+00\n",
      " -1.2653819e+00  3.0549040e+00  2.7419178e+00 -2.4081032e+00\n",
      "  2.1548002e+00 -4.2250558e-05 -2.1504267e-05  5.3489253e-05\n",
      "  1.9795144e+00 -2.0750270e+00  1.7287800e+00 -5.4515043e-05\n",
      "  3.1514652e+00  3.0238895e+00 -4.5562064e-04  4.5649877e+00\n",
      " -5.0152689e-06 -2.7851447e-01 -1.8072340e-01 -1.9755892e+00\n",
      "  2.6419547e+00 -1.2749203e+00  3.2401693e-04 -3.1236801e+00\n",
      " -2.9685516e+00  9.3849659e-01 -4.7773528e+00  1.4947653e-04\n",
      " -1.6764087e-04 -6.0339920e-05 -1.6101161e+00  7.4368465e-01\n",
      "  7.4505311e-05  1.2175063e+00 -1.9011205e+00 -1.0304356e-01\n",
      "  2.5109184e-04 -3.0010936e+00  2.2031642e-04  2.9700453e-04\n",
      " -1.5430522e-04  1.2492898e+00 -1.5246829e+00 -2.8085208e-04\n",
      " -1.9534140e-04  1.3346605e+00  1.0686450e+00  3.0779549e-05\n",
      "  3.2108490e+00 -9.0181784e-06  1.4240218e+00  1.4448762e+00\n",
      " -1.3966550e-04 -2.3323760e+00  2.1775861e+00 -1.4021720e+00\n",
      "  2.1964483e+00  1.0156847e+00 -1.1508671e-04  4.9541230e+00\n",
      " -1.4087603e-04 -2.7840538e+00 -7.4272386e-05  2.3751048e-04\n",
      "  2.3237064e+00 -1.9786198e+00  1.7475716e+00 -2.4352474e+00\n",
      " -1.6592797e+00 -1.0447305e+00 -4.4263859e+00  2.3696875e-05]\n"
     ]
    },
    {
     "data": {
      "image/png": "[encoded data removed]",
      "text/plain": [
       "<Figure size 288x288 with 1 Axes>"
      ]
     },
     "metadata": {},
     "output_type": "display_data"
    },
    {
     "name": "stdout",
     "output_type": "stream",
     "text": [
      "[  5.512026   -6.057954   -4.7897315  -4.651145   -6.13744     8.370598\n",
      "   8.193315  -11.415647 ]\n"
     ]
    },
    {
     "data": {
      "image/png": "[encoded data removed]",
      "text/plain": [
       "<Figure size 288x288 with 1 Axes>"
      ]
     },
     "metadata": {},
     "output_type": "display_data"
    },
    {
     "name": "stdout",
     "output_type": "stream",
     "text": [
      "[-1.81178882e-04 -5.00929054e-05  1.63576733e-05 -5.05630378e-05\n",
      "  3.77266289e-04 -4.01943398e-04  7.31995169e-05 -6.59399302e-05\n",
      " -1.35250966e-05 -3.83127190e-05 -1.60441468e-05 -1.29256398e-06\n",
      "  6.78130236e-05  1.68099388e-04 -4.78133559e-04  4.71168642e-05\n",
      " -1.44457663e-04  1.33485300e-04 -4.09724962e-05 -1.15496434e-04\n",
      " -3.44531998e-07 -1.47010491e-04  2.36436481e-05 -1.92719817e-01\n",
      "  1.16967556e-06  2.55739851e-05 -1.92574138e-04 -1.14456598e-04\n",
      " -3.36555153e-04  5.77207175e-05  2.57590931e-04 -1.52192442e-04\n",
      "  4.65813268e-04  1.01271093e-04  2.82538153e-04  4.54940673e-05\n",
      "  4.46270133e-05 -1.66874524e-04 -5.61623310e-05  1.56803959e-04\n",
      " -1.76514732e-04  2.90381540e-05 -1.06800879e-04  2.62509391e-04\n",
      "  4.41384473e-05 -4.14738934e-05  1.18001088e-04  3.76604039e-05\n",
      " -5.94692770e-04 -1.37019728e-04 -9.48439094e-07 -2.77570216e-04\n",
      "  6.60924416e-05 -1.04070328e-04  8.22029615e-05  4.46738384e-04\n",
      " -5.15508000e-05  3.20124527e-04 -1.96723122e-05 -5.66772760e-05\n",
      " -2.65848212e-04  1.04136840e-02 -2.80275533e-04  1.79273309e-04\n",
      "  8.03461171e-06  2.22676812e-04 -1.50043707e-04 -6.48608402e-05\n",
      "  5.92441393e-06 -1.56852358e-04  6.33602713e-06  2.57210224e-04\n",
      " -1.78949122e-04 -4.37155686e-05 -1.88948208e-04 -1.92770371e-04\n",
      "  1.13480412e-04  3.96076866e-05  3.29509458e-05 -4.03229787e-05\n",
      "  3.92718503e-05 -2.37289409e-04 -5.03942756e-05  2.44498893e-04\n",
      "  3.31790907e-05  4.97659821e-05 -9.44194035e-05 -5.58812899e-05\n",
      "  2.17510315e-04  3.97471231e-05 -1.45960503e-05  1.72183190e-05\n",
      "  2.19783993e-04 -6.40665094e-05 -1.17603384e-04 -1.15812159e+00\n",
      "  8.63964397e-06  3.76497314e-06 -4.35923896e-04  1.43434081e-04\n",
      " -5.73984507e-05 -3.27771151e-04 -2.80528940e-04 -1.77156893e-04\n",
      " -2.83052814e-05 -4.37575363e-04  2.12682004e-04  4.07052394e-05\n",
      " -8.27033364e-05 -5.10760059e-04  1.54695954e-06  5.81624372e-05\n",
      " -1.27070438e-04 -3.88195273e-04  1.72026717e-04 -1.02010512e-04\n",
      " -2.74528516e-04 -3.13848548e-04  1.32944915e-04 -9.01326785e-05\n",
      "  3.21791304e-05 -5.34896863e-05  2.79257438e-05 -2.68040185e-05\n",
      " -9.01591193e-05 -1.23603881e-04 -5.80587089e-02  3.88078206e-06\n",
      " -4.28229332e-01  3.96273708e-06 -1.33288151e-04 -2.02635827e-04\n",
      " -1.01155529e-04 -1.11326270e-04 -5.97297680e-04  1.75284022e-05\n",
      "  1.90574647e-04  8.06015960e-05  2.08516649e-05 -5.49403667e-05\n",
      "  9.08632428e-05 -3.93041410e-05  7.92663777e-05  6.44129977e-05\n",
      "  1.98905589e-04  9.69932880e-05  7.48487000e-05 -1.84695571e-04\n",
      "  8.80588505e-06 -1.25464081e-04 -2.69407436e-04 -1.50726710e-05\n",
      " -3.48701251e-05 -3.99267674e-06 -6.30456780e-05 -1.87103450e-01\n",
      "  1.96669323e-04  1.61020052e-05 -1.66862839e-04  5.71555393e-06\n",
      "  1.21038844e-04  8.23513183e-05 -1.82863863e-04 -1.51955042e-04\n",
      "  1.40745033e-06  1.06656116e-04 -1.41377037e-04  8.18519911e-05\n",
      " -2.76319275e-04  8.35553067e-07  3.83382343e-04 -1.16795862e-04\n",
      " -1.06746935e-04 -1.96706416e-04  3.66719869e-05 -8.13677689e-05\n",
      "  1.64232275e-04  8.95811027e-05  2.86362283e-05 -5.43678252e-05\n",
      " -2.34589956e-04 -8.61850713e-05 -1.20632496e-04 -2.99031293e-04\n",
      "  2.55981286e-04  3.74937599e-06  2.17773340e-04  3.89036140e-05\n",
      " -3.28499504e-04 -8.97637001e-05 -2.23947223e-04 -1.45239901e-04\n",
      "  2.89789197e-04 -1.11878217e-04 -4.29768188e-05  9.75463699e-05\n",
      "  1.01488411e-04  1.78635164e-04  2.65580718e-04 -1.80830655e-04\n",
      " -1.67293081e-04  1.53941510e-04  4.23619378e-04  2.12585583e-05\n",
      " -1.43082507e-05  1.15037961e-04  1.41925339e-04 -2.66205752e-04\n",
      " -4.24460859e-06  4.36953524e-05  1.24724713e-04  1.57355345e-04\n",
      " -3.53578471e-05 -3.78040771e-04  6.00003914e-05 -3.80697835e-04\n",
      "  1.60956813e-04 -5.18018314e-05  2.36103704e-04  1.02194754e-05\n",
      "  5.29809085e-06  2.89268821e-04 -6.27281624e-05 -1.71630236e-04\n",
      " -1.85221961e-06 -2.04231503e-04 -5.22801893e-05  4.25291335e-04\n",
      "  2.27940709e-05  1.27026666e-04  1.39085008e-04 -3.39708757e-04\n",
      "  6.01888605e-05 -1.81286712e-04  2.63323564e-05 -2.56430503e-04\n",
      "  4.55974987e-05  9.89846740e-05 -1.74672605e-04  3.63348663e-05\n",
      "  3.64400694e-05  4.21015502e-05 -1.63014774e-04 -1.63393142e-05\n",
      "  3.60504819e-05 -5.35846448e-05 -2.18857258e-05 -4.52385706e-07\n",
      "  1.53791873e-07  4.18569398e-05  2.09158912e-04  2.20780945e-04\n",
      "  2.93822068e-05 -4.81072842e-04  5.66347153e-05  2.50673009e-04\n",
      " -6.89105509e-05  4.01548787e-05  2.12147970e-05  2.26995544e-04\n",
      " -1.43851939e-04 -4.59258939e-04 -1.53274741e-04  1.18250740e-04]\n"
     ]
    },
    {
     "data": {
      "image/png": "[encoded data removed]",
      "text/plain": [
       "<Figure size 288x288 with 1 Axes>"
      ]
     },
     "metadata": {},
     "output_type": "display_data"
    },
    {
     "name": "stdout",
     "output_type": "stream",
     "text": [
      "[-8.86786133e-02  6.05377863e-05 -1.14392209e+00  3.12679069e-04\n",
      " -9.99619660e-05  1.32256472e+00 -1.22290603e-05  2.17827037e-04\n",
      " -3.82456492e-05  3.71271890e-04 -6.73144750e-05 -2.93045849e-01\n",
      "  2.74489685e-05  5.33821818e-04  2.00705963e-05  1.34958624e-04\n",
      " -6.78107321e-01  2.89976448e-01 -1.58522016e-04 -2.50050455e-01\n",
      " -1.23798600e-04  7.36630900e-05 -2.15543987e-04  1.42891324e-04\n",
      "  1.43159544e+00  6.02534965e-05  9.16127028e-05  1.27332663e-04\n",
      "  1.64678095e-05 -8.47528100e-01  2.61516846e-03 -1.78925133e+00\n",
      "  1.07700551e-04 -1.80362418e-04  1.77034381e-04  2.91891738e-05\n",
      "  2.70995748e-04  1.14212349e-01  1.31829560e-01  2.16812432e-01\n",
      " -1.43723628e-05 -2.35349231e-04  1.01075682e-04 -1.53816611e-01\n",
      " -1.27865278e-05  3.75867312e-05  5.27080381e-04  8.18918634e-04\n",
      " -1.53074355e-03 -3.80300917e-04  1.04348706e-04 -2.03571944e-05\n",
      "  6.07403563e-05  2.26898283e-01 -1.42953708e-04 -1.33587280e-04\n",
      " -4.61347960e-02  2.09390193e-01  3.25394474e-04 -1.96073583e-04\n",
      "  1.12890363e+00  8.31238049e-06 -1.08256545e-05  1.03961102e-05]\n"
     ]
    },
    {
     "data": {
      "image/png": "[encoded data removed]",
      "text/plain": [
       "<Figure size 288x288 with 1 Axes>"
      ]
     },
     "metadata": {},
     "output_type": "display_data"
    }
   ],
   "source": [
    "## NETWORKS \n",
    "plotLayerWeights(model.input_network[0], plotTitle='Input Network')\n",
    "plotLayerWeights(model.edge_network.network[0], plotTitle='Edge Network Layer 1')\n",
    "plotLayerWeights(model.edge_network.network[2], plotTitle='Edge Network Layer 2')\n",
    "plotLayerWeights(model.node_network.network[0], plotTitle='Node Network Layer 1')\n",
    "plotLayerWeights(model.node_network.network[2], plotTitle='Node Network Layer 2')"
   ]
  },
  {
   "cell_type": "markdown",
   "metadata": {},
   "source": [
    "## Visualize some samples"
   ]
  },
  {
   "cell_type": "code",
   "execution_count": null,
   "metadata": {
    "scrolled": false
   },
   "outputs": [],
   "source": [
    "# Draw some samples\n",
    "for i in range(4):\n",
    "    print('accuracy %.3f, precision %.3f, recall %.3f' % (\n",
    "        sklearn.metrics.accuracy_score(test_y[i], test_pred[i]>thresh),\n",
    "        sklearn.metrics.precision_score(test_y[i], test_pred[i]>thresh),\n",
    "        sklearn.metrics.recall_score(test_y[i], test_pred[i]>thresh)))\n",
    "    draw_sample(test_X[i]*feature_scale, test_Ri[i], test_Ro[i], test_pred[i], alpha_labels=True);"
   ]
  },
  {
   "cell_type": "markdown",
   "metadata": {},
   "source": [
    "## Visualize evolution of graph iterations\n",
    "\n",
    "Let's take a sample and pull out the intermediate edge scores during graph iterations.\n",
    "I'd like to visualize how the model converges on its chosen edges."
   ]
  },
  {
   "cell_type": "code",
   "execution_count": null,
   "metadata": {},
   "outputs": [],
   "source": [
    "def graph_iter(model, X, H, Ri, Ro):\n",
    "    # Shortcut connections\n",
    "    H = torch.cat([H, X], dim=-1)\n",
    "    # Edge network\n",
    "    e = model.edge_network(H, Ri, Ro)\n",
    "    # Node network\n",
    "    H = model.node_network(H, e, Ri, Ro)\n",
    "    return e, H"
   ]
  },
  {
   "cell_type": "code",
   "execution_count": null,
   "metadata": {},
   "outputs": [],
   "source": [
    "batcher = batch_generator(test_X, test_Ri, test_Ro, test_y, train=False,\n",
    "                          n_samples=1, batch_size=1)"
   ]
  },
  {
   "cell_type": "code",
   "execution_count": null,
   "metadata": {},
   "outputs": [],
   "source": [
    "model = estim.model"
   ]
  },
  {
   "cell_type": "code",
   "execution_count": null,
   "metadata": {},
   "outputs": [],
   "source": [
    "# Pull the inputs from the batcher\n",
    "(X, Ri, Ro), y = next(batcher)"
   ]
  },
  {
   "cell_type": "code",
   "execution_count": null,
   "metadata": {
    "scrolled": false
   },
   "outputs": [],
   "source": [
    "# Apply input network\n",
    "with torch.no_grad():\n",
    "    H = model.input_network(X)\n",
    "\n",
    "    for i in range(model.n_iters + 1):\n",
    "        # Apply an iteration of the graph\n",
    "        e, H = graph_iter(model, X, H, Ri, Ro)\n",
    "\n",
    "        # Draw the edges\n",
    "        draw_sample(torch_to_np(X)[0]*feature_scale,\n",
    "                    torch_to_np(Ri)[0], torch_to_np(Ro)[0],\n",
    "                    torch_to_np(e)[0], alpha_labels=True)"
   ]
  },
  {
   "cell_type": "markdown",
   "metadata": {},
   "source": [
    "## Discussion\n",
    "\n",
    "On 10 tracks and 10 barrel layers, the performance is great!"
   ]
  },
  {
   "cell_type": "code",
   "execution_count": null,
   "metadata": {},
   "outputs": [],
   "source": []
  }
 ],
 "metadata": {
  "kernelspec": {
   "display_name": "Python 3",
   "language": "python",
   "name": "python3"
  }
 },
 "nbformat": 4,
 "nbformat_minor": 2
}
