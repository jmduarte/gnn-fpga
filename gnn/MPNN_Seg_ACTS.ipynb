{
 "cells": [
  {
   "cell_type": "markdown",
   "metadata": {},
   "source": [
    "# Message passing neural network for segment classification on ACTS data\n",
    "\n",
    "In this notebook we'll implement a model similar to the Interaction Networks model:\n",
    "https://arxiv.org/abs/1612.00222\n",
    "\n",
    "The model will consider a graph of connected hits and try to determine which edges are real and which are spurious."
   ]
  },
  {
   "cell_type": "code",
   "execution_count": 1,
   "metadata": {},
   "outputs": [],
   "source": [
    "# Training concurrency\n",
    "import os\n",
    "os.environ['OMP_NUM_THREADS'] = '2'\n",
    "os.environ['CUDA_VISIBLE_DEVICES'] = '0'\n",
    "\n",
    "cuda = True"
   ]
  },
  {
   "cell_type": "code",
   "execution_count": 2,
   "metadata": {},
   "outputs": [],
   "source": [
    "%load_ext autoreload\n",
    "%autoreload 2\n",
    "\n",
    "# System imports\n",
    "from __future__ import print_function\n",
    "import os\n",
    "import multiprocessing as mp\n",
    "from timeit import default_timer as timer\n",
    "\n",
    "# Externals\n",
    "import numpy as np\n",
    "import pandas as pd\n",
    "import matplotlib.pyplot as plt\n",
    "import sklearn.metrics\n",
    "from sklearn.model_selection import train_test_split\n",
    "\n",
    "# Torch imports\n",
    "import torch\n",
    "from torch.autograd import Variable\n",
    "import torch.nn as nn\n",
    "import torch.nn.functional as F\n",
    "\n",
    "# Local imports\n",
    "from estimator import Estimator\n",
    "from acts import process_hits_files, select_barrel_hits\n",
    "\n",
    "%matplotlib notebook"
   ]
  },
  {
   "cell_type": "code",
   "execution_count": 3,
   "metadata": {},
   "outputs": [],
   "source": [
    "if cuda:\n",
    "    np_to_torch = lambda x, volatile=False: (\n",
    "        Variable(torch.from_numpy(x.astype(np.float32)), volatile=volatile).cuda())\n",
    "else:\n",
    "    np_to_torch = lambda x, volatile=False: (\n",
    "        Variable(torch.from_numpy(x.astype(np.float32)), volatile=volatile))\n",
    "\n",
    "torch_to_np = lambda x: x.cpu().data.numpy()"
   ]
  },
  {
   "cell_type": "markdown",
   "metadata": {},
   "source": [
    "## Data utilities"
   ]
  },
  {
   "cell_type": "code",
   "execution_count": 4,
   "metadata": {},
   "outputs": [],
   "source": [
    "def select_hits(hits):\n",
    "    # Select all barrel hits\n",
    "    vids = [8, 13, 17]\n",
    "    hits = hits[np.logical_or.reduce([hits.volid == v for v in vids])]\n",
    "    # Re-enumerate the volume and layer numbers for convenience\n",
    "    volume = pd.Series(-1, index=hits.index, dtype=np.int8)\n",
    "    vid_groups = hits.groupby('volid')\n",
    "    for i, v in enumerate(vids):\n",
    "        volume[vid_groups.get_group(v).index] = i\n",
    "    # This assumes 4 layers per volume (except last volume)\n",
    "    layer = (hits.layid / 2 - 1 + volume * 4).astype(np.int8)\n",
    "    # Select the columns we need\n",
    "    hits = (hits[['evtid', 'barcode', 'r', 'phi', 'z']]\n",
    "            .assign(volume=volume, layer=layer))\n",
    "    # Filter tracks that hit every layer\n",
    "    hits = (hits.groupby(['evtid', 'barcode'])\n",
    "            .filter(lambda x: len(x.layer.unique()) == 10))\n",
    "    # Remove duplicate hits\n",
    "    hits = hits.loc[\n",
    "        hits.groupby(['evtid', 'barcode', 'layer'], as_index=False).r.idxmin()\n",
    "    ]\n",
    "    return hits"
   ]
  },
  {
   "cell_type": "markdown",
   "metadata": {},
   "source": [
    "## Prepare the data"
   ]
  },
  {
   "cell_type": "code",
   "execution_count": 5,
   "metadata": {},
   "outputs": [],
   "source": [
    "input_dir = '/cms-sc17/graphNN/prod_mu10_pt1000_2017_07_29'"
   ]
  },
  {
   "cell_type": "code",
   "execution_count": 6,
   "metadata": {},
   "outputs": [],
   "source": [
    "all_files = os.listdir(input_dir)\n",
    "hits_files = sorted(f for f in all_files if f.startswith('clusters'))\n",
    "\n",
    "n_files = 7\n",
    "hits_files = [os.path.join(input_dir, hf) for hf in hits_files[:n_files]]"
   ]
  },
  {
   "cell_type": "code",
   "execution_count": 7,
   "metadata": {},
   "outputs": [
    {
     "name": "stdout",
     "output_type": "stream",
     "text": [
      "Loading /cms-sc17/graphNN/prod_mu10_pt1000_2017_07_29/clusters_1.csv\n",
      "Loading /cms-sc17/graphNN/prod_mu10_pt1000_2017_07_29/clusters_10.csv\n",
      "Loading /cms-sc17/graphNN/prod_mu10_pt1000_2017_07_29/clusters_12.csv\n",
      "Loading /cms-sc17/graphNN/prod_mu10_pt1000_2017_07_29/clusters_11.csv\n",
      "Loading /cms-sc17/graphNN/prod_mu10_pt1000_2017_07_29/clusters_13.csv\n",
      "Loading /cms-sc17/graphNN/prod_mu10_pt1000_2017_07_29/clusters_14.csv\n",
      "Loading /cms-sc17/graphNN/prod_mu10_pt1000_2017_07_29/clusters_15.csv\n",
      "Applying selections\n",
      "CPU times: user 636 ms, sys: 632 ms, total: 1.27 s\n",
      "Wall time: 5min 18s\n"
     ]
    }
   ],
   "source": [
    "%%time\n",
    "\n",
    "n_workers = 10\n",
    "with mp.Pool(processes=n_workers) as pool:\n",
    "    hits = process_hits_files(hits_files, pool)\n",
    "    print('Applying selections')\n",
    "    hits = pool.map(select_hits, hits)\n",
    "\n",
    "# Concatenate everything together\n",
    "hits = pd.concat(hits, ignore_index=True)"
   ]
  },
  {
   "cell_type": "markdown",
   "metadata": {},
   "source": [
    "### Construct the dataset"
   ]
  },
  {
   "cell_type": "code",
   "execution_count": 8,
   "metadata": {},
   "outputs": [
    {
     "data": {
      "text/plain": [
       "(95209, 2)"
      ]
     },
     "execution_count": 8,
     "metadata": {},
     "output_type": "execute_result"
    }
   ],
   "source": [
    "# Select the particle keys\n",
    "particle_keys = hits[['evtid', 'barcode']].drop_duplicates().values\n",
    "np.random.shuffle(particle_keys)\n",
    "particle_keys.shape"
   ]
  },
  {
   "cell_type": "code",
   "execution_count": 9,
   "metadata": {},
   "outputs": [
    {
     "name": "stdout",
     "output_type": "stream",
     "text": [
      "Preparing 6347 samples with 15 tracks each\n"
     ]
    }
   ],
   "source": [
    "# Data config\n",
    "n_tracks = 15\n",
    "n_samples = particle_keys.shape[0] // n_tracks\n",
    "feature_names = ['r', 'phi', 'z']\n",
    "n_features = len(feature_names)\n",
    "feature_scale = np.array([1000., np.pi, 1000.])\n",
    "print('Preparing', n_samples, 'samples with', n_tracks, 'tracks each')\n",
    "assert n_samples <= (particle_keys.shape[0] // n_tracks), 'Not enough tracks!'"
   ]
  },
  {
   "cell_type": "code",
   "execution_count": 10,
   "metadata": {},
   "outputs": [
    {
     "data": {
      "text/plain": [
       "(150, 2025)"
      ]
     },
     "execution_count": 10,
     "metadata": {},
     "output_type": "execute_result"
    }
   ],
   "source": [
    "# Fixed number of hits and edges per sample in this dataset\n",
    "n_det_layers = hits.layer.unique().shape[0]\n",
    "n_hits = n_tracks * n_det_layers\n",
    "n_edges = n_tracks**2 * (n_det_layers - 1)\n",
    "edge_idx = np.arange(n_edges)\n",
    "n_hits, n_edges"
   ]
  },
  {
   "cell_type": "code",
   "execution_count": 11,
   "metadata": {},
   "outputs": [],
   "source": [
    "# Pre-allocate the dataset storage\n",
    "full_X = np.zeros((n_samples, n_hits, n_features))\n",
    "full_Ri = np.zeros((n_samples, n_hits, n_edges), dtype=np.uint8)\n",
    "full_Ro = np.zeros((n_samples, n_hits, n_edges), dtype=np.uint8)\n",
    "full_y = np.zeros((n_samples, n_edges), dtype=np.uint8)"
   ]
  },
  {
   "cell_type": "code",
   "execution_count": 12,
   "metadata": {},
   "outputs": [
    {
     "name": "stdout",
     "output_type": "stream",
     "text": [
      "CPU times: user 1min 1s, sys: 1.34 s, total: 1min 2s\n",
      "Wall time: 1min 2s\n"
     ]
    }
   ],
   "source": [
    "%%time\n",
    "\n",
    "sig_groups = hits.groupby(['evtid', 'barcode'])\n",
    "\n",
    "# Loop over samples\n",
    "for i in range(n_samples):\n",
    "    # Pick out the particles for this sample\n",
    "    sample_keys = particle_keys[i*n_tracks:(i+1)*n_tracks]\n",
    "    sample_hits = pd.concat([sig_groups.get_group(tuple(k)) for k in sample_keys])\n",
    "\n",
    "    # Select adjacent-layer hit pairs.\n",
    "    sample_layers = sample_hits.layer.values\n",
    "    adj_idx = np.stack(np.where((sample_layers[None,:] - sample_layers[:,None]) == 1), axis=1)\n",
    "    \n",
    "    # Fill the adjacency matrices\n",
    "    full_Ri[i, adj_idx[:,1], edge_idx] = 1\n",
    "    full_Ro[i, adj_idx[:,0], edge_idx] = 1\n",
    "    \n",
    "    # Fill the node features\n",
    "    full_X[i] = sample_hits[feature_names].values / feature_scale\n",
    "    \n",
    "    # Fill the edge labels\n",
    "    barcodes = sample_hits.barcode.values\n",
    "    bc_in = np.matmul(barcodes[None], full_Ri[i]).squeeze(0)\n",
    "    bc_out = np.matmul(barcodes[None], full_Ro[i]).squeeze(0)\n",
    "    full_y[i] = (bc_in == bc_out)"
   ]
  },
  {
   "cell_type": "markdown",
   "metadata": {},
   "source": [
    "### Visualize one sample\n",
    "\n",
    "Need to put this code into a function, and write it so it will be easy to use\n",
    "at model evaluation time (e.g., using model representation of the data)."
   ]
  },
  {
   "cell_type": "code",
   "execution_count": 13,
   "metadata": {},
   "outputs": [],
   "source": [
    "def draw_sample(X, Ri, Ro, y, cmap='bwr_r', alpha_labels=False):\n",
    "    \"\"\"\n",
    "    TODO: make segment coloring configurable.\n",
    "    \"\"\"\n",
    "    # Select the i/o node features for each segment\n",
    "    feats_o = X[np.where(Ri.T)[1]]\n",
    "    feats_i = X[np.where(Ro.T)[1]]\n",
    "    # Prepare the figure\n",
    "    fig, (ax0, ax1) = plt.subplots(1, 2, figsize=(9,4))\n",
    "    cmap = plt.get_cmap(cmap)\n",
    "    \n",
    "    # Draw the hits (r, phi, z)\n",
    "    ax0.scatter(X[:,2], X[:,0], c='k')\n",
    "    ax1.scatter(X[:,1], X[:,0], c='k')\n",
    "    \n",
    "    # Draw the segments\n",
    "    for j in range(y.shape[0]):\n",
    "        if alpha_labels:\n",
    "            seg_args = dict(c='k', alpha=float(y[j]))\n",
    "        else:\n",
    "            seg_args = dict(c=cmap(float(y[j])))\n",
    "        ax0.plot([feats_o[j,2], feats_i[j,2]],\n",
    "                 [feats_o[j,0], feats_i[j,0]], '-', **seg_args)\n",
    "        ax1.plot([feats_o[j,1], feats_i[j,1]],\n",
    "                 [feats_o[j,0], feats_i[j,0]], '-', **seg_args)\n",
    "    # Adjust axes\n",
    "    #ax0.set_xlim(-1100, 1100)\n",
    "    ax1.set_xlim(-np.pi, np.pi)\n",
    "    ax0.set_xlabel('$z$ [mm]')\n",
    "    ax1.set_xlabel('$\\phi$ [rad]')\n",
    "    ax0.set_ylabel('$r$ [mm]')\n",
    "    ax1.set_ylabel('$r$ [mm]')\n",
    "    plt.tight_layout()"
   ]
  },
  {
   "cell_type": "code",
   "execution_count": 14,
   "metadata": {},
   "outputs": [
    {
     "data": {
      "image/png": "[encoded data removed]",
      "text/plain": [
       "<Figure size 648x288 with 2 Axes>"
      ]
     },
     "metadata": {},
     "output_type": "display_data"
    }
   ],
   "source": [
    "# Choose a sample to draw\n",
    "i = 0\n",
    "X = full_X[i] * feature_scale\n",
    "Ri, Ro = full_Ri[i], full_Ro[i]\n",
    "y = full_y[i]\n",
    "\n",
    "draw_sample(X, Ri, Ro, y)"
   ]
  },
  {
   "cell_type": "markdown",
   "metadata": {},
   "source": [
    "## Define the model"
   ]
  },
  {
   "cell_type": "code",
   "execution_count": 15,
   "metadata": {},
   "outputs": [],
   "source": [
    "class EdgeNetwork(nn.Module):\n",
    "    \"\"\"\n",
    "    A module which computes weights for edges of the graph.\n",
    "    For each edge, it selects the associated nodes' features\n",
    "    and applies some fully-connected network layers with a final\n",
    "    sigmoid activation.\n",
    "    \"\"\"\n",
    "    def __init__(self, input_dim, hidden_dim=8, hidden_activation=nn.Tanh):\n",
    "        super(EdgeNetwork, self).__init__()\n",
    "        self.network = nn.Sequential(\n",
    "            nn.Linear(input_dim*2, hidden_dim),\n",
    "            hidden_activation(),\n",
    "            nn.Linear(hidden_dim, 1),\n",
    "            nn.Sigmoid())\n",
    "    def forward(self, X, Ri, Ro):\n",
    "        # Select the features of the associated nodes\n",
    "        bo = torch.matmul(Ro.transpose(1, 2), X)\n",
    "        bi = torch.matmul(Ri.transpose(1, 2), X)\n",
    "        B = torch.cat([bo, bi], dim=2)\n",
    "        # Apply the network to each edge\n",
    "        return self.network(B).squeeze(-1)\n",
    "\n",
    "class NodeNetwork(nn.Module):\n",
    "    \"\"\"\n",
    "    A module which computes new node features on the graph.\n",
    "    For each node, it aggregates the neighbor node features\n",
    "    (separately on the input and output side), and combines\n",
    "    them with the node's previous features in a fully-connected\n",
    "    network to compute the new features.\n",
    "    \"\"\"\n",
    "    def __init__(self, input_dim, output_dim, hidden_activation=nn.Tanh):\n",
    "        super(NodeNetwork, self).__init__()\n",
    "        self.network = nn.Sequential(\n",
    "            nn.Linear(input_dim*3, output_dim),\n",
    "            hidden_activation(),\n",
    "            nn.Linear(output_dim, output_dim),\n",
    "            hidden_activation())\n",
    "    def forward(self, X, e, Ri, Ro):\n",
    "        bo = torch.matmul(Ro.transpose(1, 2), X)\n",
    "        bi = torch.matmul(Ri.transpose(1, 2), X)\n",
    "        Rwo = Ro * e[:,None]\n",
    "        Rwi = Ri * e[:,None]\n",
    "        mi = torch.matmul(Rwi, bo)\n",
    "        mo = torch.matmul(Rwo, bi)\n",
    "        M = torch.cat([mi, mo, X], dim=2)\n",
    "        return self.network(M)\n",
    "\n",
    "class SegmentClassifier(nn.Module):\n",
    "    def __init__(self, input_dim=2, hidden_dim=8, n_iters=3, hidden_activation=nn.Tanh):\n",
    "        super(SegmentClassifier, self).__init__()\n",
    "        self.n_iters = n_iters\n",
    "        # Setup the input network\n",
    "        self.input_network = nn.Sequential(\n",
    "            nn.Linear(input_dim, hidden_dim),\n",
    "            hidden_activation())\n",
    "        # Setup the edge network\n",
    "        self.edge_network = EdgeNetwork(input_dim+hidden_dim, hidden_dim, hidden_activation)\n",
    "        # Setup the node layers\n",
    "        self.node_network = NodeNetwork(input_dim+hidden_dim, hidden_dim, hidden_activation)\n",
    "\n",
    "    def forward(self, inputs):\n",
    "        \"\"\"Apply forward pass of the model\"\"\"\n",
    "        X, Ri, Ro = inputs\n",
    "        # Apply input network to get hidden representation\n",
    "        H = self.input_network(X)\n",
    "        # Shortcut connect the inputs onto the hidden representation\n",
    "        H = torch.cat([H, X], dim=-1)\n",
    "        # Loop over iterations of edge and node networks\n",
    "        for i in range(self.n_iters):\n",
    "            # Apply edge network\n",
    "            e = self.edge_network(H, Ri, Ro)\n",
    "            # Apply node network\n",
    "            H = self.node_network(H, e, Ri, Ro)\n",
    "            # Shortcut connect the inputs onto the hidden representation\n",
    "            H = torch.cat([H, X], dim=-1)\n",
    "        # Apply final edge network\n",
    "        return self.edge_network(H, Ri, Ro)"
   ]
  },
  {
   "cell_type": "markdown",
   "metadata": {},
   "source": [
    "## Train the model"
   ]
  },
  {
   "cell_type": "code",
   "execution_count": 16,
   "metadata": {},
   "outputs": [],
   "source": [
    "# Develop a batch generator here\n",
    "def batch_generator(X, Ri, Ro, y, n_samples=1, batch_size=1, train=True):\n",
    "    volatile = not train\n",
    "    batch_idxs = np.arange(0, n_samples, batch_size)\n",
    "    # Loop over epochs\n",
    "    while True:\n",
    "        # Loop over batches\n",
    "        for j in batch_idxs:\n",
    "            batch_X = np_to_torch(X[j:j+batch_size], volatile=volatile)\n",
    "            batch_Ri = np_to_torch(Ri[j:j+batch_size], volatile=volatile)\n",
    "            batch_Ro = np_to_torch(Ro[j:j+batch_size], volatile=volatile)\n",
    "            batch_y = np_to_torch(y[j:j+batch_size], volatile=volatile)\n",
    "            batch_inputs = [batch_X, batch_Ri, batch_Ro]\n",
    "            yield batch_inputs, batch_y"
   ]
  },
  {
   "cell_type": "code",
   "execution_count": 17,
   "metadata": {},
   "outputs": [],
   "source": [
    "# Model config\n",
    "hidden_dim = 32\n",
    "n_iters = 4\n",
    "\n",
    "# Training config\n",
    "batch_size = 32\n",
    "n_epochs = 13\n",
    "valid_frac = 0.2\n",
    "test_frac = 0.2"
   ]
  },
  {
   "cell_type": "code",
   "execution_count": 18,
   "metadata": {},
   "outputs": [
    {
     "data": {
      "text/plain": [
       "(3840, 1248, 1248, 6336)"
      ]
     },
     "execution_count": 18,
     "metadata": {},
     "output_type": "execute_result"
    }
   ],
   "source": [
    "# We round by batch_size to avoid partial batches\n",
    "n_test = int(n_samples * test_frac) // batch_size * batch_size\n",
    "n_valid = int(n_samples * valid_frac) // batch_size * batch_size\n",
    "n_train = (n_samples - n_valid - n_test) // batch_size * batch_size\n",
    "n_train_batches = n_train // batch_size\n",
    "n_valid_batches = n_valid // batch_size\n",
    "n_test_batches = n_test // batch_size\n",
    "\n",
    "n_train, n_valid, n_test, n_train + n_valid + n_test"
   ]
  },
  {
   "cell_type": "code",
   "execution_count": 19,
   "metadata": {},
   "outputs": [],
   "source": [
    "# Partition the dataset\n",
    "(train_X, test_X, train_Ri, test_Ri, train_Ro, test_Ro, train_y, test_y) = (\n",
    "    train_test_split(full_X, full_Ri, full_Ro, full_y, test_size=n_test))\n",
    "(train_X, valid_X, train_Ri, valid_Ri, train_Ro, valid_Ro, train_y, valid_y) = (\n",
    "    train_test_split(train_X, train_Ri, train_Ro, train_y, test_size=n_valid))"
   ]
  },
  {
   "cell_type": "code",
   "execution_count": 20,
   "metadata": {},
   "outputs": [
    {
     "name": "stdout",
     "output_type": "stream",
     "text": [
      "Train shapes: (3851, 150, 3) (3851, 150, 2025) (3851, 150, 2025) (3851, 2025)\n",
      "Valid shapes: (1248, 150, 3) (1248, 150, 2025) (1248, 150, 2025) (1248, 2025)\n",
      "Test shapes:  (1248, 150, 3) (1248, 150, 2025) (1248, 150, 2025) (1248, 2025)\n"
     ]
    }
   ],
   "source": [
    "print('Train shapes:', train_X.shape, train_Ri.shape, train_Ro.shape, train_y.shape)\n",
    "print('Valid shapes:', valid_X.shape, valid_Ri.shape, valid_Ro.shape, valid_y.shape)\n",
    "print('Test shapes: ', test_X.shape, test_Ri.shape, test_Ro.shape, test_y.shape)"
   ]
  },
  {
   "cell_type": "code",
   "execution_count": 21,
   "metadata": {},
   "outputs": [],
   "source": [
    "# Prepare the batch generators\n",
    "train_batcher = batch_generator(train_X, train_Ri, train_Ro, train_y,\n",
    "                                n_samples=n_train, batch_size=batch_size)\n",
    "valid_batcher = batch_generator(valid_X, valid_Ri, valid_Ro, valid_y, train=False,\n",
    "                                n_samples=n_valid, batch_size=batch_size)\n",
    "test_batcher = batch_generator(test_X, test_Ri, test_Ro, test_y, train=False,\n",
    "                               n_samples=n_test, batch_size=batch_size)"
   ]
  },
  {
   "cell_type": "code",
   "execution_count": 22,
   "metadata": {},
   "outputs": [
    {
     "name": "stdout",
     "output_type": "stream",
     "text": [
      "2018-07-10 19:06:04.406954 Model: \n",
      "SegmentClassifier(\n",
      "  (input_network): Sequential(\n",
      "    (0): Linear(in_features=3, out_features=32, bias=True)\n",
      "    (1): Tanh()\n",
      "  )\n",
      "  (edge_network): EdgeNetwork(\n",
      "    (network): Sequential(\n",
      "      (0): Linear(in_features=70, out_features=32, bias=True)\n",
      "      (1): Tanh()\n",
      "      (2): Linear(in_features=32, out_features=1, bias=True)\n",
      "      (3): Sigmoid()\n",
      "    )\n",
      "  )\n",
      "  (node_network): NodeNetwork(\n",
      "    (network): Sequential(\n",
      "      (0): Linear(in_features=105, out_features=32, bias=True)\n",
      "      (1): Tanh()\n",
      "      (2): Linear(in_features=32, out_features=32, bias=True)\n",
      "      (3): Tanh()\n",
      "    )\n",
      "  )\n",
      ")\n",
      "2018-07-10 19:06:04.407573 Parameters: 6881\n"
     ]
    }
   ],
   "source": [
    "# Construct the model\n",
    "model = SegmentClassifier(input_dim=n_features, hidden_dim=hidden_dim, n_iters=n_iters)\n",
    "loss_func = nn.BCELoss()\n",
    "estim = Estimator(model, loss_func=loss_func, cuda=cuda)"
   ]
  },
  {
   "cell_type": "code",
   "execution_count": 23,
   "metadata": {},
   "outputs": [],
   "source": [
    "#estim.load_checkpoint('Prune/000001.pt')"
   ]
  },
  {
   "cell_type": "code",
   "execution_count": 24,
   "metadata": {
    "scrolled": true
   },
   "outputs": [
    {
     "name": "stdout",
     "output_type": "stream",
     "text": [
      "2018-07-10 19:06:04.436544 Epoch 0\n",
      "2018-07-10 19:06:29.847542   training loss 0.273 time 25.4107s\n"
     ]
    },
    {
     "name": "stderr",
     "output_type": "stream",
     "text": [
      "/home/ec2-user/miniconda3/envs/pytorch-training/lib/python3.6/site-packages/ipykernel_launcher.py:3: UserWarning: volatile was removed and now has no effect. Use `with torch.no_grad():` instead.\n",
      "  This is separate from the ipykernel package so we can avoid doing imports until\n"
     ]
    },
    {
     "name": "stdout",
     "output_type": "stream",
     "text": [
      "2018-07-10 19:06:35.698309   validate loss 0.247\n",
      "2018-07-10 19:06:35.698431  save checkpoint\n",
      "2018-07-10 19:06:35.777643 Epoch 1\n",
      "2018-07-10 19:07:00.970185   training loss 0.246 time 25.1924s\n",
      "2018-07-10 19:07:06.878103   validate loss 0.246\n",
      "2018-07-10 19:07:06.878215  save checkpoint\n",
      "2018-07-10 19:07:06.881046 Epoch 2\n",
      "2018-07-10 19:07:32.291837   training loss 0.245 time 25.4107s\n",
      "2018-07-10 19:07:38.141928   validate loss 0.244\n",
      "2018-07-10 19:07:38.142063  save checkpoint\n",
      "2018-07-10 19:07:38.145634 Epoch 3\n",
      "2018-07-10 19:08:03.481838   training loss 0.241 time 25.3361s\n",
      "2018-07-10 19:08:09.364188   validate loss 0.238\n",
      "2018-07-10 19:08:09.364307  save checkpoint\n",
      "2018-07-10 19:08:09.367159 Epoch 4\n",
      "2018-07-10 19:08:34.773881   training loss 0.235 time 25.4066s\n",
      "2018-07-10 19:08:40.631644   validate loss 0.232\n",
      "2018-07-10 19:08:40.631950  save checkpoint\n",
      "2018-07-10 19:08:40.634608 Epoch 5\n",
      "2018-07-10 19:09:05.935275   training loss 0.231 time 25.3006s\n",
      "2018-07-10 19:09:11.782306   validate loss 0.23\n",
      "2018-07-10 19:09:11.782419  save checkpoint\n",
      "2018-07-10 19:09:11.785305 Epoch 6\n",
      "2018-07-10 19:09:37.305113   training loss 0.228 time 25.5196s\n",
      "2018-07-10 19:09:43.251812   validate loss 0.226\n",
      "2018-07-10 19:09:43.251927  save checkpoint\n",
      "2018-07-10 19:09:43.254821 Epoch 7\n",
      "2018-07-10 19:10:08.838168   training loss 0.216 time 25.5831s\n",
      "2018-07-10 19:10:14.775916   validate loss 0.206\n",
      "2018-07-10 19:10:14.776034  save checkpoint\n",
      "2018-07-10 19:10:14.778871 Epoch 8\n",
      "2018-07-10 19:10:40.439018   training loss 0.203 time 25.6601s\n",
      "2018-07-10 19:10:46.417628   validate loss 0.2\n",
      "2018-07-10 19:10:46.417949  save checkpoint\n",
      "2018-07-10 19:10:46.420765 Epoch 9\n",
      "2018-07-10 19:11:11.994040   training loss 0.199 time 25.5731s\n",
      "2018-07-10 19:11:17.940890   validate loss 0.198\n",
      "2018-07-10 19:11:17.941003  save checkpoint\n",
      "2018-07-10 19:11:17.943813 Epoch 10\n",
      "2018-07-10 19:11:43.615847   training loss 0.197 time 25.672s\n",
      "2018-07-10 19:11:49.562020   validate loss 0.196\n",
      "2018-07-10 19:11:49.562132  save checkpoint\n",
      "2018-07-10 19:11:49.564987 Epoch 11\n",
      "2018-07-10 19:12:15.149531   training loss 0.194 time 25.5845s\n",
      "2018-07-10 19:12:21.093650   validate loss 0.192\n",
      "2018-07-10 19:12:21.093762  save checkpoint\n",
      "2018-07-10 19:12:21.096583 Epoch 12\n",
      "2018-07-10 19:12:46.835010   training loss 0.189 time 25.7384s\n",
      "2018-07-10 19:12:52.809355   validate loss 0.183\n",
      "2018-07-10 19:12:52.809478  save checkpoint\n"
     ]
    }
   ],
   "source": [
    "estim.fit_gen(train_batcher, n_batches=n_train_batches, n_epochs=n_epochs,\n",
    "              valid_generator=valid_batcher, n_valid_batches=n_valid_batches, \n",
    "              filename='Prune/000001.pt')"
   ]
  },
  {
   "cell_type": "code",
   "execution_count": 25,
   "metadata": {},
   "outputs": [],
   "source": [
    "#estim.load_checkpoint('Prune/0.pt')"
   ]
  },
  {
   "cell_type": "markdown",
   "metadata": {},
   "source": [
    "### Loss curves"
   ]
  },
  {
   "cell_type": "code",
   "execution_count": 26,
   "metadata": {},
   "outputs": [
    {
     "data": {
      "image/png": "[encoded data removed]",
      "text/plain": [
       "<Figure size 432x288 with 1 Axes>"
      ]
     },
     "metadata": {},
     "output_type": "display_data"
    }
   ],
   "source": [
    "# Plot the loss\n",
    "plt.figure()\n",
    "plt.plot(estim.train_losses, label='training set')\n",
    "plt.plot(estim.valid_losses, label='validation set')\n",
    "plt.xlabel('Epoch')\n",
    "plt.ylabel('Loss')\n",
    "plt.legend(loc=0);"
   ]
  },
  {
   "cell_type": "markdown",
   "metadata": {},
   "source": [
    "## Evaluate model on the test set"
   ]
  },
  {
   "cell_type": "code",
   "execution_count": null,
   "metadata": {},
   "outputs": [],
   "source": [
    "test_pred = torch_to_np(estim.predict(test_batcher, n_test_batches))"
   ]
  },
  {
   "cell_type": "code",
   "execution_count": null,
   "metadata": {},
   "outputs": [],
   "source": [
    "flat_y = test_y.flatten()\n",
    "flat_pred = test_pred.flatten()\n",
    "thresh = 0.5\n",
    "\n",
    "print('Test set results with threshold of', thresh)\n",
    "print('Accuracy:  %.4f' % sklearn.metrics.accuracy_score(flat_y, flat_pred>thresh))\n",
    "print('Precision: %.4f' % sklearn.metrics.precision_score(flat_y, flat_pred>thresh))\n",
    "print('Recall:    %.4f' % sklearn.metrics.recall_score(flat_y, flat_pred>thresh))"
   ]
  },
  {
   "cell_type": "code",
   "execution_count": null,
   "metadata": {},
   "outputs": [],
   "source": [
    "# Compute the ROC curve\n",
    "fpr, tpr, _ = sklearn.metrics.roc_curve(flat_y, flat_pred)"
   ]
  },
  {
   "cell_type": "code",
   "execution_count": null,
   "metadata": {},
   "outputs": [],
   "source": [
    "plt.figure(figsize=(9,4))\n",
    "\n",
    "# Plot the model outputs\n",
    "plt.subplot(121)\n",
    "binning=dict(bins=50, range=(0,1), histtype='bar')\n",
    "plt.hist(flat_pred[flat_y<0.5], label='fake', **binning)\n",
    "plt.hist(flat_pred[flat_y>0.5], label='true', **binning)\n",
    "#plt.xlim(.1,.125)\n",
    "plt.xlabel('Model output')\n",
    "plt.legend(loc=0)\n",
    "\n",
    "# Plot the ROC curve\n",
    "plt.subplot(122)\n",
    "plt.plot(fpr, tpr)\n",
    "plt.plot([0, 1], [0, 1], '--')\n",
    "plt.xlabel('False positive rate')\n",
    "plt.ylabel('True positive rate')\n",
    "plt.title('ROC curve')\n",
    "\n",
    "plt.tight_layout()"
   ]
  },
  {
   "cell_type": "code",
   "execution_count": null,
   "metadata": {},
   "outputs": [],
   "source": [
    "arr = torch_to_np(model.input_network[0].weight)\n",
    "arr = arr.flatten()\n",
    "%matplotlib inline\n",
    "plt.figure(figsize=(15,4))\n",
    "\n",
    "plt.subplot(1,2,1)\n",
    "plt.hist(arr, bins=100)\n",
    "plt.xlabel('Weight')\n",
    "plt.ylabel('Frequency')\n",
    "plt.title('Input Network')\n",
    "\n",
    "plt.subplot(1,2,2)\n",
    "arr = [abs(x) for x in arr]\n",
    "plt.hist(arr, bins=100)\n",
    "plt.xlabel('|Weight|')\n",
    "plt.ylabel('Frequency')\n",
    "plt.title('Input Network-Absolute Value')\n",
    "\n",
    "plt.show()\n",
    "\n",
    "plt.hist(arr, bins=250)\n",
    "plt.xscale('log',basex=2)\n",
    "plt.xlim([2**-8,1])\n",
    "plt.xlabel('Weight')\n",
    "plt.ylabel('Frequency')\n",
    "plt.title('Input Network')\n",
    "\n",
    "###################################################\n",
    "\n",
    "plt.figure(figsize=(15,4))\n",
    "\n",
    "plt.subplot(2,2,1)\n",
    "arr_e = torch_to_np(model.edge_network.network[0].weight)\n",
    "arr_e = arr_e.flatten()\n",
    "plt.hist(arr_e, bins=100, range=(-1,1))\n",
    "plt.xlabel('Weight')\n",
    "plt.ylabel('Frequency')\n",
    "plt.title('Edge Network')\n",
    "\n",
    "plt.subplot(2,2,2)\n",
    "arr_e2 = [abs(x) for x in arr_e]\n",
    "plt.hist(arr_e2, bins=100, range=(0,1))\n",
    "plt.xlabel('|Weight|')\n",
    "plt.ylabel('Frequency')\n",
    "plt.title('Edge Network-Absolute Value')\n",
    "\n",
    "plt.subplot(2,2,3)\n",
    "arr_e3 = arr_e2\n",
    "#arr_e3 = [math.log(x)/math.log(2) for x in arr_e2]\n",
    "plt.hist(arr_e3, bins=1000, range=(2**-11, 2**-0))\n",
    "plt.xscale('log',basex=2)\n",
    "#plt.xlim([2**-13,2**-4])\n",
    "plt.xlabel('Log')\n",
    "plt.ylabel('Frequency')\n",
    "plt.title('Edge Network-Log2')\n",
    "\n",
    "plt.show()\n",
    "\n",
    "####################################################\n",
    "\n",
    "plt.figure(figsize=(15,4))\n",
    "\n",
    "plt.subplot(2,2,1)\n",
    "arr_n = torch_to_np(model.node_network.network[0].weight)\n",
    "arr_n = arr_n.flatten()\n",
    "plt.hist(arr_n, bins=100, range=(-1,1))\n",
    "plt.xlabel('Weight')\n",
    "plt.ylabel('Frequency')\n",
    "plt.title('Node Network')\n",
    "\n",
    "plt.subplot(2,2,2)\n",
    "arr_n = [abs(x) for x in arr_n]\n",
    "plt.hist(arr_n, bins=100, range=(0,1))\n",
    "plt.xlabel('|Weight|')\n",
    "plt.ylabel('Frequency')\n",
    "plt.title('Node Network-Absolute Value')\n",
    "\n",
    "plt.subplot(2,2,3)\n",
    "#arr_e3 = [math.log(x)/math.log(2) for x in arr_e2]\n",
    "plt.hist(arr_n, bins=1000, range=(2**-11, 2**-0))\n",
    "plt.xscale('log',basex=2)\n",
    "#plt.xlim([2**-19,2**-4])\n",
    "plt.xlabel('Log')\n",
    "plt.ylabel('Frequency')\n",
    "plt.title('Node Network-Log2')\n",
    "\n",
    "plt.show()"
   ]
  },
  {
   "cell_type": "markdown",
   "metadata": {},
   "source": [
    "## Visualize some samples"
   ]
  },
  {
   "cell_type": "code",
   "execution_count": null,
   "metadata": {
    "scrolled": false
   },
   "outputs": [],
   "source": [
    "# Draw some samples\n",
    "for i in range(4):\n",
    "    print('accuracy %.3f, precision %.3f, recall %.3f' % (\n",
    "        sklearn.metrics.accuracy_score(test_y[i], test_pred[i]>thresh),\n",
    "        sklearn.metrics.precision_score(test_y[i], test_pred[i]>thresh),\n",
    "        sklearn.metrics.recall_score(test_y[i], test_pred[i]>thresh)))\n",
    "    draw_sample(test_X[i]*feature_scale, test_Ri[i], test_Ro[i], test_pred[i], alpha_labels=True);"
   ]
  },
  {
   "cell_type": "markdown",
   "metadata": {},
   "source": [
    "## Visualize evolution of graph iterations\n",
    "\n",
    "Let's take a sample and pull out the intermediate edge scores during graph iterations.\n",
    "I'd like to visualize how the model converges on its chosen edges."
   ]
  },
  {
   "cell_type": "code",
   "execution_count": null,
   "metadata": {},
   "outputs": [],
   "source": [
    "def graph_iter(model, X, H, Ri, Ro):\n",
    "    # Shortcut connections\n",
    "    H = torch.cat([H, X], dim=-1)\n",
    "    # Edge network\n",
    "    e = model.edge_network(H, Ri, Ro)\n",
    "    # Node network\n",
    "    H = model.node_network(H, e, Ri, Ro)\n",
    "    return e, H"
   ]
  },
  {
   "cell_type": "code",
   "execution_count": null,
   "metadata": {},
   "outputs": [],
   "source": [
    "batcher = batch_generator(test_X, test_Ri, test_Ro, test_y, train=False,\n",
    "                          n_samples=1, batch_size=1)"
   ]
  },
  {
   "cell_type": "code",
   "execution_count": null,
   "metadata": {},
   "outputs": [],
   "source": [
    "model = estim.model"
   ]
  },
  {
   "cell_type": "code",
   "execution_count": null,
   "metadata": {},
   "outputs": [],
   "source": [
    "# Pull the inputs from the batcher\n",
    "(X, Ri, Ro), y = next(batcher)"
   ]
  },
  {
   "cell_type": "code",
   "execution_count": null,
   "metadata": {
    "scrolled": false
   },
   "outputs": [],
   "source": [
    "# Apply input network\n",
    "H = model.input_network(X)\n",
    "\n",
    "for i in range(model.n_iters + 1):\n",
    "    # Apply an iteration of the graph\n",
    "    e, H = graph_iter(model, X, H, Ri, Ro)\n",
    "\n",
    "    # Draw the edges\n",
    "    draw_sample(torch_to_np(X)[0]*feature_scale,\n",
    "                torch_to_np(Ri)[0], torch_to_np(Ro)[0],\n",
    "                torch_to_np(e)[0], alpha_labels=True)"
   ]
  },
  {
   "cell_type": "markdown",
   "metadata": {},
   "source": [
    "## Discussion\n",
    "\n",
    "On 10 tracks and 10 barrel layers, the performance is great!"
   ]
  }
 ],
 "metadata": {
  "kernelspec": {
   "display_name": "Python 3",
   "language": "python",
   "name": "python3"
  },
  "language_info": {
   "codemirror_mode": {
    "name": "ipython",
    "version": 3
   },
   "file_extension": ".py",
   "mimetype": "text/x-python",
   "name": "python",
   "nbconvert_exporter": "python",
   "pygments_lexer": "ipython3",
   "version": "3.6.5"
  }
 },
 "nbformat": 4,
 "nbformat_minor": 2
}
